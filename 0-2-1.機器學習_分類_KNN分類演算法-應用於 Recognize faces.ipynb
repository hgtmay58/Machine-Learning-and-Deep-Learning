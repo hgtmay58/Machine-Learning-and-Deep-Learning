{
 "cells": [
  {
   "cell_type": "markdown",
   "metadata": {},
   "source": [
    "## 實作練習  Recognize faces with a K-nearest neighbors classifier 採用 sklearn 套件\n",
    "### 資料來源 參考文件\n",
    "https://github.com/ageitgey/face_recognition/tree/master/examples"
   ]
  },
  {
   "cell_type": "markdown",
   "metadata": {},
   "source": [
    "### install CMake for windows and add it to your system environment variables.\n",
    "https://cmake.org/download/\n",
    "\n",
    "\n",
    "### Download dlib\n",
    "https://raw.githubusercontent.com/Billyas/python-dlib/master/dist/dlib-19.23.0-cp39-cp39-win_amd64.whl"
   ]
  },
  {
   "cell_type": "code",
   "execution_count": 2,
   "metadata": {},
   "outputs": [
    {
     "name": "stdout",
     "output_type": "stream",
     "text": [
      "Collecting cmake\n",
      "  Downloading cmake-3.25.2-py2.py3-none-win_amd64.whl (32.6 MB)\n",
      "     ---------------------------------------- 32.6/32.6 MB 5.2 MB/s eta 0:00:00\n",
      "Installing collected packages: cmake\n",
      "Successfully installed cmake-3.25.2\n"
     ]
    }
   ],
   "source": [
    "!pip install cmake"
   ]
  },
  {
   "cell_type": "code",
   "execution_count": 3,
   "metadata": {},
   "outputs": [
    {
     "name": "stdout",
     "output_type": "stream",
     "text": [
      "Collecting dlib\n",
      "  Using cached dlib-19.24.0.tar.gz (3.2 MB)\n",
      "  Preparing metadata (setup.py): started\n",
      "  Preparing metadata (setup.py): finished with status 'done'\n",
      "Building wheels for collected packages: dlib\n",
      "  Building wheel for dlib (setup.py): started\n",
      "  Building wheel for dlib (setup.py): finished with status 'error'\n",
      "  Running setup.py clean for dlib\n",
      "Failed to build dlib\n",
      "Installing collected packages: dlib\n",
      "  Running setup.py install for dlib: started\n",
      "  Running setup.py install for dlib: finished with status 'error'\n"
     ]
    },
    {
     "name": "stderr",
     "output_type": "stream",
     "text": [
      "  error: subprocess-exited-with-error\n",
      "  \n",
      "  python setup.py bdist_wheel did not run successfully.\n",
      "  exit code: 1\n",
      "  \n",
      "  [70 lines of output]\n",
      "  running bdist_wheel\n",
      "  running build\n",
      "  running build_py\n",
      "  running build_ext\n",
      "  C:\\Users\\hgtma\\AppData\\Local\\Temp\\pip-install-zlpnpogr\\dlib_b2dfe2dbf0eb464bbe6af61d2cfa781d\\setup.py:129: DeprecationWarning: distutils Version classes are deprecated. Use packaging.version instead.\n",
      "    if LooseVersion(cmake_version) < '3.1.0':\n",
      "  Building extension for Python 3.9.13 (main, Aug 25 2022, 23:51:50) [MSC v.1916 64 bit (AMD64)]\n",
      "  Invoking CMake setup: 'cmake C:\\Users\\hgtma\\AppData\\Local\\Temp\\pip-install-zlpnpogr\\dlib_b2dfe2dbf0eb464bbe6af61d2cfa781d\\tools\\python -DCMAKE_LIBRARY_OUTPUT_DIRECTORY=C:\\Users\\hgtma\\AppData\\Local\\Temp\\pip-install-zlpnpogr\\dlib_b2dfe2dbf0eb464bbe6af61d2cfa781d\\build\\lib.win-amd64-cpython-39 -DPYTHON_EXECUTABLE=d:\\Users\\hgtma\\anaconda3\\python.exe -DCMAKE_LIBRARY_OUTPUT_DIRECTORY_RELEASE=C:\\Users\\hgtma\\AppData\\Local\\Temp\\pip-install-zlpnpogr\\dlib_b2dfe2dbf0eb464bbe6af61d2cfa781d\\build\\lib.win-amd64-cpython-39 -A x64'\n",
      "  -- Building for: NMake Makefiles\n",
      "  CMake Error at CMakeLists.txt:5 (message):\n",
      "  \n",
      "  \n",
      "  \n",
      "    !!!!!!!!!!!!!!!!!!!!!!!!!!!!!!!!!!!!!!!!!!!!!!!!!!!!!!!!!!!!!!!!!!!!!!!!!!!!!!!\n",
      "  \n",
      "  \n",
      "    You must use Visual Studio to build a python extension on windows.  If you\n",
      "    are getting this error it means you have not installed Visual C++.  Note\n",
      "    that there are many flavors of Visual Studio, like Visual Studio for C#\n",
      "    development.  You need to install Visual Studio for C++.\n",
      "  \n",
      "  \n",
      "    !!!!!!!!!!!!!!!!!!!!!!!!!!!!!!!!!!!!!!!!!!!!!!!!!!!!!!!!!!!!!!!!!!!!!!!!!!!!!!!\n",
      "  \n",
      "  \n",
      "  \n",
      "  \n",
      "  -- Configuring incomplete, errors occurred!\n",
      "  Traceback (most recent call last):\n",
      "    File \"<string>\", line 2, in <module>\n",
      "    File \"<pip-setuptools-caller>\", line 34, in <module>\n",
      "    File \"C:\\Users\\hgtma\\AppData\\Local\\Temp\\pip-install-zlpnpogr\\dlib_b2dfe2dbf0eb464bbe6af61d2cfa781d\\setup.py\", line 222, in <module>\n",
      "      setup(\n",
      "    File \"d:\\Users\\hgtma\\anaconda3\\lib\\site-packages\\setuptools\\__init__.py\", line 87, in setup\n",
      "      return distutils.core.setup(**attrs)\n",
      "    File \"d:\\Users\\hgtma\\anaconda3\\lib\\site-packages\\setuptools\\_distutils\\core.py\", line 185, in setup\n",
      "      return run_commands(dist)\n",
      "    File \"d:\\Users\\hgtma\\anaconda3\\lib\\site-packages\\setuptools\\_distutils\\core.py\", line 201, in run_commands\n",
      "      dist.run_commands()\n",
      "    File \"d:\\Users\\hgtma\\anaconda3\\lib\\site-packages\\setuptools\\_distutils\\dist.py\", line 973, in run_commands\n",
      "      self.run_command(cmd)\n",
      "    File \"d:\\Users\\hgtma\\anaconda3\\lib\\site-packages\\setuptools\\dist.py\", line 1217, in run_command\n",
      "      super().run_command(command)\n",
      "    File \"d:\\Users\\hgtma\\anaconda3\\lib\\site-packages\\setuptools\\_distutils\\dist.py\", line 992, in run_command\n",
      "      cmd_obj.run()\n",
      "    File \"d:\\Users\\hgtma\\anaconda3\\lib\\site-packages\\wheel\\bdist_wheel.py\", line 299, in run\n",
      "      self.run_command('build')\n",
      "    File \"d:\\Users\\hgtma\\anaconda3\\lib\\site-packages\\setuptools\\_distutils\\cmd.py\", line 319, in run_command\n",
      "      self.distribution.run_command(command)\n",
      "    File \"d:\\Users\\hgtma\\anaconda3\\lib\\site-packages\\setuptools\\dist.py\", line 1217, in run_command\n",
      "      super().run_command(command)\n",
      "    File \"d:\\Users\\hgtma\\anaconda3\\lib\\site-packages\\setuptools\\_distutils\\dist.py\", line 992, in run_command\n",
      "      cmd_obj.run()\n",
      "    File \"d:\\Users\\hgtma\\anaconda3\\lib\\site-packages\\setuptools\\command\\build.py\", line 24, in run\n",
      "      super().run()\n",
      "    File \"d:\\Users\\hgtma\\anaconda3\\lib\\site-packages\\setuptools\\_distutils\\command\\build.py\", line 132, in run\n",
      "      self.run_command(cmd_name)\n",
      "    File \"d:\\Users\\hgtma\\anaconda3\\lib\\site-packages\\setuptools\\_distutils\\cmd.py\", line 319, in run_command\n",
      "      self.distribution.run_command(command)\n",
      "    File \"d:\\Users\\hgtma\\anaconda3\\lib\\site-packages\\setuptools\\dist.py\", line 1217, in run_command\n",
      "      super().run_command(command)\n",
      "    File \"d:\\Users\\hgtma\\anaconda3\\lib\\site-packages\\setuptools\\_distutils\\dist.py\", line 992, in run_command\n",
      "      cmd_obj.run()\n",
      "    File \"C:\\Users\\hgtma\\AppData\\Local\\Temp\\pip-install-zlpnpogr\\dlib_b2dfe2dbf0eb464bbe6af61d2cfa781d\\setup.py\", line 134, in run\n",
      "      self.build_extension(ext)\n",
      "    File \"C:\\Users\\hgtma\\AppData\\Local\\Temp\\pip-install-zlpnpogr\\dlib_b2dfe2dbf0eb464bbe6af61d2cfa781d\\setup.py\", line 171, in build_extension\n",
      "      subprocess.check_call(cmake_setup, cwd=build_folder)\n",
      "    File \"d:\\Users\\hgtma\\anaconda3\\lib\\subprocess.py\", line 373, in check_call\n",
      "      raise CalledProcessError(retcode, cmd)\n",
      "  subprocess.CalledProcessError: Command '['cmake', 'C:\\\\Users\\\\hgtma\\\\AppData\\\\Local\\\\Temp\\\\pip-install-zlpnpogr\\\\dlib_b2dfe2dbf0eb464bbe6af61d2cfa781d\\\\tools\\\\python', '-DCMAKE_LIBRARY_OUTPUT_DIRECTORY=C:\\\\Users\\\\hgtma\\\\AppData\\\\Local\\\\Temp\\\\pip-install-zlpnpogr\\\\dlib_b2dfe2dbf0eb464bbe6af61d2cfa781d\\\\build\\\\lib.win-amd64-cpython-39', '-DPYTHON_EXECUTABLE=d:\\\\Users\\\\hgtma\\\\anaconda3\\\\python.exe', '-DCMAKE_LIBRARY_OUTPUT_DIRECTORY_RELEASE=C:\\\\Users\\\\hgtma\\\\AppData\\\\Local\\\\Temp\\\\pip-install-zlpnpogr\\\\dlib_b2dfe2dbf0eb464bbe6af61d2cfa781d\\\\build\\\\lib.win-amd64-cpython-39', '-A', 'x64']' returned non-zero exit status 1.\n",
      "  [end of output]\n",
      "  \n",
      "  note: This error originates from a subprocess, and is likely not a problem with pip.\n",
      "  ERROR: Failed building wheel for dlib\n",
      "  error: subprocess-exited-with-error\n",
      "  \n",
      "  Running setup.py install for dlib did not run successfully.\n",
      "  exit code: 1\n",
      "  \n",
      "  [74 lines of output]\n",
      "  running install\n",
      "  d:\\Users\\hgtma\\anaconda3\\lib\\site-packages\\setuptools\\command\\install.py:34: SetuptoolsDeprecationWarning: setup.py install is deprecated. Use build and pip and other standards-based tools.\n",
      "    warnings.warn(\n",
      "  running build\n",
      "  running build_py\n",
      "  running build_ext\n",
      "  C:\\Users\\hgtma\\AppData\\Local\\Temp\\pip-install-zlpnpogr\\dlib_b2dfe2dbf0eb464bbe6af61d2cfa781d\\setup.py:129: DeprecationWarning: distutils Version classes are deprecated. Use packaging.version instead.\n",
      "    if LooseVersion(cmake_version) < '3.1.0':\n",
      "  Building extension for Python 3.9.13 (main, Aug 25 2022, 23:51:50) [MSC v.1916 64 bit (AMD64)]\n",
      "  Invoking CMake setup: 'cmake C:\\Users\\hgtma\\AppData\\Local\\Temp\\pip-install-zlpnpogr\\dlib_b2dfe2dbf0eb464bbe6af61d2cfa781d\\tools\\python -DCMAKE_LIBRARY_OUTPUT_DIRECTORY=C:\\Users\\hgtma\\AppData\\Local\\Temp\\pip-install-zlpnpogr\\dlib_b2dfe2dbf0eb464bbe6af61d2cfa781d\\build\\lib.win-amd64-cpython-39 -DPYTHON_EXECUTABLE=d:\\Users\\hgtma\\anaconda3\\python.exe -DCMAKE_LIBRARY_OUTPUT_DIRECTORY_RELEASE=C:\\Users\\hgtma\\AppData\\Local\\Temp\\pip-install-zlpnpogr\\dlib_b2dfe2dbf0eb464bbe6af61d2cfa781d\\build\\lib.win-amd64-cpython-39 -A x64'\n",
      "  -- Building for: NMake Makefiles\n",
      "  CMake Error at CMakeLists.txt:5 (message):\n",
      "  \n",
      "  \n",
      "  \n",
      "    !!!!!!!!!!!!!!!!!!!!!!!!!!!!!!!!!!!!!!!!!!!!!!!!!!!!!!!!!!!!!!!!!!!!!!!!!!!!!!!\n",
      "  \n",
      "  \n",
      "    You must use Visual Studio to build a python extension on windows.  If you\n",
      "    are getting this error it means you have not installed Visual C++.  Note\n",
      "    that there are many flavors of Visual Studio, like Visual Studio for C#\n",
      "    development.  You need to install Visual Studio for C++.\n",
      "  \n",
      "  \n",
      "    !!!!!!!!!!!!!!!!!!!!!!!!!!!!!!!!!!!!!!!!!!!!!!!!!!!!!!!!!!!!!!!!!!!!!!!!!!!!!!!\n",
      "  \n",
      "  \n",
      "  \n",
      "  \n",
      "  -- Configuring incomplete, errors occurred!\n",
      "  Traceback (most recent call last):\n",
      "    File \"<string>\", line 2, in <module>\n",
      "    File \"<pip-setuptools-caller>\", line 34, in <module>\n",
      "    File \"C:\\Users\\hgtma\\AppData\\Local\\Temp\\pip-install-zlpnpogr\\dlib_b2dfe2dbf0eb464bbe6af61d2cfa781d\\setup.py\", line 222, in <module>\n",
      "      setup(\n",
      "    File \"d:\\Users\\hgtma\\anaconda3\\lib\\site-packages\\setuptools\\__init__.py\", line 87, in setup\n",
      "      return distutils.core.setup(**attrs)\n",
      "    File \"d:\\Users\\hgtma\\anaconda3\\lib\\site-packages\\setuptools\\_distutils\\core.py\", line 185, in setup\n",
      "      return run_commands(dist)\n",
      "    File \"d:\\Users\\hgtma\\anaconda3\\lib\\site-packages\\setuptools\\_distutils\\core.py\", line 201, in run_commands\n",
      "      dist.run_commands()\n",
      "    File \"d:\\Users\\hgtma\\anaconda3\\lib\\site-packages\\setuptools\\_distutils\\dist.py\", line 973, in run_commands\n",
      "      self.run_command(cmd)\n",
      "    File \"d:\\Users\\hgtma\\anaconda3\\lib\\site-packages\\setuptools\\dist.py\", line 1217, in run_command\n",
      "      super().run_command(command)\n",
      "    File \"d:\\Users\\hgtma\\anaconda3\\lib\\site-packages\\setuptools\\_distutils\\dist.py\", line 992, in run_command\n",
      "      cmd_obj.run()\n",
      "    File \"d:\\Users\\hgtma\\anaconda3\\lib\\site-packages\\setuptools\\command\\install.py\", line 68, in run\n",
      "      return orig.install.run(self)\n",
      "    File \"d:\\Users\\hgtma\\anaconda3\\lib\\site-packages\\setuptools\\_distutils\\command\\install.py\", line 692, in run\n",
      "      self.run_command('build')\n",
      "    File \"d:\\Users\\hgtma\\anaconda3\\lib\\site-packages\\setuptools\\_distutils\\cmd.py\", line 319, in run_command\n",
      "      self.distribution.run_command(command)\n",
      "    File \"d:\\Users\\hgtma\\anaconda3\\lib\\site-packages\\setuptools\\dist.py\", line 1217, in run_command\n",
      "      super().run_command(command)\n",
      "    File \"d:\\Users\\hgtma\\anaconda3\\lib\\site-packages\\setuptools\\_distutils\\dist.py\", line 992, in run_command\n",
      "      cmd_obj.run()\n",
      "    File \"d:\\Users\\hgtma\\anaconda3\\lib\\site-packages\\setuptools\\command\\build.py\", line 24, in run\n",
      "      super().run()\n",
      "    File \"d:\\Users\\hgtma\\anaconda3\\lib\\site-packages\\setuptools\\_distutils\\command\\build.py\", line 132, in run\n",
      "      self.run_command(cmd_name)\n",
      "    File \"d:\\Users\\hgtma\\anaconda3\\lib\\site-packages\\setuptools\\_distutils\\cmd.py\", line 319, in run_command\n",
      "      self.distribution.run_command(command)\n",
      "    File \"d:\\Users\\hgtma\\anaconda3\\lib\\site-packages\\setuptools\\dist.py\", line 1217, in run_command\n",
      "      super().run_command(command)\n",
      "    File \"d:\\Users\\hgtma\\anaconda3\\lib\\site-packages\\setuptools\\_distutils\\dist.py\", line 992, in run_command\n",
      "      cmd_obj.run()\n",
      "    File \"C:\\Users\\hgtma\\AppData\\Local\\Temp\\pip-install-zlpnpogr\\dlib_b2dfe2dbf0eb464bbe6af61d2cfa781d\\setup.py\", line 134, in run\n",
      "      self.build_extension(ext)\n",
      "    File \"C:\\Users\\hgtma\\AppData\\Local\\Temp\\pip-install-zlpnpogr\\dlib_b2dfe2dbf0eb464bbe6af61d2cfa781d\\setup.py\", line 171, in build_extension\n",
      "      subprocess.check_call(cmake_setup, cwd=build_folder)\n",
      "    File \"d:\\Users\\hgtma\\anaconda3\\lib\\subprocess.py\", line 373, in check_call\n",
      "      raise CalledProcessError(retcode, cmd)\n",
      "  subprocess.CalledProcessError: Command '['cmake', 'C:\\\\Users\\\\hgtma\\\\AppData\\\\Local\\\\Temp\\\\pip-install-zlpnpogr\\\\dlib_b2dfe2dbf0eb464bbe6af61d2cfa781d\\\\tools\\\\python', '-DCMAKE_LIBRARY_OUTPUT_DIRECTORY=C:\\\\Users\\\\hgtma\\\\AppData\\\\Local\\\\Temp\\\\pip-install-zlpnpogr\\\\dlib_b2dfe2dbf0eb464bbe6af61d2cfa781d\\\\build\\\\lib.win-amd64-cpython-39', '-DPYTHON_EXECUTABLE=d:\\\\Users\\\\hgtma\\\\anaconda3\\\\python.exe', '-DCMAKE_LIBRARY_OUTPUT_DIRECTORY_RELEASE=C:\\\\Users\\\\hgtma\\\\AppData\\\\Local\\\\Temp\\\\pip-install-zlpnpogr\\\\dlib_b2dfe2dbf0eb464bbe6af61d2cfa781d\\\\build\\\\lib.win-amd64-cpython-39', '-A', 'x64']' returned non-zero exit status 1.\n",
      "  [end of output]\n",
      "  \n",
      "  note: This error originates from a subprocess, and is likely not a problem with pip.\n",
      "error: legacy-install-failure\n",
      "\n",
      "Encountered error while trying to install package.\n",
      "\n",
      "dlib\n",
      "\n",
      "note: This is an issue with the package mentioned above, not pip.\n",
      "hint: See above for output from the failure.\n"
     ]
    }
   ],
   "source": [
    "!pip install dlib"
   ]
  },
  {
   "cell_type": "code",
   "execution_count": 4,
   "metadata": {},
   "outputs": [
    {
     "name": "stdout",
     "output_type": "stream",
     "text": [
      "Processing d:\\python_ai\\dlib-19.23.0-cp39-cp39-win_amd64.whl\n",
      "Installing collected packages: dlib\n",
      "Successfully installed dlib-19.23.0\n"
     ]
    }
   ],
   "source": [
    "!pip install dlib-19.23.0-cp39-cp39-win_amd64.whl"
   ]
  },
  {
   "cell_type": "code",
   "execution_count": 5,
   "metadata": {},
   "outputs": [
    {
     "name": "stdout",
     "output_type": "stream",
     "text": [
      "Collecting face_recognition\n",
      "  Using cached face_recognition-1.3.0-py2.py3-none-any.whl (15 kB)\n",
      "Requirement already satisfied: dlib>=19.7 in d:\\users\\hgtma\\anaconda3\\lib\\site-packages (from face_recognition) (19.23.0)\n",
      "Requirement already satisfied: Click>=6.0 in d:\\users\\hgtma\\anaconda3\\lib\\site-packages (from face_recognition) (7.1.2)\n",
      "Requirement already satisfied: face-recognition-models>=0.3.0 in d:\\users\\hgtma\\anaconda3\\lib\\site-packages (from face_recognition) (0.3.0)\n",
      "Requirement already satisfied: Pillow in d:\\users\\hgtma\\anaconda3\\lib\\site-packages (from face_recognition) (9.2.0)\n",
      "Requirement already satisfied: numpy in d:\\users\\hgtma\\anaconda3\\lib\\site-packages (from face_recognition) (1.21.5)\n",
      "Installing collected packages: face_recognition\n",
      "Successfully installed face_recognition-1.3.0\n"
     ]
    }
   ],
   "source": [
    "!pip install face_recognition"
   ]
  },
  {
   "cell_type": "code",
   "execution_count": 6,
   "metadata": {},
   "outputs": [
    {
     "name": "stdout",
     "output_type": "stream",
     "text": [
      "Training KNN classifier...\n",
      "Training complete!\n",
      "Looking for faces in alex_lacamoire1.jpg\n",
      "- Found alex_lacamoire at (633, 206)\n"
     ]
    },
    {
     "name": "stderr",
     "output_type": "stream",
     "text": [
      "C:\\Users\\hgtma\\AppData\\Local\\Temp\\ipykernel_17000\\916864841.py:155: DeprecationWarning: textsize is deprecated and will be removed in Pillow 10 (2023-07-01). Use textbbox or textlength instead.\n",
      "  text_width, text_height = draw.textsize(name)\n"
     ]
    },
    {
     "name": "stdout",
     "output_type": "stream",
     "text": [
      "Looking for faces in johnsnow_test1.jpg\n",
      "- Found kit_harington at (262, 180)\n"
     ]
    },
    {
     "name": "stderr",
     "output_type": "stream",
     "text": [
      "C:\\Users\\hgtma\\AppData\\Local\\Temp\\ipykernel_17000\\916864841.py:155: DeprecationWarning: textsize is deprecated and will be removed in Pillow 10 (2023-07-01). Use textbbox or textlength instead.\n",
      "  text_width, text_height = draw.textsize(name)\n"
     ]
    },
    {
     "name": "stdout",
     "output_type": "stream",
     "text": [
      "Looking for faces in kit_with_rose.jpg\n",
      "- Found rose_leslie at (79, 130)\n",
      "- Found kit_harington at (247, 92)\n"
     ]
    },
    {
     "name": "stderr",
     "output_type": "stream",
     "text": [
      "C:\\Users\\hgtma\\AppData\\Local\\Temp\\ipykernel_17000\\916864841.py:155: DeprecationWarning: textsize is deprecated and will be removed in Pillow 10 (2023-07-01). Use textbbox or textlength instead.\n",
      "  text_width, text_height = draw.textsize(name)\n",
      "C:\\Users\\hgtma\\AppData\\Local\\Temp\\ipykernel_17000\\916864841.py:155: DeprecationWarning: textsize is deprecated and will be removed in Pillow 10 (2023-07-01). Use textbbox or textlength instead.\n",
      "  text_width, text_height = draw.textsize(name)\n"
     ]
    },
    {
     "name": "stdout",
     "output_type": "stream",
     "text": [
      "Looking for faces in obama1.jpg\n",
      "- Found obama at (546, 204)\n"
     ]
    },
    {
     "name": "stderr",
     "output_type": "stream",
     "text": [
      "C:\\Users\\hgtma\\AppData\\Local\\Temp\\ipykernel_17000\\916864841.py:155: DeprecationWarning: textsize is deprecated and will be removed in Pillow 10 (2023-07-01). Use textbbox or textlength instead.\n",
      "  text_width, text_height = draw.textsize(name)\n"
     ]
    },
    {
     "name": "stdout",
     "output_type": "stream",
     "text": [
      "Looking for faces in obama_and_biden.jpg\n",
      "- Found biden at (737, 449)\n",
      "- Found obama at (1133, 390)\n",
      "- Found unknown at (1594, 1062)\n"
     ]
    },
    {
     "name": "stderr",
     "output_type": "stream",
     "text": [
      "C:\\Users\\hgtma\\AppData\\Local\\Temp\\ipykernel_17000\\916864841.py:155: DeprecationWarning: textsize is deprecated and will be removed in Pillow 10 (2023-07-01). Use textbbox or textlength instead.\n",
      "  text_width, text_height = draw.textsize(name)\n",
      "C:\\Users\\hgtma\\AppData\\Local\\Temp\\ipykernel_17000\\916864841.py:155: DeprecationWarning: textsize is deprecated and will be removed in Pillow 10 (2023-07-01). Use textbbox or textlength instead.\n",
      "  text_width, text_height = draw.textsize(name)\n",
      "C:\\Users\\hgtma\\AppData\\Local\\Temp\\ipykernel_17000\\916864841.py:155: DeprecationWarning: textsize is deprecated and will be removed in Pillow 10 (2023-07-01). Use textbbox or textlength instead.\n",
      "  text_width, text_height = draw.textsize(name)\n"
     ]
    }
   ],
   "source": [
    "\"\"\"\n",
    "This is an example of using the k-nearest-neighbors (KNN) algorithm for face recognition.\n",
    "When should I use this example?\n",
    "This example is useful when you wish to recognize a large set of known people,\n",
    "and make a prediction for an unknown person in a feasible computation time.\n",
    "Algorithm Description:\n",
    "The knn classifier is first trained on a set of labeled (known) faces and can then predict the person\n",
    "in an unknown image by finding the k most similar faces (images with closet face-features under eucledian distance)\n",
    "in its training set, and performing a majority vote (possibly weighted) on their label.\n",
    "For example, if k=3, and the three closest face images to the given image in the training set are one image of Biden\n",
    "and two images of Obama, The result would be 'Obama'.\n",
    "* This implementation uses a weighted vote, such that the votes of closer-neighbors are weighted more heavily.\n",
    "Usage:\n",
    "1. Prepare a set of images of the known people you want to recognize. Organize the images in a single directory\n",
    "   with a sub-directory for each known person.\n",
    "2. Then, call the 'train' function with the appropriate parameters. Make sure to pass in the 'model_save_path' if you\n",
    "   want to save the model to disk so you can re-use the model without having to re-train it.\n",
    "3. Call 'predict' and pass in your trained model to recognize the people in an unknown image.\n",
    "NOTE: This example requires scikit-learn to be installed! You can install it with pip:\n",
    "$ pip3 install scikit-learn\n",
    "\"\"\"\n",
    "import math\n",
    "from sklearn import neighbors\n",
    "import os\n",
    "import os.path\n",
    "import pickle   #Python庫：序列化和反序列化模塊pickle\n",
    "from PIL import Image, ImageDraw\n",
    "import face_recognition\n",
    "from face_recognition.face_recognition_cli import image_files_in_folder\n",
    "\n",
    "ALLOWED_EXTENSIONS = {'png', 'jpg', 'jpeg'}\n",
    "\n",
    "\n",
    "def train(train_dir, model_save_path=None, n_neighbors=None, knn_algo='ball_tree', verbose=False):\n",
    "    \"\"\"\n",
    "    Trains a k-nearest neighbors classifier for face recognition.\n",
    "    :param train_dir: directory that contains a sub-directory for each known person, with its name.\n",
    "     (View in source code to see train_dir example tree structure)\n",
    "     Structure:\n",
    "        <train_dir>/\n",
    "        ├── <person1>/\n",
    "        │   ├── <somename1>.jpeg\n",
    "        │   ├── <somename2>.jpeg\n",
    "        │   ├── ...\n",
    "        ├── <person2>/\n",
    "        │   ├── <somename1>.jpeg\n",
    "        │   └── <somename2>.jpeg\n",
    "        └── ...\n",
    "    :param model_save_path: (optional) path to save model on disk\n",
    "    :param n_neighbors: (optional) number of neighbors to weigh in classification. Chosen automatically if not specified\n",
    "    :param knn_algo: (optional) underlying data structure to support knn.default is ball_tree\n",
    "    :param verbose: verbosity of training(冗長的訓練)\n",
    "    :return: returns knn classifier that was trained on the given data.\n",
    "    \"\"\"\n",
    "    X = []\n",
    "    y = []\n",
    "\n",
    "    # Loop through each person in the training set\n",
    "    for class_dir in os.listdir(train_dir):\n",
    "        if not os.path.isdir(os.path.join(train_dir, class_dir)):\n",
    "            continue\n",
    "\n",
    "        # Loop through each training image for the current person\n",
    "        for img_path in image_files_in_folder(os.path.join(train_dir, class_dir)):\n",
    "            image = face_recognition.load_image_file(img_path)\n",
    "            face_bounding_boxes = face_recognition.face_locations(image)\n",
    "\n",
    "            if len(face_bounding_boxes) != 1:\n",
    "                # If there are no people (or too many people) in a training image, skip the image.\n",
    "                if verbose:\n",
    "                    print(\"Image {} not suitable for training: {}\".format(img_path, \"Didn't find a face\" if len(face_bounding_boxes) < 1 else \"Found more than one face\"))\n",
    "            else:\n",
    "                # Add face encoding for current image to the training set\n",
    "                X.append(face_recognition.face_encodings(image, known_face_locations=face_bounding_boxes)[0])\n",
    "                y.append(class_dir)\n",
    "\n",
    "    # Determine how many neighbors to use for weighting in the KNN classifier\n",
    "    if n_neighbors is None:\n",
    "        n_neighbors = int(round(math.sqrt(len(X))))\n",
    "        if verbose:\n",
    "            print(\"Chose n_neighbors automatically:\", n_neighbors)\n",
    "\n",
    "    # Create and train the KNN classifier\n",
    "    knn_clf = neighbors.KNeighborsClassifier(n_neighbors=n_neighbors, algorithm=knn_algo, weights='distance')\n",
    "    knn_clf.fit(X, y)\n",
    "\n",
    "    # Save the trained KNN classifier\n",
    "    if model_save_path is not None:\n",
    "        with open(model_save_path, 'wb') as f:\n",
    "            pickle.dump(knn_clf, f)\n",
    "\n",
    "    return knn_clf\n",
    "\n",
    "\n",
    "def predict(X_img_path, knn_clf=None, model_path=None, distance_threshold=0.6):\n",
    "    \"\"\"\n",
    "    Recognizes faces in given image using a trained KNN classifier\n",
    "    :param X_img_path: path to image to be recognized\n",
    "    :param knn_clf: (optional) a knn classifier object. if not specified, model_save_path must be specified.\n",
    "    :param model_path: (optional) path to a pickled knn classifier. if not specified, model_save_path must be knn_clf.\n",
    "    :param distance_threshold: (optional) distance threshold for face classification. the larger it is, the more chance\n",
    "           of mis-classifying an unknown person as a known one.\n",
    "    :return: a list of names and face locations for the recognized faces in the image: [(name, bounding box), ...].\n",
    "        For faces of unrecognized persons, the name 'unknown' will be returned.\n",
    "    \"\"\"\n",
    "    if not os.path.isfile(X_img_path) or os.path.splitext(X_img_path)[1][1:] not in ALLOWED_EXTENSIONS:\n",
    "        raise Exception(\"Invalid image path: {}\".format(X_img_path))\n",
    "\n",
    "    if knn_clf is None and model_path is None:\n",
    "        raise Exception(\"Must supply knn classifier either thourgh knn_clf or model_path\")\n",
    "\n",
    "    # Load a trained KNN model (if one was passed in)\n",
    "    if knn_clf is None:\n",
    "        with open(model_path, 'rb') as f:\n",
    "            knn_clf = pickle.load(f)\n",
    "\n",
    "    # Load image file and find face locations\n",
    "    X_img = face_recognition.load_image_file(X_img_path)\n",
    "    X_face_locations = face_recognition.face_locations(X_img)\n",
    "\n",
    "    # If no faces are found in the image, return an empty result.\n",
    "    if len(X_face_locations) == 0:\n",
    "        return []\n",
    "\n",
    "    # Find encodings for faces in the test iamge\n",
    "    faces_encodings = face_recognition.face_encodings(X_img, known_face_locations=X_face_locations)\n",
    "\n",
    "    # Use the KNN model to find the best matches for the test face\n",
    "    closest_distances = knn_clf.kneighbors(faces_encodings, n_neighbors=1)\n",
    "    are_matches = [closest_distances[0][i][0] <= distance_threshold for i in range(len(X_face_locations))]\n",
    "\n",
    "    # Predict classes and remove classifications that aren't within the threshold\n",
    "    return [(pred, loc) if rec else (\"unknown\", loc) for pred, loc, rec in zip(knn_clf.predict(faces_encodings), X_face_locations, are_matches)]\n",
    "\n",
    "\n",
    "def show_prediction_labels_on_image(img_path, predictions):\n",
    "    \"\"\"\n",
    "    Shows the face recognition results visually.\n",
    "    :param img_path: path to image to be recognized\n",
    "    :param predictions: results of the predict function\n",
    "    :return:\n",
    "    \"\"\"\n",
    "    pil_image = Image.open(img_path).convert(\"RGB\")\n",
    "    draw = ImageDraw.Draw(pil_image)\n",
    "\n",
    "    for name, (top, right, bottom, left) in predictions:\n",
    "        # Draw a box around the face using the Pillow module\n",
    "        draw.rectangle(((left, top), (right, bottom)), outline=(0, 0, 255))\n",
    "\n",
    "        # There's a bug in Pillow where it blows up with non-UTF-8 text\n",
    "        # when using the default bitmap font\n",
    "        name = name.encode(\"UTF-8\")\n",
    "\n",
    "        # Draw a label with a name below the face\n",
    "        text_width, text_height = draw.textsize(name)\n",
    "        draw.rectangle(((left, bottom - text_height - 10), (right, bottom)), fill=(0, 0, 255), outline=(0, 0, 255))\n",
    "        draw.text((left + 6, bottom - text_height - 5), name, fill=(255, 255, 255, 255))\n",
    "\n",
    "    # Remove the drawing library from memory as per the Pillow docs\n",
    "    del draw\n",
    "\n",
    "    # Display the resulting image\n",
    "    pil_image.show()\n",
    "    img_name = \"f_{}.png\".format(name)\n",
    "    pil_image.save(img_name)\n",
    "\n",
    "if __name__ == \"__main__\":\n",
    "    # STEP 1: Train the KNN classifier and save it to disk\n",
    "    # Once the model is trained and saved, you can skip this step next time.\n",
    "    print(\"Training KNN classifier...\")\n",
    "    classifier = train(\"knn_examples/train\", model_save_path=\"trained_knn_model.clf\", n_neighbors=2)\n",
    "    print(\"Training complete!\")\n",
    "\n",
    "    # STEP 2: Using the trained classifier, make predictions for unknown images\n",
    "    for image_file in os.listdir(\"knn_examples/test\"):\n",
    "        full_file_path = os.path.join(\"knn_examples/test\", image_file)\n",
    "\n",
    "        print(\"Looking for faces in {}\".format(image_file))\n",
    "\n",
    "        # Find all people in the image using a trained classifier model\n",
    "        # Note: You can pass in either a classifier file name or a classifier model instance\n",
    "        predictions = predict(full_file_path, model_path=\"trained_knn_model.clf\")\n",
    "\n",
    "        # Print results on the console\n",
    "        for name, (top, right, bottom, left) in predictions:\n",
    "            print(\"- Found {} at ({}, {})\".format(name, left, top))\n",
    "\n",
    "        # Display results overlaid on an image\n",
    "        show_prediction_labels_on_image(os.path.join(\"knn_examples/test\", image_file), predictions)"
   ]
  },
  {
   "cell_type": "code",
   "execution_count": 2,
   "metadata": {},
   "outputs": [
    {
     "name": "stdout",
     "output_type": "stream",
     "text": [
      "Collecting rtsp"
     ]
    },
    {
     "name": "stderr",
     "output_type": "stream",
     "text": [
      "mysql-connector-python 8.0.19 has requirement protobuf==3.6.1, but you'll have protobuf 3.14.0 which is incompatible.\n",
      "jupyter-console 5.2.0 has requirement prompt_toolkit<2.0.0,>=1.0.0, but you'll have prompt-toolkit 3.0.8 which is incompatible.\n",
      "You are using pip version 10.0.1, however version 21.3.1 is available.\n",
      "You should consider upgrading via the 'python -m pip install --upgrade pip' command.\n"
     ]
    },
    {
     "name": "stdout",
     "output_type": "stream",
     "text": [
      "\n",
      "  Downloading https://files.pythonhosted.org/packages/ba/98/bffb8b7777f67ad5790aff618029e9b089cfa77a2f364a246c1f42ebdc80/rtsp-1.1.12-py3-none-any.whl\n",
      "Requirement already satisfied: opencv-python in c:\\users\\takming\\anaconda3\\lib\\site-packages (from rtsp) (4.1.0.25)\n",
      "Requirement already satisfied: pillow in c:\\users\\takming\\anaconda3\\lib\\site-packages (from rtsp) (5.1.0)\n",
      "Requirement already satisfied: numpy>=1.11.3 in c:\\users\\takming\\anaconda3\\lib\\site-packages (from opencv-python->rtsp) (1.16.4)\n",
      "Installing collected packages: rtsp\n",
      "Successfully installed rtsp-1.1.12\n"
     ]
    }
   ],
   "source": [
    "#RTSP Package\n",
    "#https://pypi.org/project/rtsp/\n",
    "!pip install rtsp"
   ]
  },
  {
   "cell_type": "code",
   "execution_count": 3,
   "metadata": {},
   "outputs": [],
   "source": [
    "import rtsp\n",
    "\n",
    "with rtsp.Client(rtsp_server_uri = 'rtsp://172.18.105.106:8554/CH001.sdp') as client:\n",
    " \n",
    "    client.preview()"
   ]
  },
  {
   "cell_type": "code",
   "execution_count": 1,
   "metadata": {},
   "outputs": [],
   "source": [
    "import cv2\n",
    "cap = cv2.VideoCapture(\"rtsp://172.18.105.106:8554/CH001.sdp\")\n",
    "\n",
    "while(cap.isOpened()):\n",
    "    ret, frame = cap.read()\n",
    "    cv2.imshow('frame', frame)\n",
    "    if cv2.waitKey(20) & 0xFF == ord('q'):\n",
    "        break\n",
    "cap.release()\n",
    "cv2.destroyAllWindows()"
   ]
  },
  {
   "cell_type": "code",
   "execution_count": null,
   "metadata": {},
   "outputs": [],
   "source": []
  }
 ],
 "metadata": {
  "kernelspec": {
   "display_name": "Python 3 (ipykernel)",
   "language": "python",
   "name": "python3"
  },
  "language_info": {
   "codemirror_mode": {
    "name": "ipython",
    "version": 3
   },
   "file_extension": ".py",
   "mimetype": "text/x-python",
   "name": "python",
   "nbconvert_exporter": "python",
   "pygments_lexer": "ipython3",
   "version": "3.9.13"
  }
 },
 "nbformat": 4,
 "nbformat_minor": 2
}
