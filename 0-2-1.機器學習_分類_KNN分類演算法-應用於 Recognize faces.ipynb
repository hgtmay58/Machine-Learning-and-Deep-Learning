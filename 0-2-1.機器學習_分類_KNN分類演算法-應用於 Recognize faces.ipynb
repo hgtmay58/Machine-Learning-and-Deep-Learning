{
 "cells": [
  {
   "cell_type": "markdown",
   "metadata": {},
   "source": [
    "## 實作練習  Recognize faces with a K-nearest neighbors classifier 採用 sklearn 套件\n",
    "### 資料來源 參考文件\n",
    "https://github.com/ageitgey/face_recognition/tree/master/examples"
   ]
  },
  {
   "cell_type": "markdown",
   "metadata": {},
   "source": [
    "### install CMake for windows and add it to your system environment variables.\n",
    "https://cmake.org/download/\n",
    "\n",
    "\n",
    "### Download dlib\n",
    "https://raw.githubusercontent.com/Billyas/python-dlib/master/dist/dlib-19.23.0-cp39-cp39-win_amd64.whl\n",
    "\n",
    "### RUN on Python 3.9"
   ]
  },
  {
   "cell_type": "code",
   "execution_count": 15,
   "metadata": {},
   "outputs": [
    {
     "name": "stdout",
     "output_type": "stream",
     "text": [
      "Requirement already satisfied: cmake in d:\\users\\hgtma\\anaconda3\\lib\\site-packages (3.29.2)"
     ]
    },
    {
     "name": "stderr",
     "output_type": "stream",
     "text": [
      "WARNING: Ignoring invalid distribution -illow (d:\\users\\hgtma\\anaconda3\\lib\\site-packages)\n",
      "WARNING: Ignoring invalid distribution -illow (d:\\users\\hgtma\\anaconda3\\lib\\site-packages)\n"
     ]
    },
    {
     "name": "stdout",
     "output_type": "stream",
     "text": [
      "\n"
     ]
    }
   ],
   "source": [
    "!pip install cmake"
   ]
  },
  {
   "cell_type": "code",
   "execution_count": 16,
   "metadata": {},
   "outputs": [
    {
     "name": "stdout",
     "output_type": "stream",
     "text": [
      "Requirement already satisfied: dlib in d:\\users\\hgtma\\anaconda3\\lib\\site-packages (19.23.0)\n"
     ]
    },
    {
     "name": "stderr",
     "output_type": "stream",
     "text": [
      "WARNING: Ignoring invalid distribution -illow (d:\\users\\hgtma\\anaconda3\\lib\\site-packages)\n",
      "WARNING: Ignoring invalid distribution -illow (d:\\users\\hgtma\\anaconda3\\lib\\site-packages)\n"
     ]
    }
   ],
   "source": [
    "!pip install dlib"
   ]
  },
  {
   "cell_type": "code",
   "execution_count": 17,
   "metadata": {},
   "outputs": [
    {
     "name": "stdout",
     "output_type": "stream",
     "text": [
      "Processing d:\\python_ai\\dlib-19.23.0-cp39-cp39-win_amd64.whl\n",
      "dlib is already installed with the same version as the provided wheel. Use --force-reinstall to force an installation of the wheel.\n"
     ]
    },
    {
     "name": "stderr",
     "output_type": "stream",
     "text": [
      "WARNING: Ignoring invalid distribution -illow (d:\\users\\hgtma\\anaconda3\\lib\\site-packages)\n",
      "WARNING: Ignoring invalid distribution -illow (d:\\users\\hgtma\\anaconda3\\lib\\site-packages)\n"
     ]
    }
   ],
   "source": [
    "!pip install dlib-19.23.0-cp39-cp39-win_amd64.whl"
   ]
  },
  {
   "cell_type": "code",
   "execution_count": 10,
   "metadata": {},
   "outputs": [
    {
     "name": "stdout",
     "output_type": "stream",
     "text": [
      "^C\n"
     ]
    }
   ],
   "source": [
    "!pip uninstall Pillow"
   ]
  },
  {
   "cell_type": "code",
   "execution_count": 20,
   "metadata": {},
   "outputs": [
    {
     "name": "stdout",
     "output_type": "stream",
     "text": [
      "Collecting Pillow==9.4.0\n",
      "  Obtaining dependency information for Pillow==9.4.0 from https://files.pythonhosted.org/packages/fd/41/6e44769918a4a2f5294a19bbbf12f58138fcb0c1c3df4721bc5fe1c6f3bf/Pillow-9.4.0-cp39-cp39-win_amd64.whl.metadata\n",
      "  Downloading Pillow-9.4.0-cp39-cp39-win_amd64.whl.metadata (9.5 kB)\n",
      "Downloading Pillow-9.4.0-cp39-cp39-win_amd64.whl (2.5 MB)\n",
      "   ---------------------------------------- 0.0/2.5 MB ? eta -:--:--\n",
      "   ---------------------------------------- 0.0/2.5 MB ? eta -:--:--\n",
      "    --------------------------------------- 0.1/2.5 MB 812.7 kB/s eta 0:00:04\n",
      "   -- ------------------------------------- 0.2/2.5 MB 1.6 MB/s eta 0:00:02\n",
      "   ------ --------------------------------- 0.4/2.5 MB 2.7 MB/s eta 0:00:01\n",
      "   -------------- ------------------------- 0.9/2.5 MB 4.4 MB/s eta 0:00:01\n",
      "   ----------------------------- ---------- 1.9/2.5 MB 7.4 MB/s eta 0:00:01\n",
      "   ---------------------------------------  2.5/2.5 MB 8.4 MB/s eta 0:00:01\n",
      "   ---------------------------------------- 2.5/2.5 MB 8.0 MB/s eta 0:00:00\n",
      "Installing collected packages: Pillow\n",
      "  Attempting uninstall: Pillow\n",
      "    Found existing installation: Pillow 9.5.0\n",
      "    Uninstalling Pillow-9.5.0:\n",
      "      Successfully uninstalled Pillow-9.5.0\n",
      "Successfully installed Pillow-9.4.0\n"
     ]
    },
    {
     "name": "stderr",
     "output_type": "stream",
     "text": [
      "WARNING: Ignoring invalid distribution -illow (d:\\users\\hgtma\\anaconda3\\lib\\site-packages)\n",
      "WARNING: Ignoring invalid distribution -illow (d:\\users\\hgtma\\anaconda3\\lib\\site-packages)\n",
      "ERROR: pip's dependency resolver does not currently take into account all the packages that are installed. This behaviour is the source of the following dependency conflicts.\n",
      "paddleocr 2.7.0.3 requires Pillow>=10.0.0, but you have pillow 9.4.0 which is incompatible.\n"
     ]
    }
   ],
   "source": [
    "!pip install Pillow==9.5.0"
   ]
  },
  {
   "cell_type": "code",
   "execution_count": 18,
   "metadata": {},
   "outputs": [
    {
     "name": "stdout",
     "output_type": "stream",
     "text": [
      "Requirement already satisfied: face_recognition in d:\\users\\hgtma\\anaconda3\\lib\\site-packages (1.3.0)\n",
      "Requirement already satisfied: face-recognition-models>=0.3.0 in d:\\users\\hgtma\\anaconda3\\lib\\site-packages (from face_recognition) (0.3.0)\n",
      "Requirement already satisfied: Click>=6.0 in d:\\users\\hgtma\\anaconda3\\lib\\site-packages (from face_recognition) (8.1.7)\n",
      "Requirement already satisfied: dlib>=19.7 in d:\\users\\hgtma\\anaconda3\\lib\\site-packages (from face_recognition) (19.23.0)\n",
      "Requirement already satisfied: numpy in d:\\users\\hgtma\\anaconda3\\lib\\site-packages (from face_recognition) (1.24.3)\n",
      "Requirement already satisfied: Pillow in d:\\users\\hgtma\\anaconda3\\lib\\site-packages (from face_recognition) (9.5.0)\n",
      "Requirement already satisfied: colorama in d:\\users\\hgtma\\anaconda3\\lib\\site-packages (from Click>=6.0->face_recognition) (0.4.6)\n"
     ]
    },
    {
     "name": "stderr",
     "output_type": "stream",
     "text": [
      "WARNING: Ignoring invalid distribution -illow (d:\\users\\hgtma\\anaconda3\\lib\\site-packages)\n",
      "WARNING: Ignoring invalid distribution -illow (d:\\users\\hgtma\\anaconda3\\lib\\site-packages)\n"
     ]
    }
   ],
   "source": [
    "!pip install face_recognition"
   ]
  },
  {
   "cell_type": "code",
   "execution_count": 28,
   "metadata": {},
   "outputs": [],
   "source": [
    "# test draw_text_\n",
    "\n",
    "from PIL import Image, ImageDraw, ImageFont\n",
    "\n",
    "\n",
    "def text(output_path):\n",
    "    image = Image.new(\"RGB\", (200, 200), \"green\")\n",
    "    draw = ImageDraw.Draw(image)\n",
    "    font = ImageFont.load_default()\n",
    "    draw.text((10, 10), \"Hello from\", font=font)\n",
    "    draw.text((10, 25), \"Pillow\", font=font)\n",
    "    image.save(output_path)\n",
    "\n",
    "if __name__ == \"__main__\":\n",
    "    text(\"text.jpg\")"
   ]
  },
  {
   "cell_type": "code",
   "execution_count": 41,
   "metadata": {},
   "outputs": [
    {
     "name": "stdout",
     "output_type": "stream",
     "text": [
      "Training KNN classifier...\n",
      "Training complete!\n",
      "Looking for faces in alex_lacamoire1.jpg\n",
      "- Found alex_lacamoire at (633, 206)\n",
      "Looking for faces in johnsnow_test1.jpg\n",
      "- Found kit_harington at (262, 180)\n",
      "Looking for faces in kit_with_rose.jpg\n",
      "- Found rose_leslie at (79, 130)\n",
      "- Found kit_harington at (247, 92)\n",
      "Looking for faces in obama1.jpg\n",
      "- Found obama at (546, 204)\n",
      "Looking for faces in obama_and_biden.jpg\n",
      "- Found biden at (737, 449)\n",
      "- Found obama at (1133, 390)\n",
      "- Found unknown at (1594, 1062)\n"
     ]
    }
   ],
   "source": [
    "\"\"\"\n",
    "This is an example of using the k-nearest-neighbors (KNN) algorithm for face recognition.\n",
    "When should I use this example?\n",
    "This example is useful when you wish to recognize a large set of known people,\n",
    "and make a prediction for an unknown person in a feasible computation time.\n",
    "Algorithm Description:\n",
    "The knn classifier is first trained on a set of labeled (known) faces and can then predict the person\n",
    "in an unknown image by finding the k most similar faces (images with closet face-features under eucledian distance)\n",
    "in its training set, and performing a majority vote (possibly weighted) on their label.\n",
    "For example, if k=3, and the three closest face images to the given image in the training set are one image of Biden\n",
    "and two images of Obama, The result would be 'Obama'.\n",
    "* This implementation uses a weighted vote, such that the votes of closer-neighbors are weighted more heavily.\n",
    "Usage:\n",
    "1. Prepare a set of images of the known people you want to recognize. Organize the images in a single directory\n",
    "   with a sub-directory for each known person.\n",
    "2. Then, call the 'train' function with the appropriate parameters. Make sure to pass in the 'model_save_path' if you\n",
    "   want to save the model to disk so you can re-use the model without having to re-train it.\n",
    "3. Call 'predict' and pass in your trained model to recognize the people in an unknown image.\n",
    "NOTE: This example requires scikit-learn to be installed! You can install it with pip:\n",
    "$ pip3 install scikit-learn\n",
    "\"\"\"\n",
    "import math\n",
    "from sklearn import neighbors\n",
    "import os\n",
    "import os.path\n",
    "import pickle   #Python庫：序列化和反序列化模塊pickle\n",
    "\n",
    "from PIL import Image, ImageDraw, ImageFont\n",
    "import face_recognition\n",
    "from face_recognition.face_recognition_cli import image_files_in_folder\n",
    "\n",
    "ALLOWED_EXTENSIONS = {'png', 'jpg', 'jpeg'}\n",
    "\n",
    "\n",
    "def train(train_dir, model_save_path=None, n_neighbors=None, knn_algo='ball_tree', verbose=False):\n",
    "    \"\"\"\n",
    "    Trains a k-nearest neighbors classifier for face recognition.\n",
    "    :param train_dir: directory that contains a sub-directory for each known person, with its name.\n",
    "     (View in source code to see train_dir example tree structure)\n",
    "     Structure:\n",
    "        <train_dir>/\n",
    "        ├── <person1>/\n",
    "        │   ├── <somename1>.jpeg\n",
    "        │   ├── <somename2>.jpeg\n",
    "        │   ├── ...\n",
    "        ├── <person2>/\n",
    "        │   ├── <somename1>.jpeg\n",
    "        │   └── <somename2>.jpeg\n",
    "        └── ...\n",
    "    :param model_save_path: (optional) path to save model on disk\n",
    "    :param n_neighbors: (optional) number of neighbors to weigh in classification. Chosen automatically if not specified\n",
    "    :param knn_algo: (optional) underlying data structure to support knn.default is ball_tree\n",
    "    :param verbose: verbosity of training(冗長的訓練)\n",
    "    :return: returns knn classifier that was trained on the given data.\n",
    "    \"\"\"\n",
    "    X = []\n",
    "    y = []\n",
    "\n",
    "    # Loop through each person in the training set\n",
    "    for class_dir in os.listdir(train_dir):\n",
    "        if not os.path.isdir(os.path.join(train_dir, class_dir)):\n",
    "            continue\n",
    "\n",
    "        # Loop through each training image for the current person\n",
    "        for img_path in image_files_in_folder(os.path.join(train_dir, class_dir)):\n",
    "            image = face_recognition.load_image_file(img_path)\n",
    "            face_bounding_boxes = face_recognition.face_locations(image)\n",
    "\n",
    "            if len(face_bounding_boxes) != 1:\n",
    "                # If there are no people (or too many people) in a training image, skip the image.\n",
    "                if verbose:\n",
    "                    print(\"Image {} not suitable for training: {}\".format(img_path, \"Didn't find a face\" if len(face_bounding_boxes) < 1 else \"Found more than one face\"))\n",
    "            else:\n",
    "                # Add face encoding for current image to the training set\n",
    "                X.append(face_recognition.face_encodings(image, known_face_locations=face_bounding_boxes)[0])\n",
    "                y.append(class_dir)\n",
    "\n",
    "    # Determine how many neighbors to use for weighting in the KNN classifier\n",
    "    if n_neighbors is None:\n",
    "        n_neighbors = int(round(math.sqrt(len(X))))\n",
    "        if verbose:\n",
    "            print(\"Chose n_neighbors automatically:\", n_neighbors)\n",
    "\n",
    "    # Create and train the KNN classifier\n",
    "    knn_clf = neighbors.KNeighborsClassifier(n_neighbors=n_neighbors, algorithm=knn_algo, weights='distance')\n",
    "    knn_clf.fit(X, y)\n",
    "\n",
    "    # Save the trained KNN classifier\n",
    "    if model_save_path is not None:\n",
    "        with open(model_save_path, 'wb') as f:\n",
    "            pickle.dump(knn_clf, f)\n",
    "\n",
    "    return knn_clf\n",
    "\n",
    "\n",
    "def predict(X_img_path, knn_clf=None, model_path=None, distance_threshold=0.6):\n",
    "    \"\"\"\n",
    "    Recognizes faces in given image using a trained KNN classifier\n",
    "    :param X_img_path: path to image to be recognized\n",
    "    :param knn_clf: (optional) a knn classifier object. if not specified, model_save_path must be specified.\n",
    "    :param model_path: (optional) path to a pickled knn classifier. if not specified, model_save_path must be knn_clf.\n",
    "    :param distance_threshold: (optional) distance threshold for face classification. the larger it is, the more chance\n",
    "           of mis-classifying an unknown person as a known one.\n",
    "    :return: a list of names and face locations for the recognized faces in the image: [(name, bounding box), ...].\n",
    "        For faces of unrecognized persons, the name 'unknown' will be returned.\n",
    "    \"\"\"\n",
    "    if not os.path.isfile(X_img_path) or os.path.splitext(X_img_path)[1][1:] not in ALLOWED_EXTENSIONS:\n",
    "        raise Exception(\"Invalid image path: {}\".format(X_img_path))\n",
    "\n",
    "    if knn_clf is None and model_path is None:\n",
    "        raise Exception(\"Must supply knn classifier either thourgh knn_clf or model_path\")\n",
    "\n",
    "    # Load a trained KNN model (if one was passed in)\n",
    "    if knn_clf is None:\n",
    "        with open(model_path, 'rb') as f:\n",
    "            knn_clf = pickle.load(f)\n",
    "\n",
    "    # Load image file and find face locations\n",
    "    X_img = face_recognition.load_image_file(X_img_path)\n",
    "    X_face_locations = face_recognition.face_locations(X_img)\n",
    "\n",
    "    # If no faces are found in the image, return an empty result.\n",
    "    if len(X_face_locations) == 0:\n",
    "        return []\n",
    "\n",
    "    # Find encodings for faces in the test iamge\n",
    "    faces_encodings = face_recognition.face_encodings(X_img, known_face_locations=X_face_locations)\n",
    "\n",
    "    # Use the KNN model to find the best matches for the test face\n",
    "    closest_distances = knn_clf.kneighbors(faces_encodings, n_neighbors=1)\n",
    "    are_matches = [closest_distances[0][i][0] <= distance_threshold for i in range(len(X_face_locations))]\n",
    "\n",
    "    # Predict classes and remove classifications that aren't within the threshold\n",
    "    return [(pred, loc) if rec else (\"unknown\", loc) for pred, loc, rec in zip(knn_clf.predict(faces_encodings), X_face_locations, are_matches)]\n",
    "\n",
    "\n",
    "def show_prediction_labels_on_image(img_path, predictions):\n",
    "    \"\"\"\n",
    "    Shows the face recognition results visually.\n",
    "    :param img_path: path to image to be recognized\n",
    "    :param predictions: results of the predict function\n",
    "    :return:\n",
    "    \"\"\"\n",
    "    pil_image = Image.open(img_path).convert(\"RGB\")\n",
    "    draw = ImageDraw.Draw(pil_image)\n",
    "    font = ImageFont.truetype(\"Gidole-Regular.ttf\", size=42)\n",
    "    for name, (top, right, bottom, left) in predictions:\n",
    "        # Draw a box around the face using the Pillow module\n",
    "        draw.rectangle(((left, top), (right, bottom)), outline=(0, 0, 255))\n",
    "\n",
    "        # There's a bug in Pillow where it blows up with non-UTF-8 text\n",
    "        # when using the default bitmap font\n",
    "        #name = name.encode(\"UTF-8\")\n",
    "        #print(name)\n",
    "        # Draw a label with a name below the face\n",
    "        #text_width, text_height = draw.textsize(name)\n",
    "       \n",
    "        left, top, right, bottom = draw.textbbox((0, 0), name,font=font)\n",
    "        text_width, text_height = right - left, bottom - top\n",
    "        #text_width, text_height = 100, 50\n",
    "        draw.rectangle(((left, bottom - text_height - 10), (right, bottom)), fill=(0, 0, 255), outline=(0, 0, 255))\n",
    "        draw.text((left + 6, bottom - text_height - 5), name, fill=(255, 255, 255, 255))\n",
    "\n",
    "    # Remove the drawing library from memory as per the Pillow docs\n",
    "    del draw\n",
    "\n",
    "    # Display the resulting image\n",
    "    pil_image.show()\n",
    "    img_name = \"f_{}.png\".format(name)\n",
    "    pil_image.save(img_name)\n",
    "\n",
    "if __name__ == \"__main__\":\n",
    "    # STEP 1: Train the KNN classifier and save it to disk\n",
    "    # Once the model is trained and saved, you can skip this step next time.\n",
    "    print(\"Training KNN classifier...\")\n",
    "    classifier = train(\"knn_examples/train\", model_save_path=\"trained_knn_model.clf\", n_neighbors=2)\n",
    "    print(\"Training complete!\")\n",
    "\n",
    "    # STEP 2: Using the trained classifier, make predictions for unknown images\n",
    "    for image_file in os.listdir(\"knn_examples/test\"):\n",
    "        full_file_path = os.path.join(\"knn_examples/test\", image_file)\n",
    "\n",
    "        print(\"Looking for faces in {}\".format(image_file))\n",
    "\n",
    "        # Find all people in the image using a trained classifier model\n",
    "        # Note: You can pass in either a classifier file name or a classifier model instance\n",
    "        predictions = predict(full_file_path, model_path=\"trained_knn_model.clf\")\n",
    "\n",
    "        # Print results on the console\n",
    "        for name, (top, right, bottom, left) in predictions:\n",
    "            print(\"- Found {} at ({}, {})\".format(name, left, top))\n",
    "        # Display results overlaid on an image\n",
    "        show_prediction_labels_on_image(os.path.join(\"knn_examples/test\", image_file), predictions)"
   ]
  },
  {
   "cell_type": "code",
   "execution_count": 43,
   "metadata": {},
   "outputs": [
    {
     "name": "stdout",
     "output_type": "stream",
     "text": [
      "Collecting rtsp\n",
      "  Obtaining dependency information for rtsp from https://files.pythonhosted.org/packages/ba/98/bffb8b7777f67ad5790aff618029e9b089cfa77a2f364a246c1f42ebdc80/rtsp-1.1.12-py3-none-any.whl.metadata\n",
      "  Downloading rtsp-1.1.12-py3-none-any.whl.metadata (3.9 kB)\n",
      "Requirement already satisfied: pillow in d:\\users\\hgtma\\anaconda3\\lib\\site-packages (from rtsp) (10.0.0)\n",
      "Requirement already satisfied: opencv-python in d:\\users\\hgtma\\anaconda3\\lib\\site-packages (from rtsp) (4.6.0.66)\n",
      "Requirement already satisfied: numpy>=1.14.5 in d:\\users\\hgtma\\anaconda3\\lib\\site-packages (from opencv-python->rtsp) (1.24.3)\n",
      "Downloading rtsp-1.1.12-py3-none-any.whl (6.4 kB)\n",
      "Installing collected packages: rtsp\n",
      "Successfully installed rtsp-1.1.12\n"
     ]
    },
    {
     "name": "stderr",
     "output_type": "stream",
     "text": [
      "WARNING: Ignoring invalid distribution -illow (d:\\users\\hgtma\\anaconda3\\lib\\site-packages)\n",
      "WARNING: Ignoring invalid distribution -illow (d:\\users\\hgtma\\anaconda3\\lib\\site-packages)\n"
     ]
    }
   ],
   "source": [
    "#RTSP Package\n",
    "#https://pypi.org/project/rtsp/\n",
    "!pip install rtsp"
   ]
  },
  {
   "cell_type": "code",
   "execution_count": null,
   "metadata": {},
   "outputs": [],
   "source": []
  },
  {
   "cell_type": "code",
   "execution_count": 44,
   "metadata": {},
   "outputs": [
    {
     "ename": "error",
     "evalue": "OpenCV(4.8.0) D:\\a\\opencv-python\\opencv-python\\opencv\\modules\\highgui\\src\\window.cpp:1255: error: (-2:Unspecified error) The function is not implemented. Rebuild the library with Windows, GTK+ 2.x or Cocoa support. If you are on Ubuntu or Debian, install libgtk2.0-dev and pkg-config, then re-run cmake or configure script in function 'cvNamedWindow'\n",
     "output_type": "error",
     "traceback": [
      "\u001b[1;31m---------------------------------------------------------------------------\u001b[0m",
      "\u001b[1;31merror\u001b[0m                                     Traceback (most recent call last)",
      "Cell \u001b[1;32mIn[44], line 5\u001b[0m\n\u001b[0;32m      1\u001b[0m \u001b[38;5;28;01mimport\u001b[39;00m \u001b[38;5;21;01mrtsp\u001b[39;00m\n\u001b[0;32m      3\u001b[0m \u001b[38;5;28;01mwith\u001b[39;00m rtsp\u001b[38;5;241m.\u001b[39mClient(rtsp_server_uri \u001b[38;5;241m=\u001b[39m \u001b[38;5;124m'\u001b[39m\u001b[38;5;124mrtsp://172.18.105.106:8554/CH001.sdp\u001b[39m\u001b[38;5;124m'\u001b[39m) \u001b[38;5;28;01mas\u001b[39;00m client:\n\u001b[1;32m----> 5\u001b[0m     \u001b[43mclient\u001b[49m\u001b[38;5;241;43m.\u001b[39;49m\u001b[43mpreview\u001b[49m\u001b[43m(\u001b[49m\u001b[43m)\u001b[49m\n",
      "File \u001b[1;32md:\\Users\\hgtma\\anaconda3\\lib\\site-packages\\rtsp\\ffmpegstream.py:88\u001b[0m, in \u001b[0;36mClient.preview\u001b[1;34m(self)\u001b[0m\n\u001b[0;32m     86\u001b[0m \u001b[38;5;250m\u001b[39m\u001b[38;5;124;03m\"\"\" Blocking function. Opens OpenCV window to display stream. \"\"\"\u001b[39;00m\n\u001b[0;32m     87\u001b[0m win_name \u001b[38;5;241m=\u001b[39m \u001b[38;5;124m'\u001b[39m\u001b[38;5;124mRTSP\u001b[39m\u001b[38;5;124m'\u001b[39m\n\u001b[1;32m---> 88\u001b[0m \u001b[43mcv2\u001b[49m\u001b[38;5;241;43m.\u001b[39;49m\u001b[43mnamedWindow\u001b[49m\u001b[43m(\u001b[49m\u001b[43mwin_name\u001b[49m\u001b[43m,\u001b[49m\u001b[43m \u001b[49m\u001b[43mcv2\u001b[49m\u001b[38;5;241;43m.\u001b[39;49m\u001b[43mWINDOW_AUTOSIZE\u001b[49m\u001b[43m)\u001b[49m\n\u001b[0;32m     89\u001b[0m cv2\u001b[38;5;241m.\u001b[39mmoveWindow(win_name,\u001b[38;5;241m20\u001b[39m,\u001b[38;5;241m20\u001b[39m)\n\u001b[0;32m     90\u001b[0m \u001b[38;5;28;01mwhile\u001b[39;00m(\u001b[38;5;28mself\u001b[39m\u001b[38;5;241m.\u001b[39misOpened()):\n",
      "\u001b[1;31merror\u001b[0m: OpenCV(4.8.0) D:\\a\\opencv-python\\opencv-python\\opencv\\modules\\highgui\\src\\window.cpp:1255: error: (-2:Unspecified error) The function is not implemented. Rebuild the library with Windows, GTK+ 2.x or Cocoa support. If you are on Ubuntu or Debian, install libgtk2.0-dev and pkg-config, then re-run cmake or configure script in function 'cvNamedWindow'\n"
     ]
    }
   ],
   "source": [
    "import rtsp\n",
    "\n",
    "with rtsp.Client(rtsp_server_uri = 'rtsp://172.18.105.106:8554/CH001.sdp') as client:\n",
    " \n",
    "    client.preview()"
   ]
  },
  {
   "cell_type": "code",
   "execution_count": 45,
   "metadata": {},
   "outputs": [
    {
     "ename": "error",
     "evalue": "OpenCV(4.8.0) D:\\a\\opencv-python\\opencv-python\\opencv\\modules\\highgui\\src\\window.cpp:1272: error: (-2:Unspecified error) The function is not implemented. Rebuild the library with Windows, GTK+ 2.x or Cocoa support. If you are on Ubuntu or Debian, install libgtk2.0-dev and pkg-config, then re-run cmake or configure script in function 'cvShowImage'\n",
     "output_type": "error",
     "traceback": [
      "\u001b[1;31m---------------------------------------------------------------------------\u001b[0m",
      "\u001b[1;31merror\u001b[0m                                     Traceback (most recent call last)",
      "Cell \u001b[1;32mIn[45], line 6\u001b[0m\n\u001b[0;32m      4\u001b[0m \u001b[38;5;28;01mwhile\u001b[39;00m(cap\u001b[38;5;241m.\u001b[39misOpened()):\n\u001b[0;32m      5\u001b[0m     ret, frame \u001b[38;5;241m=\u001b[39m cap\u001b[38;5;241m.\u001b[39mread()\n\u001b[1;32m----> 6\u001b[0m     \u001b[43mcv2\u001b[49m\u001b[38;5;241;43m.\u001b[39;49m\u001b[43mimshow\u001b[49m\u001b[43m(\u001b[49m\u001b[38;5;124;43m'\u001b[39;49m\u001b[38;5;124;43mframe\u001b[39;49m\u001b[38;5;124;43m'\u001b[39;49m\u001b[43m,\u001b[49m\u001b[43m \u001b[49m\u001b[43mframe\u001b[49m\u001b[43m)\u001b[49m\n\u001b[0;32m      7\u001b[0m     \u001b[38;5;28;01mif\u001b[39;00m cv2\u001b[38;5;241m.\u001b[39mwaitKey(\u001b[38;5;241m20\u001b[39m) \u001b[38;5;241m&\u001b[39m \u001b[38;5;241m0xFF\u001b[39m \u001b[38;5;241m==\u001b[39m \u001b[38;5;28mord\u001b[39m(\u001b[38;5;124m'\u001b[39m\u001b[38;5;124mq\u001b[39m\u001b[38;5;124m'\u001b[39m):\n\u001b[0;32m      8\u001b[0m         \u001b[38;5;28;01mbreak\u001b[39;00m\n",
      "\u001b[1;31merror\u001b[0m: OpenCV(4.8.0) D:\\a\\opencv-python\\opencv-python\\opencv\\modules\\highgui\\src\\window.cpp:1272: error: (-2:Unspecified error) The function is not implemented. Rebuild the library with Windows, GTK+ 2.x or Cocoa support. If you are on Ubuntu or Debian, install libgtk2.0-dev and pkg-config, then re-run cmake or configure script in function 'cvShowImage'\n"
     ]
    }
   ],
   "source": [
    "import cv2\n",
    "cap = cv2.VideoCapture(\"rtsp://172.18.105.106:8554/CH001.sdp\")\n",
    "\n",
    "while(cap.isOpened()):\n",
    "    ret, frame = cap.read()\n",
    "    cv2.imshow('frame', frame)\n",
    "    if cv2.waitKey(20) & 0xFF == ord('q'):\n",
    "        break\n",
    "cap.release()\n",
    "cv2.destroyAllWindows()"
   ]
  },
  {
   "cell_type": "code",
   "execution_count": null,
   "metadata": {},
   "outputs": [],
   "source": []
  }
 ],
 "metadata": {
  "kernelspec": {
   "display_name": "Python 3 (ipykernel)",
   "language": "python",
   "name": "python3"
  },
  "language_info": {
   "codemirror_mode": {
    "name": "ipython",
    "version": 3
   },
   "file_extension": ".py",
   "mimetype": "text/x-python",
   "name": "python",
   "nbconvert_exporter": "python",
   "pygments_lexer": "ipython3",
   "version": "3.9.18"
  }
 },
 "nbformat": 4,
 "nbformat_minor": 2
}
