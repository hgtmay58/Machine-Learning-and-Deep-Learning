{
 "cells": [
  {
   "cell_type": "markdown",
   "metadata": {},
   "source": [
    "# Exam: Loan approval analysis 貸款審批分析實作\n",
    "## 資料來源 參考文件\n",
    "### https://www.kaggle.com/code/bibekrai44/loan-approval-analysis\n",
    "### https://ithelp.ithome.com.tw/articles/10240494\n",
    "### https://www.796t.com/content/1542164169.html\n",
    "### https://medium.com/@PatHuang/%E5%88%9D%E5%AD%B8python%E6%89%8B%E8%A8%98-3-%E8%B3%87%E6%96%99%E5%89%8D%E8%99%95%E7%90%86-label-encoding-one-hot-encoding-85c983d63f87\n",
    "### https://blog.csdn.net/CherDW/article/details/55813071\n"
   ]
  },
  {
   "cell_type": "markdown",
   "metadata": {},
   "source": [
    "# EXAM1: 請讀取所給之資料集依照下列步驟做出最佳之貸款審批預測模型\n",
    "## 貸款資料集欄位，csv格式的資料。\n",
    "#### 客戶ID：唯一的識別碼\n",
    "#### 年齡：客戶年齡\n",
    "#### 性別：客戶性別，如男，女\n",
    "#### 婚姻狀況：客戶的婚姻狀況，如未婚、已婚、離婚等\n",
    "#### 教育程度：客戶的教育程度，如高中、大學、研究所等\n",
    "#### 職業：客戶的職業，如受雇職員、自營老闆、教師，公務員，軍人，律師，醫生，工程師等\n",
    "#### 年收入：客戶的年收入，以萬元為單位\n",
    "#### 貸款金額：客戶申請的貸款金額，以萬元為單位\n",
    "#### 還款期限：客戶選擇的還款期限，以年為單位\n",
    "#### 信用狀態：客戶的信用分數\n",
    "#### 貸款批准：客戶的貸款是否批准,如 是，否"
   ]
  },
  {
   "cell_type": "markdown",
   "metadata": {},
   "source": [
    "## Step1: Importing necessary libraries\n",
    "##             Importing libraries required for ML"
   ]
  },
  {
   "cell_type": "code",
   "execution_count": 1,
   "metadata": {},
   "outputs": [],
   "source": [
    "import sklearn\n",
    "import os\n",
    "import numpy as np \n",
    "import pandas as pd \n",
    "from matplotlib import pyplot as plt\n",
    "%matplotlib inline\n",
    "import seaborn as sns"
   ]
  },
  {
   "cell_type": "code",
   "execution_count": 2,
   "metadata": {},
   "outputs": [],
   "source": [
    "from sklearn.model_selection import train_test_split\n",
    "#sklearn之LabelEncoder將Label標準化\n",
    "#LabelEncoder可以將標籤分配一個0—n_classes-1之間的編碼\n",
    "#將各種標籤分配一個可數的連續編號\n",
    "from sklearn.preprocessing import LabelEncoder"
   ]
  },
  {
   "cell_type": "markdown",
   "metadata": {},
   "source": [
    "## Step2: Read dataset"
   ]
  },
  {
   "cell_type": "code",
   "execution_count": 3,
   "metadata": {},
   "outputs": [
    {
     "data": {
      "text/html": [
       "<div>\n",
       "<style scoped>\n",
       "    .dataframe tbody tr th:only-of-type {\n",
       "        vertical-align: middle;\n",
       "    }\n",
       "\n",
       "    .dataframe tbody tr th {\n",
       "        vertical-align: top;\n",
       "    }\n",
       "\n",
       "    .dataframe thead th {\n",
       "        text-align: right;\n",
       "    }\n",
       "</style>\n",
       "<table border=\"1\" class=\"dataframe\">\n",
       "  <thead>\n",
       "    <tr style=\"text-align: right;\">\n",
       "      <th></th>\n",
       "      <th>客戶ID</th>\n",
       "      <th>年齡</th>\n",
       "      <th>性別</th>\n",
       "      <th>婚姻狀況</th>\n",
       "      <th>教育程度</th>\n",
       "      <th>職業</th>\n",
       "      <th>年收入</th>\n",
       "      <th>貸款金額</th>\n",
       "      <th>還款期限</th>\n",
       "      <th>信用狀態</th>\n",
       "      <th>貸款批准</th>\n",
       "    </tr>\n",
       "  </thead>\n",
       "  <tbody>\n",
       "    <tr>\n",
       "      <th>0</th>\n",
       "      <td>1001</td>\n",
       "      <td>35.0</td>\n",
       "      <td>男</td>\n",
       "      <td>已婚</td>\n",
       "      <td>研究所</td>\n",
       "      <td>醫生</td>\n",
       "      <td>800.0</td>\n",
       "      <td>100.0</td>\n",
       "      <td>1.0</td>\n",
       "      <td>90.0</td>\n",
       "      <td>是</td>\n",
       "    </tr>\n",
       "    <tr>\n",
       "      <th>1</th>\n",
       "      <td>1002</td>\n",
       "      <td>28.0</td>\n",
       "      <td>女</td>\n",
       "      <td>未婚</td>\n",
       "      <td>大學</td>\n",
       "      <td>受雇職員</td>\n",
       "      <td>50.0</td>\n",
       "      <td>80.0</td>\n",
       "      <td>2.0</td>\n",
       "      <td>75.0</td>\n",
       "      <td>否</td>\n",
       "    </tr>\n",
       "    <tr>\n",
       "      <th>2</th>\n",
       "      <td>1003</td>\n",
       "      <td>42.0</td>\n",
       "      <td>男</td>\n",
       "      <td>已婚</td>\n",
       "      <td>高中</td>\n",
       "      <td>自營老闆</td>\n",
       "      <td>1200.0</td>\n",
       "      <td>200.0</td>\n",
       "      <td>5.0</td>\n",
       "      <td>80.0</td>\n",
       "      <td>是</td>\n",
       "    </tr>\n",
       "    <tr>\n",
       "      <th>3</th>\n",
       "      <td>1004</td>\n",
       "      <td>30.0</td>\n",
       "      <td>男</td>\n",
       "      <td>未婚</td>\n",
       "      <td>大學</td>\n",
       "      <td>工程師</td>\n",
       "      <td>60.0</td>\n",
       "      <td>180.0</td>\n",
       "      <td>3.0</td>\n",
       "      <td>85.0</td>\n",
       "      <td>否</td>\n",
       "    </tr>\n",
       "    <tr>\n",
       "      <th>4</th>\n",
       "      <td>1005</td>\n",
       "      <td>50.0</td>\n",
       "      <td>女</td>\n",
       "      <td>已婚</td>\n",
       "      <td>研究所</td>\n",
       "      <td>教師</td>\n",
       "      <td>100.0</td>\n",
       "      <td>100.0</td>\n",
       "      <td>5.0</td>\n",
       "      <td>95.0</td>\n",
       "      <td>是</td>\n",
       "    </tr>\n",
       "  </tbody>\n",
       "</table>\n",
       "</div>"
      ],
      "text/plain": [
       "   客戶ID    年齡 性別 婚姻狀況 教育程度    職業     年收入   貸款金額  還款期限  信用狀態 貸款批准\n",
       "0  1001  35.0  男   已婚  研究所    醫生   800.0  100.0   1.0  90.0    是\n",
       "1  1002  28.0  女   未婚   大學  受雇職員    50.0   80.0   2.0  75.0    否\n",
       "2  1003  42.0  男   已婚   高中  自營老闆  1200.0  200.0   5.0  80.0    是\n",
       "3  1004  30.0  男   未婚   大學   工程師    60.0  180.0   3.0  85.0    否\n",
       "4  1005  50.0  女   已婚  研究所    教師   100.0  100.0   5.0  95.0    是"
      ]
     },
     "execution_count": 3,
     "metadata": {},
     "output_type": "execute_result"
    }
   ],
   "source": [
    "df=pd.read_csv('C:/Users/Administrator/Downloads/loandata_set.csv')\n",
    "df.head()"
   ]
  },
  {
   "cell_type": "code",
   "execution_count": 4,
   "metadata": {},
   "outputs": [
    {
     "name": "stdout",
     "output_type": "stream",
     "text": [
      "        客戶ID    年齡 性別 婚姻狀況 教育程度    職業     年收入   貸款金額  還款期限  信用狀態 貸款批准\n",
      "0       1001  35.0  男   已婚  研究所    醫生   800.0  100.0   1.0  90.0    是\n",
      "1       1002  28.0  女   未婚   大學  受雇職員    50.0   80.0   2.0  75.0    否\n",
      "2       1003  42.0  男   已婚   高中  自營老闆  1200.0  200.0   5.0  80.0    是\n",
      "3       1004  30.0  男   未婚   大學   工程師    60.0  180.0   3.0  85.0    否\n",
      "4       1005  50.0  女   已婚  研究所    教師   100.0  100.0   5.0  95.0    是\n",
      "5       1006  25.0  男   未婚   高中  受雇職員    40.0  140.0   2.0  70.0    否\n",
      "6       1007  38.0  女   已婚   大學   公務員    70.0  100.0   4.0  85.0    是\n",
      "7       1008  45.0  男   已婚   大學  自營老闆   250.0  120.0   3.0  90.0    是\n",
      "8       1009  29.0  女   未婚  研究所    醫生   200.0  390.0   2.0  80.0    否\n",
      "9       1010  33.0  男   已婚   大學  受雇職員    55.0   95.0   2.0  75.0    否\n",
      "10     10003  28.0  F   未婚   大學    教師    50.0  100.0   1.0  70.0    否\n",
      "11     10004  32.0  M   已婚   大學   工程師    75.0   50.0   2.0  85.0    是\n",
      "12     10005  45.0  F   離婚   高中  受雇職員    40.0   50.0   1.0  60.0    否\n",
      "13     10006  39.0  M   已婚  研究所    律師   120.0  150.0   5.0  95.0    是\n",
      "14     10007  26.0  M   未婚   大學  受雇職員    35.0   70.0   1.0  50.0    否\n",
      "15     10008  33.0  F   已婚  研究所    教師    90.0  140.0   3.0  80.0    是\n",
      "16     10009  51.0  F   已婚   大學  受雇職員    60.0   50.0   1.0  75.0    是\n",
      "17     10010  44.0  M   已婚   高中  自營老闆   800.0  220.0   2.0  90.0    是\n",
      "18     10011  29.0  F   未婚   大學  受雇職員    40.0   60.0   1.0  65.0    否\n",
      "19     10012  37.0  M   已婚   大學    教師    55.0   85.0   3.0  70.0    是\n",
      "20     10013  48.0  M   已婚  研究所    醫生   180.0  180.0   5.0  95.0    是\n",
      "21     10014  25.0  F   未婚   高中  受雇職員    30.0   50.0   1.0  55.0    否\n",
      "22     10015  42.0  F   已婚   大學   公務員    65.0   85.0   2.0  85.0    是\n",
      "23     10016  31.0  M   未婚   大學   工程師    70.0  120.0   3.0  80.0    是\n",
      "24     10017  35.0  F   已婚   高中  受雇職員    45.0  100.0   1.0  70.0    否\n",
      "25     10018  40.0  M   已婚   大學  自營老闆   195.0  150.0   5.0  90.0    是\n",
      "26     10019  27.0  M   未婚   大學  受雇職員    38.0   80.0   2.0  60.0    否\n",
      "27     10020  43.0  F   已婚  研究所    律師   120.0  160.0   4.0  95.0    是\n",
      "28  20210021  38.0  女   已婚   碩士    律師    80.0  150.0   5.0  71.0   批准\n",
      "29  20210022  27.0  男   未婚   大學  受雇職員    40.0  100.0   3.0  63.0  不批准\n",
      "30  20210023  45.0  女   已婚   高中  自營老闆   220.0  800.0  10.0  80.0   批准\n",
      "31  20210024  32.0  男   已婚  研究所    教師    60.0  100.0   3.0  72.0   批准\n",
      "32  20210025  48.0  女   已婚   大學  受雇職員    90.0  130.0   5.0  67.0   批准\n",
      "33  20210026  55.0  男   離婚   高中  自營老闆   150.0  500.0  10.0  75.0   批准\n",
      "34  20210027  23.0  女   未婚   高中    醫生   150.0  300.0   2.0  66.0  不批准\n",
      "35  20210028  39.0  男   已婚   碩士   工程師   200.0  400.0   5.0  78.0   批准\n",
      "36  20210029  50.0  男   已婚  研究所   公務員   110.0  200.0   7.0  79.0   批准\n",
      "37  20210030  31.0  女   未婚   大學  受雇職員    55.0  100.0   3.0  70.0   批准\n",
      "38  20210031  43.0  女   已婚   碩士    教師    95.0  300.0  10.0  74.0   批准\n",
      "39  20210032  28.0  男   未婚   大學  受雇職員    45.0  120.0   3.0  62.0  不批准\n",
      "40  20210033  47.0  女   已婚   高中  自營老闆   130.0  400.0  10.0  77.0   批准\n",
      "41  20210034  29.0  男   未婚  研究所   工程師    60.0  150.0   4.0  71.0   批准\n",
      "42  20210035  42.0  男   已婚   大學  受雇職員    90.0  200.0   5.0  75.0   批准\n",
      "43  20210036  36.0  女   已婚   高中  自營老闆   170.0  300.0   5.0  68.0   批准\n",
      "44         1  35.0  男   已婚   大學  受雇職員    60.0  250.0   5.0  85.0    是\n",
      "45         2  45.0  女   已婚  研究所    醫生   120.0  350.0   7.0  95.0    是\n",
      "46         3  28.0  男   未婚   高中  自營老闆   150.0  150.0   3.0  75.0    是\n",
      "47         4  55.0  女   已婚   大學    教師    80.0  200.0   4.0  80.0    是\n",
      "48         5  30.0  男   未婚  研究所   工程師   100.0  300.0   6.0  90.0    是\n",
      "49         6  42.0  男   已婚   高中  受雇職員    80.0  100.0   2.0  65.0    否\n"
     ]
    }
   ],
   "source": [
    "print(df.iloc[:50])"
   ]
  },
  {
   "cell_type": "markdown",
   "metadata": {},
   "source": [
    "### 通過資料獲取，我們得到未經處理的特徵資料，這時的特徵資料可能有以下問題：\n",
    "### <li>存在缺失值：缺失值需要補充。\n",
    "###  <li>不屬於同一量綱( dimension)：即特徵的計量規格不一樣，不能夠放在一起比較。如米，千米，秒，分鐘等,計算單位不一致\n",
    "### <li>資訊冗餘：對於某些定量特徵，其包含的有效資訊為區間劃分，例如學習成績，假若只關心“及格”或不“及格”，那麼需要將定量的考分，轉換成“1”和“0”表示及格和未及格。\n",
    "### <li>定性特徵不能直接使用：某些機器學習演算法和模型只能接受定量特徵(數值)的輸入，那麼需要將定性特徵轉換為定量特徵。\n",
    "### <li>資訊利用率低：不同的機器學習演算法和模型對資料中資訊的利用是不同的。\n",
    "### 那麼最好先對資料的整體情況做一個了解,如資料的描述、資料結構、分佈情況、統計、分析正確性、一致性、缺失值、異常值、重複值等"
   ]
  },
  {
   "cell_type": "markdown",
   "metadata": {},
   "source": [
    "## Step3: Performing Exploratory Data Analysis (EDA) 執行探索性數據分析 (EDA)"
   ]
  },
  {
   "cell_type": "code",
   "execution_count": 5,
   "metadata": {},
   "outputs": [
    {
     "name": "stdout",
     "output_type": "stream",
     "text": [
      "<class 'pandas.core.frame.DataFrame'>\n",
      "RangeIndex: 205 entries, 0 to 204\n",
      "Data columns (total 11 columns):\n",
      " #   Column  Non-Null Count  Dtype  \n",
      "---  ------  --------------  -----  \n",
      " 0   客戶ID    205 non-null    object \n",
      " 1   年齡      204 non-null    float64\n",
      " 2   性別      201 non-null    object \n",
      " 3   婚姻狀況    200 non-null    object \n",
      " 4   教育程度    197 non-null    object \n",
      " 5   職業      199 non-null    object \n",
      " 6   年收入     198 non-null    float64\n",
      " 7   貸款金額    201 non-null    float64\n",
      " 8   還款期限    203 non-null    float64\n",
      " 9   信用狀態    194 non-null    float64\n",
      " 10  貸款批准    198 non-null    object \n",
      "dtypes: float64(5), object(6)\n",
      "memory usage: 17.7+ KB\n"
     ]
    }
   ],
   "source": [
    "df.info()"
   ]
  },
  {
   "cell_type": "code",
   "execution_count": 6,
   "metadata": {},
   "outputs": [
    {
     "data": {
      "text/html": [
       "<div>\n",
       "<style scoped>\n",
       "    .dataframe tbody tr th:only-of-type {\n",
       "        vertical-align: middle;\n",
       "    }\n",
       "\n",
       "    .dataframe tbody tr th {\n",
       "        vertical-align: top;\n",
       "    }\n",
       "\n",
       "    .dataframe thead th {\n",
       "        text-align: right;\n",
       "    }\n",
       "</style>\n",
       "<table border=\"1\" class=\"dataframe\">\n",
       "  <thead>\n",
       "    <tr style=\"text-align: right;\">\n",
       "      <th></th>\n",
       "      <th>年齡</th>\n",
       "      <th>年收入</th>\n",
       "      <th>貸款金額</th>\n",
       "      <th>還款期限</th>\n",
       "      <th>信用狀態</th>\n",
       "    </tr>\n",
       "  </thead>\n",
       "  <tbody>\n",
       "    <tr>\n",
       "      <th>count</th>\n",
       "      <td>204.000000</td>\n",
       "      <td>198.000000</td>\n",
       "      <td>201.000000</td>\n",
       "      <td>203.000000</td>\n",
       "      <td>194.000000</td>\n",
       "    </tr>\n",
       "    <tr>\n",
       "      <th>mean</th>\n",
       "      <td>37.259804</td>\n",
       "      <td>169.722222</td>\n",
       "      <td>132.666667</td>\n",
       "      <td>3.699507</td>\n",
       "      <td>80.505155</td>\n",
       "    </tr>\n",
       "    <tr>\n",
       "      <th>std</th>\n",
       "      <td>8.768852</td>\n",
       "      <td>211.742825</td>\n",
       "      <td>123.627033</td>\n",
       "      <td>1.904489</td>\n",
       "      <td>10.739134</td>\n",
       "    </tr>\n",
       "    <tr>\n",
       "      <th>min</th>\n",
       "      <td>22.000000</td>\n",
       "      <td>25.000000</td>\n",
       "      <td>5.000000</td>\n",
       "      <td>1.000000</td>\n",
       "      <td>50.000000</td>\n",
       "    </tr>\n",
       "    <tr>\n",
       "      <th>25%</th>\n",
       "      <td>29.000000</td>\n",
       "      <td>65.000000</td>\n",
       "      <td>48.000000</td>\n",
       "      <td>2.000000</td>\n",
       "      <td>72.000000</td>\n",
       "    </tr>\n",
       "    <tr>\n",
       "      <th>50%</th>\n",
       "      <td>37.000000</td>\n",
       "      <td>90.000000</td>\n",
       "      <td>90.000000</td>\n",
       "      <td>3.000000</td>\n",
       "      <td>80.000000</td>\n",
       "    </tr>\n",
       "    <tr>\n",
       "      <th>75%</th>\n",
       "      <td>44.250000</td>\n",
       "      <td>180.000000</td>\n",
       "      <td>180.000000</td>\n",
       "      <td>5.000000</td>\n",
       "      <td>90.000000</td>\n",
       "    </tr>\n",
       "    <tr>\n",
       "      <th>max</th>\n",
       "      <td>55.000000</td>\n",
       "      <td>1200.000000</td>\n",
       "      <td>800.000000</td>\n",
       "      <td>10.000000</td>\n",
       "      <td>100.000000</td>\n",
       "    </tr>\n",
       "  </tbody>\n",
       "</table>\n",
       "</div>"
      ],
      "text/plain": [
       "               年齡          年收入        貸款金額        還款期限        信用狀態\n",
       "count  204.000000   198.000000  201.000000  203.000000  194.000000\n",
       "mean    37.259804   169.722222  132.666667    3.699507   80.505155\n",
       "std      8.768852   211.742825  123.627033    1.904489   10.739134\n",
       "min     22.000000    25.000000    5.000000    1.000000   50.000000\n",
       "25%     29.000000    65.000000   48.000000    2.000000   72.000000\n",
       "50%     37.000000    90.000000   90.000000    3.000000   80.000000\n",
       "75%     44.250000   180.000000  180.000000    5.000000   90.000000\n",
       "max     55.000000  1200.000000  800.000000   10.000000  100.000000"
      ]
     },
     "execution_count": 6,
     "metadata": {},
     "output_type": "execute_result"
    }
   ],
   "source": [
    "df.describe()"
   ]
  },
  {
   "cell_type": "markdown",
   "metadata": {},
   "source": [
    "### Step3.1 觀察一下  職業 欄位的資料"
   ]
  },
  {
   "cell_type": "code",
   "execution_count": 7,
   "metadata": {},
   "outputs": [
    {
     "data": {
      "text/plain": [
       "受雇職員    58\n",
       "自營老闆    39\n",
       "醫生      23\n",
       "教師      21\n",
       "工程師     19\n",
       "公務員     18\n",
       "律師      14\n",
       "軍人       7\n",
       "NaN      6\n",
       "Name: 職業, dtype: int64"
      ]
     },
     "execution_count": 7,
     "metadata": {},
     "output_type": "execute_result"
    }
   ],
   "source": [
    "df.職業.value_counts(dropna=False)"
   ]
  },
  {
   "cell_type": "code",
   "execution_count": 8,
   "metadata": {},
   "outputs": [
    {
     "data": {
      "text/plain": [
       "Index(['客戶ID', '年齡', '性別', '婚姻狀況', '教育程度', '職業', '年收入', '貸款金額', '還款期限', '信用狀態',\n",
       "       '貸款批准'],\n",
       "      dtype='object')"
      ]
     },
     "execution_count": 8,
     "metadata": {},
     "output_type": "execute_result"
    }
   ],
   "source": [
    "df.columns"
   ]
  },
  {
   "cell_type": "code",
   "execution_count": 9,
   "metadata": {},
   "outputs": [
    {
     "data": {
      "text/plain": [
       "客戶ID     0\n",
       "年齡       1\n",
       "性別       4\n",
       "婚姻狀況     5\n",
       "教育程度     8\n",
       "職業       6\n",
       "年收入      7\n",
       "貸款金額     4\n",
       "還款期限     2\n",
       "信用狀態    11\n",
       "貸款批准     7\n",
       "dtype: int64"
      ]
     },
     "execution_count": 9,
     "metadata": {},
     "output_type": "execute_result"
    }
   ],
   "source": [
    "df.isnull().sum()"
   ]
  },
  {
   "cell_type": "markdown",
   "metadata": {},
   "source": [
    "## Step4: 執行資料清理與預處理\n",
    "###  ①資料預處理。即資料的清洗工作，主要為缺失值、異常值、錯誤值、資料格式、取樣度等問題的處理。\n",
    "###  ②特徵轉換。即資料轉換，便於讓模型計算處理。\n",
    "### A）資料常態化處理及彙整"
   ]
  },
  {
   "cell_type": "markdown",
   "metadata": {},
   "source": [
    "### Step4.1 將性別 ,教育程度,貸款批准資料轉一致化"
   ]
  },
  {
   "cell_type": "code",
   "execution_count": 10,
   "metadata": {},
   "outputs": [],
   "source": [
    "#性別 資料轉一致化\n",
    "df['性別']=df['性別'].str.replace('M','男')\n",
    "df['性別']=df['性別'].str.replace('F','女')"
   ]
  },
  {
   "cell_type": "code",
   "execution_count": 11,
   "metadata": {},
   "outputs": [],
   "source": [
    "#教育程度資料轉一致化\n",
    "df['教育程度']=df['教育程度'].str.replace('高中','高中')\n",
    "df['教育程度']=df['教育程度'].str.replace('大學','大學')\n",
    "df['教育程度']=df['教育程度'].str.replace('研究所','研究所')\n",
    "df['教育程度']=df['教育程度'].str.replace('碩士','碩士')"
   ]
  },
  {
   "cell_type": "code",
   "execution_count": 12,
   "metadata": {},
   "outputs": [],
   "source": [
    "#貸款批准資料轉一致化\n",
    "df['貸款批准']=df['貸款批准'].str.replace('批准','是')\n",
    "df['貸款批准']=df['貸款批准'].str.replace('不批准','否')"
   ]
  },
  {
   "cell_type": "markdown",
   "metadata": {},
   "source": [
    "### Step4.2 將年收入,貸款金額 離散數值透過log 轉成常態分布，又名高斯分布"
   ]
  },
  {
   "cell_type": "code",
   "execution_count": 13,
   "metadata": {},
   "outputs": [
    {
     "data": {
      "text/plain": [
       "<AxesSubplot:>"
      ]
     },
     "execution_count": 13,
     "metadata": {},
     "output_type": "execute_result"
    },
    {
     "data": {
      "image/png": "[encoded data removed]",
      "text/plain": [
       "<Figure size 432x288 with 1 Axes>"
      ]
     },
     "metadata": {
      "needs_background": "light"
     },
     "output_type": "display_data"
    }
   ],
   "source": [
    "#將年收入離散數值透過log 轉成常態分布，又名高斯分布\n",
    "df['年收入_log']=np.log(df['年收入'])\n",
    "df['年收入_log'].hist(bins=20)"
   ]
  },
  {
   "cell_type": "code",
   "execution_count": 14,
   "metadata": {},
   "outputs": [
    {
     "data": {
      "text/plain": [
       "<AxesSubplot:>"
      ]
     },
     "execution_count": 14,
     "metadata": {},
     "output_type": "execute_result"
    },
    {
     "data": {
      "image/png": "[encoded data removed]",
      "text/plain": [
       "<Figure size 432x288 with 1 Axes>"
      ]
     },
     "metadata": {
      "needs_background": "light"
     },
     "output_type": "display_data"
    }
   ],
   "source": [
    "#將貸款金額離散數值透過log 轉成常態分布，又名高斯分布\n",
    "df['貸款金額_log']=np.log(df['貸款金額'])\n",
    "df['貸款金額_log'].hist(bins=20)"
   ]
  },
  {
   "cell_type": "code",
   "execution_count": 15,
   "metadata": {},
   "outputs": [
    {
     "data": {
      "text/html": [
       "<div>\n",
       "<style scoped>\n",
       "    .dataframe tbody tr th:only-of-type {\n",
       "        vertical-align: middle;\n",
       "    }\n",
       "\n",
       "    .dataframe tbody tr th {\n",
       "        vertical-align: top;\n",
       "    }\n",
       "\n",
       "    .dataframe thead th {\n",
       "        text-align: right;\n",
       "    }\n",
       "</style>\n",
       "<table border=\"1\" class=\"dataframe\">\n",
       "  <thead>\n",
       "    <tr style=\"text-align: right;\">\n",
       "      <th></th>\n",
       "      <th>客戶ID</th>\n",
       "      <th>年齡</th>\n",
       "      <th>性別</th>\n",
       "      <th>婚姻狀況</th>\n",
       "      <th>教育程度</th>\n",
       "      <th>職業</th>\n",
       "      <th>年收入</th>\n",
       "      <th>貸款金額</th>\n",
       "      <th>還款期限</th>\n",
       "      <th>信用狀態</th>\n",
       "      <th>貸款批准</th>\n",
       "      <th>年收入_log</th>\n",
       "      <th>貸款金額_log</th>\n",
       "    </tr>\n",
       "  </thead>\n",
       "  <tbody>\n",
       "    <tr>\n",
       "      <th>0</th>\n",
       "      <td>1001</td>\n",
       "      <td>35.0</td>\n",
       "      <td>男</td>\n",
       "      <td>已婚</td>\n",
       "      <td>研究所</td>\n",
       "      <td>醫生</td>\n",
       "      <td>800.0</td>\n",
       "      <td>100.0</td>\n",
       "      <td>1.0</td>\n",
       "      <td>90.0</td>\n",
       "      <td>是</td>\n",
       "      <td>6.684612</td>\n",
       "      <td>4.605170</td>\n",
       "    </tr>\n",
       "    <tr>\n",
       "      <th>1</th>\n",
       "      <td>1002</td>\n",
       "      <td>28.0</td>\n",
       "      <td>女</td>\n",
       "      <td>未婚</td>\n",
       "      <td>大學</td>\n",
       "      <td>受雇職員</td>\n",
       "      <td>50.0</td>\n",
       "      <td>80.0</td>\n",
       "      <td>2.0</td>\n",
       "      <td>75.0</td>\n",
       "      <td>否</td>\n",
       "      <td>3.912023</td>\n",
       "      <td>4.382027</td>\n",
       "    </tr>\n",
       "    <tr>\n",
       "      <th>2</th>\n",
       "      <td>1003</td>\n",
       "      <td>42.0</td>\n",
       "      <td>男</td>\n",
       "      <td>已婚</td>\n",
       "      <td>高中</td>\n",
       "      <td>自營老闆</td>\n",
       "      <td>1200.0</td>\n",
       "      <td>200.0</td>\n",
       "      <td>5.0</td>\n",
       "      <td>80.0</td>\n",
       "      <td>是</td>\n",
       "      <td>7.090077</td>\n",
       "      <td>5.298317</td>\n",
       "    </tr>\n",
       "    <tr>\n",
       "      <th>3</th>\n",
       "      <td>1004</td>\n",
       "      <td>30.0</td>\n",
       "      <td>男</td>\n",
       "      <td>未婚</td>\n",
       "      <td>大學</td>\n",
       "      <td>工程師</td>\n",
       "      <td>60.0</td>\n",
       "      <td>180.0</td>\n",
       "      <td>3.0</td>\n",
       "      <td>85.0</td>\n",
       "      <td>否</td>\n",
       "      <td>4.094345</td>\n",
       "      <td>5.192957</td>\n",
       "    </tr>\n",
       "    <tr>\n",
       "      <th>4</th>\n",
       "      <td>1005</td>\n",
       "      <td>50.0</td>\n",
       "      <td>女</td>\n",
       "      <td>已婚</td>\n",
       "      <td>研究所</td>\n",
       "      <td>教師</td>\n",
       "      <td>100.0</td>\n",
       "      <td>100.0</td>\n",
       "      <td>5.0</td>\n",
       "      <td>95.0</td>\n",
       "      <td>是</td>\n",
       "      <td>4.605170</td>\n",
       "      <td>4.605170</td>\n",
       "    </tr>\n",
       "    <tr>\n",
       "      <th>5</th>\n",
       "      <td>1006</td>\n",
       "      <td>25.0</td>\n",
       "      <td>男</td>\n",
       "      <td>未婚</td>\n",
       "      <td>高中</td>\n",
       "      <td>受雇職員</td>\n",
       "      <td>40.0</td>\n",
       "      <td>140.0</td>\n",
       "      <td>2.0</td>\n",
       "      <td>70.0</td>\n",
       "      <td>否</td>\n",
       "      <td>3.688879</td>\n",
       "      <td>4.941642</td>\n",
       "    </tr>\n",
       "    <tr>\n",
       "      <th>6</th>\n",
       "      <td>1007</td>\n",
       "      <td>38.0</td>\n",
       "      <td>女</td>\n",
       "      <td>已婚</td>\n",
       "      <td>大學</td>\n",
       "      <td>公務員</td>\n",
       "      <td>70.0</td>\n",
       "      <td>100.0</td>\n",
       "      <td>4.0</td>\n",
       "      <td>85.0</td>\n",
       "      <td>是</td>\n",
       "      <td>4.248495</td>\n",
       "      <td>4.605170</td>\n",
       "    </tr>\n",
       "    <tr>\n",
       "      <th>7</th>\n",
       "      <td>1008</td>\n",
       "      <td>45.0</td>\n",
       "      <td>男</td>\n",
       "      <td>已婚</td>\n",
       "      <td>大學</td>\n",
       "      <td>自營老闆</td>\n",
       "      <td>250.0</td>\n",
       "      <td>120.0</td>\n",
       "      <td>3.0</td>\n",
       "      <td>90.0</td>\n",
       "      <td>是</td>\n",
       "      <td>5.521461</td>\n",
       "      <td>4.787492</td>\n",
       "    </tr>\n",
       "    <tr>\n",
       "      <th>8</th>\n",
       "      <td>1009</td>\n",
       "      <td>29.0</td>\n",
       "      <td>女</td>\n",
       "      <td>未婚</td>\n",
       "      <td>研究所</td>\n",
       "      <td>醫生</td>\n",
       "      <td>200.0</td>\n",
       "      <td>390.0</td>\n",
       "      <td>2.0</td>\n",
       "      <td>80.0</td>\n",
       "      <td>否</td>\n",
       "      <td>5.298317</td>\n",
       "      <td>5.966147</td>\n",
       "    </tr>\n",
       "    <tr>\n",
       "      <th>9</th>\n",
       "      <td>1010</td>\n",
       "      <td>33.0</td>\n",
       "      <td>男</td>\n",
       "      <td>已婚</td>\n",
       "      <td>大學</td>\n",
       "      <td>受雇職員</td>\n",
       "      <td>55.0</td>\n",
       "      <td>95.0</td>\n",
       "      <td>2.0</td>\n",
       "      <td>75.0</td>\n",
       "      <td>否</td>\n",
       "      <td>4.007333</td>\n",
       "      <td>4.553877</td>\n",
       "    </tr>\n",
       "    <tr>\n",
       "      <th>10</th>\n",
       "      <td>10003</td>\n",
       "      <td>28.0</td>\n",
       "      <td>女</td>\n",
       "      <td>未婚</td>\n",
       "      <td>大學</td>\n",
       "      <td>教師</td>\n",
       "      <td>50.0</td>\n",
       "      <td>100.0</td>\n",
       "      <td>1.0</td>\n",
       "      <td>70.0</td>\n",
       "      <td>否</td>\n",
       "      <td>3.912023</td>\n",
       "      <td>4.605170</td>\n",
       "    </tr>\n",
       "    <tr>\n",
       "      <th>11</th>\n",
       "      <td>10004</td>\n",
       "      <td>32.0</td>\n",
       "      <td>男</td>\n",
       "      <td>已婚</td>\n",
       "      <td>大學</td>\n",
       "      <td>工程師</td>\n",
       "      <td>75.0</td>\n",
       "      <td>50.0</td>\n",
       "      <td>2.0</td>\n",
       "      <td>85.0</td>\n",
       "      <td>是</td>\n",
       "      <td>4.317488</td>\n",
       "      <td>3.912023</td>\n",
       "    </tr>\n",
       "    <tr>\n",
       "      <th>12</th>\n",
       "      <td>10005</td>\n",
       "      <td>45.0</td>\n",
       "      <td>女</td>\n",
       "      <td>離婚</td>\n",
       "      <td>高中</td>\n",
       "      <td>受雇職員</td>\n",
       "      <td>40.0</td>\n",
       "      <td>50.0</td>\n",
       "      <td>1.0</td>\n",
       "      <td>60.0</td>\n",
       "      <td>否</td>\n",
       "      <td>3.688879</td>\n",
       "      <td>3.912023</td>\n",
       "    </tr>\n",
       "    <tr>\n",
       "      <th>13</th>\n",
       "      <td>10006</td>\n",
       "      <td>39.0</td>\n",
       "      <td>男</td>\n",
       "      <td>已婚</td>\n",
       "      <td>研究所</td>\n",
       "      <td>律師</td>\n",
       "      <td>120.0</td>\n",
       "      <td>150.0</td>\n",
       "      <td>5.0</td>\n",
       "      <td>95.0</td>\n",
       "      <td>是</td>\n",
       "      <td>4.787492</td>\n",
       "      <td>5.010635</td>\n",
       "    </tr>\n",
       "    <tr>\n",
       "      <th>14</th>\n",
       "      <td>10007</td>\n",
       "      <td>26.0</td>\n",
       "      <td>男</td>\n",
       "      <td>未婚</td>\n",
       "      <td>大學</td>\n",
       "      <td>受雇職員</td>\n",
       "      <td>35.0</td>\n",
       "      <td>70.0</td>\n",
       "      <td>1.0</td>\n",
       "      <td>50.0</td>\n",
       "      <td>否</td>\n",
       "      <td>3.555348</td>\n",
       "      <td>4.248495</td>\n",
       "    </tr>\n",
       "    <tr>\n",
       "      <th>15</th>\n",
       "      <td>10008</td>\n",
       "      <td>33.0</td>\n",
       "      <td>女</td>\n",
       "      <td>已婚</td>\n",
       "      <td>研究所</td>\n",
       "      <td>教師</td>\n",
       "      <td>90.0</td>\n",
       "      <td>140.0</td>\n",
       "      <td>3.0</td>\n",
       "      <td>80.0</td>\n",
       "      <td>是</td>\n",
       "      <td>4.499810</td>\n",
       "      <td>4.941642</td>\n",
       "    </tr>\n",
       "    <tr>\n",
       "      <th>16</th>\n",
       "      <td>10009</td>\n",
       "      <td>51.0</td>\n",
       "      <td>女</td>\n",
       "      <td>已婚</td>\n",
       "      <td>大學</td>\n",
       "      <td>受雇職員</td>\n",
       "      <td>60.0</td>\n",
       "      <td>50.0</td>\n",
       "      <td>1.0</td>\n",
       "      <td>75.0</td>\n",
       "      <td>是</td>\n",
       "      <td>4.094345</td>\n",
       "      <td>3.912023</td>\n",
       "    </tr>\n",
       "    <tr>\n",
       "      <th>17</th>\n",
       "      <td>10010</td>\n",
       "      <td>44.0</td>\n",
       "      <td>男</td>\n",
       "      <td>已婚</td>\n",
       "      <td>高中</td>\n",
       "      <td>自營老闆</td>\n",
       "      <td>800.0</td>\n",
       "      <td>220.0</td>\n",
       "      <td>2.0</td>\n",
       "      <td>90.0</td>\n",
       "      <td>是</td>\n",
       "      <td>6.684612</td>\n",
       "      <td>5.393628</td>\n",
       "    </tr>\n",
       "    <tr>\n",
       "      <th>18</th>\n",
       "      <td>10011</td>\n",
       "      <td>29.0</td>\n",
       "      <td>女</td>\n",
       "      <td>未婚</td>\n",
       "      <td>大學</td>\n",
       "      <td>受雇職員</td>\n",
       "      <td>40.0</td>\n",
       "      <td>60.0</td>\n",
       "      <td>1.0</td>\n",
       "      <td>65.0</td>\n",
       "      <td>否</td>\n",
       "      <td>3.688879</td>\n",
       "      <td>4.094345</td>\n",
       "    </tr>\n",
       "    <tr>\n",
       "      <th>19</th>\n",
       "      <td>10012</td>\n",
       "      <td>37.0</td>\n",
       "      <td>男</td>\n",
       "      <td>已婚</td>\n",
       "      <td>大學</td>\n",
       "      <td>教師</td>\n",
       "      <td>55.0</td>\n",
       "      <td>85.0</td>\n",
       "      <td>3.0</td>\n",
       "      <td>70.0</td>\n",
       "      <td>是</td>\n",
       "      <td>4.007333</td>\n",
       "      <td>4.442651</td>\n",
       "    </tr>\n",
       "    <tr>\n",
       "      <th>20</th>\n",
       "      <td>10013</td>\n",
       "      <td>48.0</td>\n",
       "      <td>男</td>\n",
       "      <td>已婚</td>\n",
       "      <td>研究所</td>\n",
       "      <td>醫生</td>\n",
       "      <td>180.0</td>\n",
       "      <td>180.0</td>\n",
       "      <td>5.0</td>\n",
       "      <td>95.0</td>\n",
       "      <td>是</td>\n",
       "      <td>5.192957</td>\n",
       "      <td>5.192957</td>\n",
       "    </tr>\n",
       "    <tr>\n",
       "      <th>21</th>\n",
       "      <td>10014</td>\n",
       "      <td>25.0</td>\n",
       "      <td>女</td>\n",
       "      <td>未婚</td>\n",
       "      <td>高中</td>\n",
       "      <td>受雇職員</td>\n",
       "      <td>30.0</td>\n",
       "      <td>50.0</td>\n",
       "      <td>1.0</td>\n",
       "      <td>55.0</td>\n",
       "      <td>否</td>\n",
       "      <td>3.401197</td>\n",
       "      <td>3.912023</td>\n",
       "    </tr>\n",
       "    <tr>\n",
       "      <th>22</th>\n",
       "      <td>10015</td>\n",
       "      <td>42.0</td>\n",
       "      <td>女</td>\n",
       "      <td>已婚</td>\n",
       "      <td>大學</td>\n",
       "      <td>公務員</td>\n",
       "      <td>65.0</td>\n",
       "      <td>85.0</td>\n",
       "      <td>2.0</td>\n",
       "      <td>85.0</td>\n",
       "      <td>是</td>\n",
       "      <td>4.174387</td>\n",
       "      <td>4.442651</td>\n",
       "    </tr>\n",
       "    <tr>\n",
       "      <th>23</th>\n",
       "      <td>10016</td>\n",
       "      <td>31.0</td>\n",
       "      <td>男</td>\n",
       "      <td>未婚</td>\n",
       "      <td>大學</td>\n",
       "      <td>工程師</td>\n",
       "      <td>70.0</td>\n",
       "      <td>120.0</td>\n",
       "      <td>3.0</td>\n",
       "      <td>80.0</td>\n",
       "      <td>是</td>\n",
       "      <td>4.248495</td>\n",
       "      <td>4.787492</td>\n",
       "    </tr>\n",
       "    <tr>\n",
       "      <th>24</th>\n",
       "      <td>10017</td>\n",
       "      <td>35.0</td>\n",
       "      <td>女</td>\n",
       "      <td>已婚</td>\n",
       "      <td>高中</td>\n",
       "      <td>受雇職員</td>\n",
       "      <td>45.0</td>\n",
       "      <td>100.0</td>\n",
       "      <td>1.0</td>\n",
       "      <td>70.0</td>\n",
       "      <td>否</td>\n",
       "      <td>3.806662</td>\n",
       "      <td>4.605170</td>\n",
       "    </tr>\n",
       "    <tr>\n",
       "      <th>25</th>\n",
       "      <td>10018</td>\n",
       "      <td>40.0</td>\n",
       "      <td>男</td>\n",
       "      <td>已婚</td>\n",
       "      <td>大學</td>\n",
       "      <td>自營老闆</td>\n",
       "      <td>195.0</td>\n",
       "      <td>150.0</td>\n",
       "      <td>5.0</td>\n",
       "      <td>90.0</td>\n",
       "      <td>是</td>\n",
       "      <td>5.273000</td>\n",
       "      <td>5.010635</td>\n",
       "    </tr>\n",
       "    <tr>\n",
       "      <th>26</th>\n",
       "      <td>10019</td>\n",
       "      <td>27.0</td>\n",
       "      <td>男</td>\n",
       "      <td>未婚</td>\n",
       "      <td>大學</td>\n",
       "      <td>受雇職員</td>\n",
       "      <td>38.0</td>\n",
       "      <td>80.0</td>\n",
       "      <td>2.0</td>\n",
       "      <td>60.0</td>\n",
       "      <td>否</td>\n",
       "      <td>3.637586</td>\n",
       "      <td>4.382027</td>\n",
       "    </tr>\n",
       "    <tr>\n",
       "      <th>27</th>\n",
       "      <td>10020</td>\n",
       "      <td>43.0</td>\n",
       "      <td>女</td>\n",
       "      <td>已婚</td>\n",
       "      <td>研究所</td>\n",
       "      <td>律師</td>\n",
       "      <td>120.0</td>\n",
       "      <td>160.0</td>\n",
       "      <td>4.0</td>\n",
       "      <td>95.0</td>\n",
       "      <td>是</td>\n",
       "      <td>4.787492</td>\n",
       "      <td>5.075174</td>\n",
       "    </tr>\n",
       "    <tr>\n",
       "      <th>28</th>\n",
       "      <td>20210021</td>\n",
       "      <td>38.0</td>\n",
       "      <td>女</td>\n",
       "      <td>已婚</td>\n",
       "      <td>碩士</td>\n",
       "      <td>律師</td>\n",
       "      <td>80.0</td>\n",
       "      <td>150.0</td>\n",
       "      <td>5.0</td>\n",
       "      <td>71.0</td>\n",
       "      <td>是</td>\n",
       "      <td>4.382027</td>\n",
       "      <td>5.010635</td>\n",
       "    </tr>\n",
       "    <tr>\n",
       "      <th>29</th>\n",
       "      <td>20210022</td>\n",
       "      <td>27.0</td>\n",
       "      <td>男</td>\n",
       "      <td>未婚</td>\n",
       "      <td>大學</td>\n",
       "      <td>受雇職員</td>\n",
       "      <td>40.0</td>\n",
       "      <td>100.0</td>\n",
       "      <td>3.0</td>\n",
       "      <td>63.0</td>\n",
       "      <td>不是</td>\n",
       "      <td>3.688879</td>\n",
       "      <td>4.605170</td>\n",
       "    </tr>\n",
       "    <tr>\n",
       "      <th>30</th>\n",
       "      <td>20210023</td>\n",
       "      <td>45.0</td>\n",
       "      <td>女</td>\n",
       "      <td>已婚</td>\n",
       "      <td>高中</td>\n",
       "      <td>自營老闆</td>\n",
       "      <td>220.0</td>\n",
       "      <td>800.0</td>\n",
       "      <td>10.0</td>\n",
       "      <td>80.0</td>\n",
       "      <td>是</td>\n",
       "      <td>5.393628</td>\n",
       "      <td>6.684612</td>\n",
       "    </tr>\n",
       "    <tr>\n",
       "      <th>31</th>\n",
       "      <td>20210024</td>\n",
       "      <td>32.0</td>\n",
       "      <td>男</td>\n",
       "      <td>已婚</td>\n",
       "      <td>研究所</td>\n",
       "      <td>教師</td>\n",
       "      <td>60.0</td>\n",
       "      <td>100.0</td>\n",
       "      <td>3.0</td>\n",
       "      <td>72.0</td>\n",
       "      <td>是</td>\n",
       "      <td>4.094345</td>\n",
       "      <td>4.605170</td>\n",
       "    </tr>\n",
       "    <tr>\n",
       "      <th>32</th>\n",
       "      <td>20210025</td>\n",
       "      <td>48.0</td>\n",
       "      <td>女</td>\n",
       "      <td>已婚</td>\n",
       "      <td>大學</td>\n",
       "      <td>受雇職員</td>\n",
       "      <td>90.0</td>\n",
       "      <td>130.0</td>\n",
       "      <td>5.0</td>\n",
       "      <td>67.0</td>\n",
       "      <td>是</td>\n",
       "      <td>4.499810</td>\n",
       "      <td>4.867534</td>\n",
       "    </tr>\n",
       "    <tr>\n",
       "      <th>33</th>\n",
       "      <td>20210026</td>\n",
       "      <td>55.0</td>\n",
       "      <td>男</td>\n",
       "      <td>離婚</td>\n",
       "      <td>高中</td>\n",
       "      <td>自營老闆</td>\n",
       "      <td>150.0</td>\n",
       "      <td>500.0</td>\n",
       "      <td>10.0</td>\n",
       "      <td>75.0</td>\n",
       "      <td>是</td>\n",
       "      <td>5.010635</td>\n",
       "      <td>6.214608</td>\n",
       "    </tr>\n",
       "    <tr>\n",
       "      <th>34</th>\n",
       "      <td>20210027</td>\n",
       "      <td>23.0</td>\n",
       "      <td>女</td>\n",
       "      <td>未婚</td>\n",
       "      <td>高中</td>\n",
       "      <td>醫生</td>\n",
       "      <td>150.0</td>\n",
       "      <td>300.0</td>\n",
       "      <td>2.0</td>\n",
       "      <td>66.0</td>\n",
       "      <td>不是</td>\n",
       "      <td>5.010635</td>\n",
       "      <td>5.703782</td>\n",
       "    </tr>\n",
       "    <tr>\n",
       "      <th>35</th>\n",
       "      <td>20210028</td>\n",
       "      <td>39.0</td>\n",
       "      <td>男</td>\n",
       "      <td>已婚</td>\n",
       "      <td>碩士</td>\n",
       "      <td>工程師</td>\n",
       "      <td>200.0</td>\n",
       "      <td>400.0</td>\n",
       "      <td>5.0</td>\n",
       "      <td>78.0</td>\n",
       "      <td>是</td>\n",
       "      <td>5.298317</td>\n",
       "      <td>5.991465</td>\n",
       "    </tr>\n",
       "    <tr>\n",
       "      <th>36</th>\n",
       "      <td>20210029</td>\n",
       "      <td>50.0</td>\n",
       "      <td>男</td>\n",
       "      <td>已婚</td>\n",
       "      <td>研究所</td>\n",
       "      <td>公務員</td>\n",
       "      <td>110.0</td>\n",
       "      <td>200.0</td>\n",
       "      <td>7.0</td>\n",
       "      <td>79.0</td>\n",
       "      <td>是</td>\n",
       "      <td>4.700480</td>\n",
       "      <td>5.298317</td>\n",
       "    </tr>\n",
       "    <tr>\n",
       "      <th>37</th>\n",
       "      <td>20210030</td>\n",
       "      <td>31.0</td>\n",
       "      <td>女</td>\n",
       "      <td>未婚</td>\n",
       "      <td>大學</td>\n",
       "      <td>受雇職員</td>\n",
       "      <td>55.0</td>\n",
       "      <td>100.0</td>\n",
       "      <td>3.0</td>\n",
       "      <td>70.0</td>\n",
       "      <td>是</td>\n",
       "      <td>4.007333</td>\n",
       "      <td>4.605170</td>\n",
       "    </tr>\n",
       "    <tr>\n",
       "      <th>38</th>\n",
       "      <td>20210031</td>\n",
       "      <td>43.0</td>\n",
       "      <td>女</td>\n",
       "      <td>已婚</td>\n",
       "      <td>碩士</td>\n",
       "      <td>教師</td>\n",
       "      <td>95.0</td>\n",
       "      <td>300.0</td>\n",
       "      <td>10.0</td>\n",
       "      <td>74.0</td>\n",
       "      <td>是</td>\n",
       "      <td>4.553877</td>\n",
       "      <td>5.703782</td>\n",
       "    </tr>\n",
       "    <tr>\n",
       "      <th>39</th>\n",
       "      <td>20210032</td>\n",
       "      <td>28.0</td>\n",
       "      <td>男</td>\n",
       "      <td>未婚</td>\n",
       "      <td>大學</td>\n",
       "      <td>受雇職員</td>\n",
       "      <td>45.0</td>\n",
       "      <td>120.0</td>\n",
       "      <td>3.0</td>\n",
       "      <td>62.0</td>\n",
       "      <td>不是</td>\n",
       "      <td>3.806662</td>\n",
       "      <td>4.787492</td>\n",
       "    </tr>\n",
       "    <tr>\n",
       "      <th>40</th>\n",
       "      <td>20210033</td>\n",
       "      <td>47.0</td>\n",
       "      <td>女</td>\n",
       "      <td>已婚</td>\n",
       "      <td>高中</td>\n",
       "      <td>自營老闆</td>\n",
       "      <td>130.0</td>\n",
       "      <td>400.0</td>\n",
       "      <td>10.0</td>\n",
       "      <td>77.0</td>\n",
       "      <td>是</td>\n",
       "      <td>4.867534</td>\n",
       "      <td>5.991465</td>\n",
       "    </tr>\n",
       "    <tr>\n",
       "      <th>41</th>\n",
       "      <td>20210034</td>\n",
       "      <td>29.0</td>\n",
       "      <td>男</td>\n",
       "      <td>未婚</td>\n",
       "      <td>研究所</td>\n",
       "      <td>工程師</td>\n",
       "      <td>60.0</td>\n",
       "      <td>150.0</td>\n",
       "      <td>4.0</td>\n",
       "      <td>71.0</td>\n",
       "      <td>是</td>\n",
       "      <td>4.094345</td>\n",
       "      <td>5.010635</td>\n",
       "    </tr>\n",
       "    <tr>\n",
       "      <th>42</th>\n",
       "      <td>20210035</td>\n",
       "      <td>42.0</td>\n",
       "      <td>男</td>\n",
       "      <td>已婚</td>\n",
       "      <td>大學</td>\n",
       "      <td>受雇職員</td>\n",
       "      <td>90.0</td>\n",
       "      <td>200.0</td>\n",
       "      <td>5.0</td>\n",
       "      <td>75.0</td>\n",
       "      <td>是</td>\n",
       "      <td>4.499810</td>\n",
       "      <td>5.298317</td>\n",
       "    </tr>\n",
       "    <tr>\n",
       "      <th>43</th>\n",
       "      <td>20210036</td>\n",
       "      <td>36.0</td>\n",
       "      <td>女</td>\n",
       "      <td>已婚</td>\n",
       "      <td>高中</td>\n",
       "      <td>自營老闆</td>\n",
       "      <td>170.0</td>\n",
       "      <td>300.0</td>\n",
       "      <td>5.0</td>\n",
       "      <td>68.0</td>\n",
       "      <td>是</td>\n",
       "      <td>5.135798</td>\n",
       "      <td>5.703782</td>\n",
       "    </tr>\n",
       "    <tr>\n",
       "      <th>44</th>\n",
       "      <td>1</td>\n",
       "      <td>35.0</td>\n",
       "      <td>男</td>\n",
       "      <td>已婚</td>\n",
       "      <td>大學</td>\n",
       "      <td>受雇職員</td>\n",
       "      <td>60.0</td>\n",
       "      <td>250.0</td>\n",
       "      <td>5.0</td>\n",
       "      <td>85.0</td>\n",
       "      <td>是</td>\n",
       "      <td>4.094345</td>\n",
       "      <td>5.521461</td>\n",
       "    </tr>\n",
       "  </tbody>\n",
       "</table>\n",
       "</div>"
      ],
      "text/plain": [
       "        客戶ID    年齡 性別 婚姻狀況 教育程度    職業     年收入   貸款金額  還款期限  信用狀態 貸款批准  \\\n",
       "0       1001  35.0  男   已婚  研究所    醫生   800.0  100.0   1.0  90.0    是   \n",
       "1       1002  28.0  女   未婚   大學  受雇職員    50.0   80.0   2.0  75.0    否   \n",
       "2       1003  42.0  男   已婚   高中  自營老闆  1200.0  200.0   5.0  80.0    是   \n",
       "3       1004  30.0  男   未婚   大學   工程師    60.0  180.0   3.0  85.0    否   \n",
       "4       1005  50.0  女   已婚  研究所    教師   100.0  100.0   5.0  95.0    是   \n",
       "5       1006  25.0  男   未婚   高中  受雇職員    40.0  140.0   2.0  70.0    否   \n",
       "6       1007  38.0  女   已婚   大學   公務員    70.0  100.0   4.0  85.0    是   \n",
       "7       1008  45.0  男   已婚   大學  自營老闆   250.0  120.0   3.0  90.0    是   \n",
       "8       1009  29.0  女   未婚  研究所    醫生   200.0  390.0   2.0  80.0    否   \n",
       "9       1010  33.0  男   已婚   大學  受雇職員    55.0   95.0   2.0  75.0    否   \n",
       "10     10003  28.0  女   未婚   大學    教師    50.0  100.0   1.0  70.0    否   \n",
       "11     10004  32.0  男   已婚   大學   工程師    75.0   50.0   2.0  85.0    是   \n",
       "12     10005  45.0  女   離婚   高中  受雇職員    40.0   50.0   1.0  60.0    否   \n",
       "13     10006  39.0  男   已婚  研究所    律師   120.0  150.0   5.0  95.0    是   \n",
       "14     10007  26.0  男   未婚   大學  受雇職員    35.0   70.0   1.0  50.0    否   \n",
       "15     10008  33.0  女   已婚  研究所    教師    90.0  140.0   3.0  80.0    是   \n",
       "16     10009  51.0  女   已婚   大學  受雇職員    60.0   50.0   1.0  75.0    是   \n",
       "17     10010  44.0  男   已婚   高中  自營老闆   800.0  220.0   2.0  90.0    是   \n",
       "18     10011  29.0  女   未婚   大學  受雇職員    40.0   60.0   1.0  65.0    否   \n",
       "19     10012  37.0  男   已婚   大學    教師    55.0   85.0   3.0  70.0    是   \n",
       "20     10013  48.0  男   已婚  研究所    醫生   180.0  180.0   5.0  95.0    是   \n",
       "21     10014  25.0  女   未婚   高中  受雇職員    30.0   50.0   1.0  55.0    否   \n",
       "22     10015  42.0  女   已婚   大學   公務員    65.0   85.0   2.0  85.0    是   \n",
       "23     10016  31.0  男   未婚   大學   工程師    70.0  120.0   3.0  80.0    是   \n",
       "24     10017  35.0  女   已婚   高中  受雇職員    45.0  100.0   1.0  70.0    否   \n",
       "25     10018  40.0  男   已婚   大學  自營老闆   195.0  150.0   5.0  90.0    是   \n",
       "26     10019  27.0  男   未婚   大學  受雇職員    38.0   80.0   2.0  60.0    否   \n",
       "27     10020  43.0  女   已婚  研究所    律師   120.0  160.0   4.0  95.0    是   \n",
       "28  20210021  38.0  女   已婚   碩士    律師    80.0  150.0   5.0  71.0    是   \n",
       "29  20210022  27.0  男   未婚   大學  受雇職員    40.0  100.0   3.0  63.0   不是   \n",
       "30  20210023  45.0  女   已婚   高中  自營老闆   220.0  800.0  10.0  80.0    是   \n",
       "31  20210024  32.0  男   已婚  研究所    教師    60.0  100.0   3.0  72.0    是   \n",
       "32  20210025  48.0  女   已婚   大學  受雇職員    90.0  130.0   5.0  67.0    是   \n",
       "33  20210026  55.0  男   離婚   高中  自營老闆   150.0  500.0  10.0  75.0    是   \n",
       "34  20210027  23.0  女   未婚   高中    醫生   150.0  300.0   2.0  66.0   不是   \n",
       "35  20210028  39.0  男   已婚   碩士   工程師   200.0  400.0   5.0  78.0    是   \n",
       "36  20210029  50.0  男   已婚  研究所   公務員   110.0  200.0   7.0  79.0    是   \n",
       "37  20210030  31.0  女   未婚   大學  受雇職員    55.0  100.0   3.0  70.0    是   \n",
       "38  20210031  43.0  女   已婚   碩士    教師    95.0  300.0  10.0  74.0    是   \n",
       "39  20210032  28.0  男   未婚   大學  受雇職員    45.0  120.0   3.0  62.0   不是   \n",
       "40  20210033  47.0  女   已婚   高中  自營老闆   130.0  400.0  10.0  77.0    是   \n",
       "41  20210034  29.0  男   未婚  研究所   工程師    60.0  150.0   4.0  71.0    是   \n",
       "42  20210035  42.0  男   已婚   大學  受雇職員    90.0  200.0   5.0  75.0    是   \n",
       "43  20210036  36.0  女   已婚   高中  自營老闆   170.0  300.0   5.0  68.0    是   \n",
       "44         1  35.0  男   已婚   大學  受雇職員    60.0  250.0   5.0  85.0    是   \n",
       "\n",
       "     年收入_log  貸款金額_log  \n",
       "0   6.684612  4.605170  \n",
       "1   3.912023  4.382027  \n",
       "2   7.090077  5.298317  \n",
       "3   4.094345  5.192957  \n",
       "4   4.605170  4.605170  \n",
       "5   3.688879  4.941642  \n",
       "6   4.248495  4.605170  \n",
       "7   5.521461  4.787492  \n",
       "8   5.298317  5.966147  \n",
       "9   4.007333  4.553877  \n",
       "10  3.912023  4.605170  \n",
       "11  4.317488  3.912023  \n",
       "12  3.688879  3.912023  \n",
       "13  4.787492  5.010635  \n",
       "14  3.555348  4.248495  \n",
       "15  4.499810  4.941642  \n",
       "16  4.094345  3.912023  \n",
       "17  6.684612  5.393628  \n",
       "18  3.688879  4.094345  \n",
       "19  4.007333  4.442651  \n",
       "20  5.192957  5.192957  \n",
       "21  3.401197  3.912023  \n",
       "22  4.174387  4.442651  \n",
       "23  4.248495  4.787492  \n",
       "24  3.806662  4.605170  \n",
       "25  5.273000  5.010635  \n",
       "26  3.637586  4.382027  \n",
       "27  4.787492  5.075174  \n",
       "28  4.382027  5.010635  \n",
       "29  3.688879  4.605170  \n",
       "30  5.393628  6.684612  \n",
       "31  4.094345  4.605170  \n",
       "32  4.499810  4.867534  \n",
       "33  5.010635  6.214608  \n",
       "34  5.010635  5.703782  \n",
       "35  5.298317  5.991465  \n",
       "36  4.700480  5.298317  \n",
       "37  4.007333  4.605170  \n",
       "38  4.553877  5.703782  \n",
       "39  3.806662  4.787492  \n",
       "40  4.867534  5.991465  \n",
       "41  4.094345  5.010635  \n",
       "42  4.499810  5.298317  \n",
       "43  5.135798  5.703782  \n",
       "44  4.094345  5.521461  "
      ]
     },
     "execution_count": 15,
     "metadata": {},
     "output_type": "execute_result"
    }
   ],
   "source": [
    "df.head(45)"
   ]
  },
  {
   "cell_type": "markdown",
   "metadata": {},
   "source": [
    "### Step4.3 \n",
    "### B）缺失值處理\n",
    "### 作法:\n",
    "###    1.缺失值刪除（dropna）\n",
    "###      ①刪除例項\n",
    "\n",
    "###    2.缺失值填充（fillna）\n",
    "\n",
    "###      ③用眾數填充,可以用未缺失資料的眾數來填充缺失值 \n"
   ]
  },
  {
   "cell_type": "code",
   "execution_count": 16,
   "metadata": {},
   "outputs": [
    {
     "data": {
      "text/plain": [
       "客戶ID         0\n",
       "年齡           1\n",
       "性別           4\n",
       "婚姻狀況         5\n",
       "教育程度         8\n",
       "職業           6\n",
       "年收入          7\n",
       "貸款金額         4\n",
       "還款期限         2\n",
       "信用狀態        11\n",
       "貸款批准         7\n",
       "年收入_log      7\n",
       "貸款金額_log     4\n",
       "dtype: int64"
      ]
     },
     "execution_count": 16,
     "metadata": {},
     "output_type": "execute_result"
    }
   ],
   "source": [
    "df.isnull().sum()"
   ]
  },
  {
   "cell_type": "code",
   "execution_count": 21,
   "metadata": {},
   "outputs": [],
   "source": [
    "# fillna ==>用某一個特定值取代所有 nan\n",
    "# inplace = True：直接对原始对象資料進行修改；\n",
    "# inplace = False：不動原資料，修改结果放在新建的資料。\n",
    "# mode()[0]==>眾數，就是出現频数最高的那个值\n",
    "df['性別'].fillna(df['性別'].mode()[0],inplace=False)\n",
    "df['婚姻狀況'].fillna(df['婚姻狀況'].mode()[0],inplace=False)\n",
    "df['職業'].fillna(df['職業'].mode()[0],inplace=False)\n",
    "df['年收入'].fillna(df['年收入'].mode()[0],inplace=False)\n",
    "df['還款期限'].fillna(df['還款期限'].mode()[0],inplace=False)\n",
    "df['信用狀態'].fillna(df['信用狀態'].mode()[0],inplace=False)\n",
    "df.年收入=df.年收入.fillna(df.年收入.mean())\n",
    "df.年收入_log=df.年收入_log.fillna(df.年收入_log.mean())"
   ]
  },
  {
   "cell_type": "code",
   "execution_count": 22,
   "metadata": {},
   "outputs": [
    {
     "data": {
      "text/plain": [
       "客戶ID         0\n",
       "年齡           1\n",
       "性別           4\n",
       "婚姻狀況         5\n",
       "教育程度         8\n",
       "職業           6\n",
       "年收入          0\n",
       "貸款金額         4\n",
       "還款期限         2\n",
       "信用狀態        11\n",
       "貸款批准         7\n",
       "年收入_log      0\n",
       "貸款金額_log     4\n",
       "dtype: int64"
      ]
     },
     "execution_count": 22,
     "metadata": {},
     "output_type": "execute_result"
    }
   ],
   "source": [
    "#Checking if any null values is present or not\n",
    "df.isnull().sum()"
   ]
  },
  {
   "cell_type": "code",
   "execution_count": 23,
   "metadata": {},
   "outputs": [
    {
     "data": {
      "text/plain": [
       "Index(['客戶ID', '年齡', '性別', '婚姻狀況', '教育程度', '職業', '年收入', '貸款金額', '還款期限', '信用狀態',\n",
       "       '貸款批准', '年收入_log', '貸款金額_log'],\n",
       "      dtype='object')"
      ]
     },
     "execution_count": 23,
     "metadata": {},
     "output_type": "execute_result"
    }
   ],
   "source": [
    "df.columns"
   ]
  },
  {
   "cell_type": "markdown",
   "metadata": {},
   "source": [
    "### Step4.4\n",
    "### C） 選取過濾模型用資料集:選取之後要做成訓練集及測試集的特徵欄位及資料\n",
    "### 使用 loc函数 or iloc函数"
   ]
  },
  {
   "cell_type": "markdown",
   "metadata": {},
   "source": [
    "### np.r_是水平連接矩陣欄位\n",
    "### np.c_是垂直連接矩陣欄位\n",
    "\n",
    "### #預備抓取那些特徵資料欄位 當作 X train data?"
   ]
  },
  {
   "cell_type": "code",
   "execution_count": 24,
   "metadata": {},
   "outputs": [
    {
     "data": {
      "text/plain": [
       "array([ 1,  2,  3,  4,  9, 10, 13, 14])"
      ]
     },
     "execution_count": 24,
     "metadata": {},
     "output_type": "execute_result"
    }
   ],
   "source": [
    "np.r_[1:5,9:11,13:15]"
   ]
  },
  {
   "cell_type": "markdown",
   "metadata": {},
   "source": [
    "### 抓取特徵欄位及其資料"
   ]
  },
  {
   "cell_type": "code",
   "execution_count": 25,
   "metadata": {},
   "outputs": [
    {
     "data": {
      "text/plain": [
       "Index(['客戶ID', '年齡', '性別', '婚姻狀況', '教育程度', '職業', '年收入', '貸款金額', '還款期限', '信用狀態',\n",
       "       '貸款批准', '年收入_log', '貸款金額_log'],\n",
       "      dtype='object')"
      ]
     },
     "execution_count": 25,
     "metadata": {},
     "output_type": "execute_result"
    }
   ],
   "source": [
    "df.columns"
   ]
  },
  {
   "cell_type": "code",
   "execution_count": 26,
   "metadata": {},
   "outputs": [
    {
     "ename": "IndexError",
     "evalue": "positional indexers are out-of-bounds",
     "output_type": "error",
     "traceback": [
      "\u001b[1;31m---------------------------------------------------------------------------\u001b[0m",
      "\u001b[1;31mIndexError\u001b[0m                                Traceback (most recent call last)",
      "\u001b[1;32mC:\\Users\\ADMINI~1\\AppData\\Local\\Temp/ipykernel_6092/1259491031.py\u001b[0m in \u001b[0;36m<module>\u001b[1;34m\u001b[0m\n\u001b[1;32m----> 1\u001b[1;33m \u001b[0mx\u001b[0m\u001b[1;33m=\u001b[0m\u001b[0mdf\u001b[0m\u001b[1;33m.\u001b[0m\u001b[0miloc\u001b[0m\u001b[1;33m[\u001b[0m\u001b[1;33m:\u001b[0m\u001b[1;33m,\u001b[0m\u001b[0mnp\u001b[0m\u001b[1;33m.\u001b[0m\u001b[0mr_\u001b[0m\u001b[1;33m[\u001b[0m\u001b[1;36m1\u001b[0m\u001b[1;33m:\u001b[0m\u001b[1;36m5\u001b[0m\u001b[1;33m,\u001b[0m\u001b[1;36m9\u001b[0m\u001b[1;33m:\u001b[0m\u001b[1;36m11\u001b[0m\u001b[1;33m,\u001b[0m\u001b[1;36m13\u001b[0m\u001b[1;33m:\u001b[0m\u001b[1;36m15\u001b[0m\u001b[1;33m]\u001b[0m\u001b[1;33m]\u001b[0m\u001b[1;33m.\u001b[0m\u001b[0mvalues\u001b[0m\u001b[1;33m\u001b[0m\u001b[1;33m\u001b[0m\u001b[0m\n\u001b[0m\u001b[0;32m      2\u001b[0m \u001b[0mprint\u001b[0m\u001b[1;33m(\u001b[0m\u001b[0mx\u001b[0m\u001b[1;33m[\u001b[0m\u001b[1;36m0\u001b[0m\u001b[1;33m]\u001b[0m\u001b[1;33m)\u001b[0m\u001b[1;33m\u001b[0m\u001b[1;33m\u001b[0m\u001b[0m\n",
      "\u001b[1;32mC:\\ProgramData\\Anaconda3\\lib\\site-packages\\pandas\\core\\indexing.py\u001b[0m in \u001b[0;36m__getitem__\u001b[1;34m(self, key)\u001b[0m\n\u001b[0;32m    923\u001b[0m                 \u001b[1;32mwith\u001b[0m \u001b[0msuppress\u001b[0m\u001b[1;33m(\u001b[0m\u001b[0mKeyError\u001b[0m\u001b[1;33m,\u001b[0m \u001b[0mIndexError\u001b[0m\u001b[1;33m)\u001b[0m\u001b[1;33m:\u001b[0m\u001b[1;33m\u001b[0m\u001b[1;33m\u001b[0m\u001b[0m\n\u001b[0;32m    924\u001b[0m                     \u001b[1;32mreturn\u001b[0m \u001b[0mself\u001b[0m\u001b[1;33m.\u001b[0m\u001b[0mobj\u001b[0m\u001b[1;33m.\u001b[0m\u001b[0m_get_value\u001b[0m\u001b[1;33m(\u001b[0m\u001b[1;33m*\u001b[0m\u001b[0mkey\u001b[0m\u001b[1;33m,\u001b[0m \u001b[0mtakeable\u001b[0m\u001b[1;33m=\u001b[0m\u001b[0mself\u001b[0m\u001b[1;33m.\u001b[0m\u001b[0m_takeable\u001b[0m\u001b[1;33m)\u001b[0m\u001b[1;33m\u001b[0m\u001b[1;33m\u001b[0m\u001b[0m\n\u001b[1;32m--> 925\u001b[1;33m             \u001b[1;32mreturn\u001b[0m \u001b[0mself\u001b[0m\u001b[1;33m.\u001b[0m\u001b[0m_getitem_tuple\u001b[0m\u001b[1;33m(\u001b[0m\u001b[0mkey\u001b[0m\u001b[1;33m)\u001b[0m\u001b[1;33m\u001b[0m\u001b[1;33m\u001b[0m\u001b[0m\n\u001b[0m\u001b[0;32m    926\u001b[0m         \u001b[1;32melse\u001b[0m\u001b[1;33m:\u001b[0m\u001b[1;33m\u001b[0m\u001b[1;33m\u001b[0m\u001b[0m\n\u001b[0;32m    927\u001b[0m             \u001b[1;31m# we by definition only have the 0th axis\u001b[0m\u001b[1;33m\u001b[0m\u001b[1;33m\u001b[0m\u001b[0m\n",
      "\u001b[1;32mC:\\ProgramData\\Anaconda3\\lib\\site-packages\\pandas\\core\\indexing.py\u001b[0m in \u001b[0;36m_getitem_tuple\u001b[1;34m(self, tup)\u001b[0m\n\u001b[0;32m   1504\u001b[0m     \u001b[1;32mdef\u001b[0m \u001b[0m_getitem_tuple\u001b[0m\u001b[1;33m(\u001b[0m\u001b[0mself\u001b[0m\u001b[1;33m,\u001b[0m \u001b[0mtup\u001b[0m\u001b[1;33m:\u001b[0m \u001b[0mtuple\u001b[0m\u001b[1;33m)\u001b[0m\u001b[1;33m:\u001b[0m\u001b[1;33m\u001b[0m\u001b[1;33m\u001b[0m\u001b[0m\n\u001b[0;32m   1505\u001b[0m \u001b[1;33m\u001b[0m\u001b[0m\n\u001b[1;32m-> 1506\u001b[1;33m         \u001b[0mself\u001b[0m\u001b[1;33m.\u001b[0m\u001b[0m_has_valid_tuple\u001b[0m\u001b[1;33m(\u001b[0m\u001b[0mtup\u001b[0m\u001b[1;33m)\u001b[0m\u001b[1;33m\u001b[0m\u001b[1;33m\u001b[0m\u001b[0m\n\u001b[0m\u001b[0;32m   1507\u001b[0m         \u001b[1;32mwith\u001b[0m \u001b[0msuppress\u001b[0m\u001b[1;33m(\u001b[0m\u001b[0mIndexingError\u001b[0m\u001b[1;33m)\u001b[0m\u001b[1;33m:\u001b[0m\u001b[1;33m\u001b[0m\u001b[1;33m\u001b[0m\u001b[0m\n\u001b[0;32m   1508\u001b[0m             \u001b[1;32mreturn\u001b[0m \u001b[0mself\u001b[0m\u001b[1;33m.\u001b[0m\u001b[0m_getitem_lowerdim\u001b[0m\u001b[1;33m(\u001b[0m\u001b[0mtup\u001b[0m\u001b[1;33m)\u001b[0m\u001b[1;33m\u001b[0m\u001b[1;33m\u001b[0m\u001b[0m\n",
      "\u001b[1;32mC:\\ProgramData\\Anaconda3\\lib\\site-packages\\pandas\\core\\indexing.py\u001b[0m in \u001b[0;36m_has_valid_tuple\u001b[1;34m(self, key)\u001b[0m\n\u001b[0;32m    752\u001b[0m         \u001b[1;32mfor\u001b[0m \u001b[0mi\u001b[0m\u001b[1;33m,\u001b[0m \u001b[0mk\u001b[0m \u001b[1;32min\u001b[0m \u001b[0menumerate\u001b[0m\u001b[1;33m(\u001b[0m\u001b[0mkey\u001b[0m\u001b[1;33m)\u001b[0m\u001b[1;33m:\u001b[0m\u001b[1;33m\u001b[0m\u001b[1;33m\u001b[0m\u001b[0m\n\u001b[0;32m    753\u001b[0m             \u001b[1;32mtry\u001b[0m\u001b[1;33m:\u001b[0m\u001b[1;33m\u001b[0m\u001b[1;33m\u001b[0m\u001b[0m\n\u001b[1;32m--> 754\u001b[1;33m                 \u001b[0mself\u001b[0m\u001b[1;33m.\u001b[0m\u001b[0m_validate_key\u001b[0m\u001b[1;33m(\u001b[0m\u001b[0mk\u001b[0m\u001b[1;33m,\u001b[0m \u001b[0mi\u001b[0m\u001b[1;33m)\u001b[0m\u001b[1;33m\u001b[0m\u001b[1;33m\u001b[0m\u001b[0m\n\u001b[0m\u001b[0;32m    755\u001b[0m             \u001b[1;32mexcept\u001b[0m \u001b[0mValueError\u001b[0m \u001b[1;32mas\u001b[0m \u001b[0merr\u001b[0m\u001b[1;33m:\u001b[0m\u001b[1;33m\u001b[0m\u001b[1;33m\u001b[0m\u001b[0m\n\u001b[0;32m    756\u001b[0m                 raise ValueError(\n",
      "\u001b[1;32mC:\\ProgramData\\Anaconda3\\lib\\site-packages\\pandas\\core\\indexing.py\u001b[0m in \u001b[0;36m_validate_key\u001b[1;34m(self, key, axis)\u001b[0m\n\u001b[0;32m   1422\u001b[0m             \u001b[1;31m# check that the key does not exceed the maximum size of the index\u001b[0m\u001b[1;33m\u001b[0m\u001b[1;33m\u001b[0m\u001b[0m\n\u001b[0;32m   1423\u001b[0m             \u001b[1;32mif\u001b[0m \u001b[0mlen\u001b[0m\u001b[1;33m(\u001b[0m\u001b[0marr\u001b[0m\u001b[1;33m)\u001b[0m \u001b[1;32mand\u001b[0m \u001b[1;33m(\u001b[0m\u001b[0marr\u001b[0m\u001b[1;33m.\u001b[0m\u001b[0mmax\u001b[0m\u001b[1;33m(\u001b[0m\u001b[1;33m)\u001b[0m \u001b[1;33m>=\u001b[0m \u001b[0mlen_axis\u001b[0m \u001b[1;32mor\u001b[0m \u001b[0marr\u001b[0m\u001b[1;33m.\u001b[0m\u001b[0mmin\u001b[0m\u001b[1;33m(\u001b[0m\u001b[1;33m)\u001b[0m \u001b[1;33m<\u001b[0m \u001b[1;33m-\u001b[0m\u001b[0mlen_axis\u001b[0m\u001b[1;33m)\u001b[0m\u001b[1;33m:\u001b[0m\u001b[1;33m\u001b[0m\u001b[1;33m\u001b[0m\u001b[0m\n\u001b[1;32m-> 1424\u001b[1;33m                 \u001b[1;32mraise\u001b[0m \u001b[0mIndexError\u001b[0m\u001b[1;33m(\u001b[0m\u001b[1;34m\"positional indexers are out-of-bounds\"\u001b[0m\u001b[1;33m)\u001b[0m\u001b[1;33m\u001b[0m\u001b[1;33m\u001b[0m\u001b[0m\n\u001b[0m\u001b[0;32m   1425\u001b[0m         \u001b[1;32melse\u001b[0m\u001b[1;33m:\u001b[0m\u001b[1;33m\u001b[0m\u001b[1;33m\u001b[0m\u001b[0m\n\u001b[0;32m   1426\u001b[0m             \u001b[1;32mraise\u001b[0m \u001b[0mValueError\u001b[0m\u001b[1;33m(\u001b[0m\u001b[1;34mf\"Can only index by location with a [{self._valid_types}]\"\u001b[0m\u001b[1;33m)\u001b[0m\u001b[1;33m\u001b[0m\u001b[1;33m\u001b[0m\u001b[0m\n",
      "\u001b[1;31mIndexError\u001b[0m: positional indexers are out-of-bounds"
     ]
    }
   ],
   "source": [
    "x=df.iloc[:,np.r_[1:5,9:11,13:15]].values\n",
    "print(x[0])"
   ]
  },
  {
   "cell_type": "code",
   "execution_count": 27,
   "metadata": {},
   "outputs": [
    {
     "data": {
      "text/plain": [
       "array([4.60517019, 4.38202663, 5.29831737, 5.19295685, 4.60517019,\n",
       "       4.94164242, 4.60517019, 4.78749174, 5.96614674, 4.55387689,\n",
       "       4.60517019, 3.91202301, 3.91202301, 5.01063529, 4.24849524,\n",
       "       4.94164242, 3.91202301, 5.39362755, 4.09434456, 4.44265126,\n",
       "       5.19295685, 3.91202301, 4.44265126, 4.78749174, 4.60517019,\n",
       "       5.01063529, 4.38202663, 5.07517382, 5.01063529, 4.60517019,\n",
       "       6.68461173, 4.60517019, 4.86753445, 6.2146081 , 5.70378247,\n",
       "       5.99146455, 5.29831737, 4.60517019, 5.70378247, 4.78749174,\n",
       "       5.99146455, 5.01063529, 5.29831737, 5.70378247, 5.52146092,\n",
       "       5.85793315, 5.01063529, 5.29831737, 5.70378247, 4.60517019,\n",
       "       5.99146455, 4.78749174, 5.01063529, 5.52146092, 5.99146455,\n",
       "       4.38202663, 5.70378247, 4.60517019, 5.85793315, 5.29831737,\n",
       "       6.10924758, 4.78749174, 5.70378247, 5.01063529, 5.19295685,\n",
       "       5.85793315, 3.91202301, 5.01063529, 4.49980967, 5.70378247,\n",
       "       3.40119738, 5.29831737, 5.99146455, 4.38202663, 4.78749174,\n",
       "       5.19295685, 5.52146092, 4.86753445, 5.29831737, 4.09434456,\n",
       "       5.01063529, 5.85793315, 4.24849524, 5.39362755, 5.70378247,\n",
       "       3.91202301, 4.60517019, 5.01063529, 5.29831737, 4.38202663,\n",
       "       4.78749174, 5.99146455, 3.91202301, 5.70378247, 5.29831737,\n",
       "       4.38202663, 5.01063529, 5.29831737, 3.91202301, 5.52146092,\n",
       "       4.24849524, 5.99146455, 5.01063529, 4.60517019, 4.38202663,\n",
       "       3.40119738,        nan, 4.49980967, 3.68887945, 4.78749174,\n",
       "       3.91202301, 5.70378247, 2.99573227, 5.01063529, 4.38202663,\n",
       "       2.30258509, 4.24849524, 5.29831737, 3.40119738, 3.91202301,\n",
       "       5.52146092, 1.60943791, 5.19295685,        nan, 3.76120012,\n",
       "       3.36729583, 4.02535169, 3.68887945, 4.09434456, 2.89037176,\n",
       "       3.63758616, 3.91202301, 3.25809654, 3.80666249, 3.52636052,\n",
       "       3.87120101, 4.04305127,        nan, 3.68887945, 3.93182563,\n",
       "       3.17805383, 3.40119738, 3.55534806, 2.99573227, 3.80666249,\n",
       "       3.91202301, 2.99573227, 3.40119738, 2.7080502 , 4.38202663,\n",
       "       3.91202301, 3.21887582, 2.30258509, 3.68887945, 4.09434456,\n",
       "       3.80666249, 3.40119738, 4.00733319, 4.24849524, 3.55534806,\n",
       "       2.48490665, 4.31748811, 3.68887945, 2.99573227, 3.91202301,\n",
       "       5.29831737, 3.91202301, 4.60517019, 5.99146455, 5.52146092,\n",
       "       5.01063529, 3.40119738, 6.2146081 , 4.38202663, 4.78749174,\n",
       "       5.29831737, 2.99573227, 4.60517019, 5.01063529, 3.91202301,\n",
       "       3.40119738, 6.10924758, 4.60517019, 5.70378247, 3.91202301,\n",
       "       3.21887582, 2.7080502 , 4.24849524, 2.99573227, 3.40119738,\n",
       "       4.09434456, 3.68887945, 2.48490665, 3.55534806, 3.91202301,\n",
       "       2.7080502 , 2.99573227, 3.40119738, 2.30258509, 4.09434456,\n",
       "       3.80666249, 2.89037176, 2.99573227, 4.24849524,        nan])"
      ]
     },
     "execution_count": 27,
     "metadata": {},
     "output_type": "execute_result"
    }
   ],
   "source": [
    "y=df.iloc[:,12].values\n",
    "y"
   ]
  },
  {
   "cell_type": "markdown",
   "metadata": {},
   "source": [
    "### Step4.5\n",
    "### D）資料轉換:將類別 (categorical)或是文字(text)的資料轉換成數字\n",
    "### 做法: Label encoding"
   ]
  },
  {
   "cell_type": "markdown",
   "metadata": {},
   "source": [
    "### 執行資料轉換:將欄位內類別 (categorical)或是文字(text)的資料轉換成數字"
   ]
  },
  {
   "cell_type": "code",
   "execution_count": 28,
   "metadata": {},
   "outputs": [],
   "source": [
    "Labelencoder_x=LabelEncoder()\n",
    "Labelencoder_y=LabelEncoder()"
   ]
  },
  {
   "cell_type": "markdown",
   "metadata": {},
   "source": [
    "#### 先看一下要轉換的性別, 婚姻狀況, 教育程度, 職業,對應資料值"
   ]
  },
  {
   "cell_type": "code",
   "execution_count": 29,
   "metadata": {},
   "outputs": [
    {
     "ename": "NameError",
     "evalue": "name 'x' is not defined",
     "output_type": "error",
     "traceback": [
      "\u001b[1;31m---------------------------------------------------------------------------\u001b[0m",
      "\u001b[1;31mNameError\u001b[0m                                 Traceback (most recent call last)",
      "\u001b[1;32mC:\\Users\\ADMINI~1\\AppData\\Local\\Temp/ipykernel_6092/3106634985.py\u001b[0m in \u001b[0;36m<module>\u001b[1;34m\u001b[0m\n\u001b[1;32m----> 1\u001b[1;33m \u001b[0m性別\u001b[0m\u001b[1;33m=\u001b[0m\u001b[0mLabelencoder_x\u001b[0m\u001b[1;33m.\u001b[0m\u001b[0mfit\u001b[0m\u001b[1;33m(\u001b[0m\u001b[0mx\u001b[0m\u001b[1;33m[\u001b[0m\u001b[1;33m:\u001b[0m\u001b[1;33m,\u001b[0m\u001b[1;36m1\u001b[0m\u001b[1;33m]\u001b[0m\u001b[1;33m)\u001b[0m\u001b[1;33m\u001b[0m\u001b[1;33m\u001b[0m\u001b[0m\n\u001b[0m\u001b[0;32m      2\u001b[0m \u001b[0m性別\u001b[0m\u001b[1;33m.\u001b[0m\u001b[0mclasses_\u001b[0m\u001b[1;33m\u001b[0m\u001b[1;33m\u001b[0m\u001b[0m\n",
      "\u001b[1;31mNameError\u001b[0m: name 'x' is not defined"
     ]
    }
   ],
   "source": [
    "性別=Labelencoder_x.fit(x[:,1])\n",
    "性別.classes_"
   ]
  },
  {
   "cell_type": "code",
   "execution_count": null,
   "metadata": {},
   "outputs": [],
   "source": [
    "data_2=Labelencoder_x.fit(x[:,?])\n",
    "data_2.classes_"
   ]
  },
  {
   "cell_type": "code",
   "execution_count": null,
   "metadata": {},
   "outputs": [],
   "source": [
    "data_3=Labelencoder_x.fit(x[:,?])\n",
    "data_3.classes_"
   ]
  },
  {
   "cell_type": "code",
   "execution_count": null,
   "metadata": {},
   "outputs": [],
   "source": [
    "data_4=Labelencoder_x.fit(x[:,?])\n",
    "data_4.classes_"
   ]
  },
  {
   "cell_type": "code",
   "execution_count": null,
   "metadata": {},
   "outputs": [],
   "source": [
    "#轉換前\n",
    "print(x[0])"
   ]
  },
  {
   "cell_type": "code",
   "execution_count": 30,
   "metadata": {},
   "outputs": [
    {
     "name": "stdout",
     "output_type": "stream",
     "text": [
      "['Male' 'No' '0' 'Graduate' 360.0 1.0 4.857444178729353 8.674025985443025]\n",
      "[1 0 0 0 8 1.0 4.857444178729353 320]\n"
     ]
    }
   ],
   "source": [
    "for i in range(?,?):\n",
    "    x[:,i]=Labelencoder_x.fit_transform(x[:,i])\n",
    "#轉換後\n",
    "print(x[0])"
   ]
  },
  {
   "cell_type": "code",
   "execution_count": 31,
   "metadata": {},
   "outputs": [
    {
     "name": "stdout",
     "output_type": "stream",
     "text": [
      "['Y' 'N' 'Y' 'Y' 'Y' 'Y' 'Y' 'N' 'Y' 'N' 'Y' 'Y' 'Y' 'N' 'Y' 'Y' 'Y' 'N'\n",
      " 'N' 'Y' 'N' 'Y' 'N' 'N' 'N' 'Y' 'Y' 'Y' 'N' 'Y' 'N' 'N' 'N' 'Y' 'N' 'Y'\n",
      " 'N' 'Y' 'Y' 'Y' 'N' 'Y' 'Y' 'Y' 'Y' 'Y' 'Y' 'Y' 'N' 'Y' 'Y' 'Y' 'N' 'N'\n",
      " 'N' 'Y' 'Y' 'N' 'Y' 'Y' 'Y' 'Y' 'N' 'N' 'N' 'N' 'N' 'Y' 'Y' 'N' 'Y' 'Y'\n",
      " 'Y' 'N' 'Y' 'N' 'N' 'N' 'N' 'Y' 'Y' 'Y' 'N' 'N' 'Y' 'Y' 'Y' 'Y' 'Y' 'Y'\n",
      " 'Y' 'Y' 'Y' 'Y' 'Y' 'N' 'Y' 'Y' 'Y' 'Y' 'Y' 'Y' 'Y' 'Y' 'Y' 'Y' 'Y' 'N'\n",
      " 'N' 'Y' 'Y' 'Y' 'N' 'Y' 'Y' 'Y' 'Y' 'Y' 'N' 'Y' 'Y' 'Y' 'Y' 'Y' 'Y' 'Y'\n",
      " 'Y' 'Y' 'N' 'N' 'Y' 'Y' 'Y' 'Y' 'Y' 'N' 'N' 'Y' 'N' 'N' 'N' 'Y' 'Y' 'Y'\n",
      " 'Y' 'Y' 'Y' 'Y' 'N' 'Y' 'N' 'Y' 'N' 'N' 'Y' 'Y' 'Y' 'Y' 'Y' 'Y' 'Y' 'N'\n",
      " 'N' 'Y' 'Y' 'Y' 'N' 'Y' 'N' 'Y' 'Y' 'Y' 'N' 'Y' 'N' 'Y' 'Y' 'N' 'Y' 'N'\n",
      " 'N' 'N' 'Y' 'N' 'Y' 'Y' 'N' 'Y' 'Y' 'Y' 'Y' 'N' 'N' 'Y' 'Y' 'N' 'Y' 'Y'\n",
      " 'Y' 'N' 'Y' 'Y' 'N' 'Y' 'Y' 'Y' 'Y' 'Y' 'Y' 'N' 'N' 'N' 'Y' 'Y' 'Y' 'Y'\n",
      " 'N' 'Y' 'N' 'Y' 'N' 'Y' 'Y' 'Y' 'Y' 'N' 'N' 'Y' 'Y' 'Y' 'Y' 'Y' 'Y' 'Y'\n",
      " 'Y' 'Y' 'N' 'Y' 'Y' 'Y' 'Y' 'N' 'Y' 'Y' 'Y' 'N' 'Y' 'Y' 'Y' 'Y' 'N' 'N'\n",
      " 'Y' 'Y' 'N' 'Y' 'N' 'N' 'N' 'N' 'Y' 'Y' 'N' 'Y' 'Y' 'Y' 'Y' 'Y' 'N' 'Y'\n",
      " 'Y' 'Y' 'Y' 'Y' 'Y' 'Y' 'Y' 'Y' 'Y' 'Y' 'N' 'Y' 'Y' 'Y' 'N' 'Y' 'N' 'Y'\n",
      " 'Y' 'Y' 'Y' 'N' 'Y' 'N' 'Y' 'Y' 'Y' 'Y' 'N' 'N' 'N' 'Y' 'Y' 'Y' 'Y' 'N'\n",
      " 'Y' 'N' 'N' 'Y' 'Y' 'Y' 'Y' 'Y' 'N' 'Y' 'Y' 'Y' 'Y' 'N' 'Y' 'Y' 'Y' 'Y'\n",
      " 'Y' 'N' 'Y' 'Y' 'N' 'Y' 'Y' 'Y' 'Y' 'Y' 'Y' 'Y' 'Y' 'Y' 'N' 'Y' 'N' 'N'\n",
      " 'Y' 'Y' 'Y' 'Y' 'N' 'Y' 'Y' 'Y' 'Y' 'N' 'Y' 'N' 'Y' 'Y' 'Y' 'N' 'N' 'Y'\n",
      " 'N' 'Y' 'Y' 'Y' 'Y' 'N' 'N' 'N' 'Y' 'N' 'Y' 'Y' 'Y' 'N' 'Y' 'Y' 'Y' 'Y'\n",
      " 'N' 'Y' 'Y' 'Y' 'Y' 'Y' 'N' 'Y' 'Y' 'N' 'Y' 'Y' 'Y' 'Y' 'Y' 'Y' 'Y' 'Y'\n",
      " 'N' 'Y' 'Y' 'N' 'N' 'N' 'Y' 'Y' 'N' 'Y' 'Y' 'Y' 'N' 'N' 'N' 'Y' 'N' 'Y'\n",
      " 'N' 'Y' 'N' 'N' 'Y' 'Y' 'Y' 'N' 'Y' 'N' 'Y' 'Y' 'N' 'Y' 'Y' 'Y' 'Y' 'N'\n",
      " 'Y' 'Y' 'Y' 'Y' 'Y' 'Y' 'N' 'Y' 'Y' 'Y' 'Y' 'Y' 'Y' 'Y' 'Y' 'N' 'N' 'N'\n",
      " 'N' 'Y' 'N' 'Y' 'Y' 'Y' 'Y' 'N' 'Y' 'N' 'Y' 'Y' 'Y' 'Y' 'N' 'Y' 'N' 'Y'\n",
      " 'Y' 'N' 'Y' 'N' 'Y' 'Y' 'Y' 'Y' 'Y' 'N' 'Y' 'N' 'Y' 'Y' 'Y' 'Y' 'Y' 'Y'\n",
      " 'N' 'N' 'Y' 'N' 'Y' 'Y' 'Y' 'Y' 'N' 'Y' 'Y' 'Y' 'Y' 'N' 'Y' 'Y' 'Y' 'N'\n",
      " 'Y' 'Y' 'Y' 'N' 'Y' 'Y' 'N' 'Y' 'Y' 'N' 'N' 'Y' 'Y' 'N' 'N' 'N' 'Y' 'Y'\n",
      " 'Y' 'Y' 'N' 'Y' 'Y' 'Y' 'Y' 'Y' 'Y' 'Y' 'N' 'N' 'Y' 'Y' 'Y' 'Y' 'N' 'Y'\n",
      " 'Y' 'N' 'Y' 'Y' 'Y' 'Y' 'N' 'Y' 'N' 'Y' 'N' 'Y' 'Y' 'N' 'N' 'Y' 'Y' 'Y'\n",
      " 'Y' 'Y' 'Y' 'Y' 'Y' 'Y' 'N' 'Y' 'Y' 'N' 'N' 'N' 'Y' 'N' 'Y' 'N' 'N' 'Y'\n",
      " 'N' 'Y' 'Y' 'Y' 'Y' 'N' 'Y' 'N' 'N' 'N' 'Y' 'Y' 'Y' 'N' 'Y' 'N' 'Y' 'Y'\n",
      " 'Y' 'Y' 'N' 'N' 'Y' 'Y' 'N' 'Y' 'Y' 'Y' 'Y' 'N' 'Y' 'Y' 'Y' 'Y' 'Y' 'Y'\n",
      " 'Y' 'N']\n",
      "[1 0 1 1 1 1 1 0 1 0 1 1 1 0 1 1 1 0 0 1 0 1 0 0 0 1 1 1 0 1 0 0 0 1 0 1 0\n",
      " 1 1 1 0 1 1 1 1 1 1 1 0 1 1 1 0 0 0 1 1 0 1 1 1 1 0 0 0 0 0 1 1 0 1 1 1 0\n",
      " 1 0 0 0 0 1 1 1 0 0 1 1 1 1 1 1 1 1 1 1 1 0 1 1 1 1 1 1 1 1 1 1 1 0 0 1 1\n",
      " 1 0 1 1 1 1 1 0 1 1 1 1 1 1 1 1 1 0 0 1 1 1 1 1 0 0 1 0 0 0 1 1 1 1 1 1 1\n",
      " 0 1 0 1 0 0 1 1 1 1 1 1 1 0 0 1 1 1 0 1 0 1 1 1 0 1 0 1 1 0 1 0 0 0 1 0 1\n",
      " 1 0 1 1 1 1 0 0 1 1 0 1 1 1 0 1 1 0 1 1 1 1 1 1 0 0 0 1 1 1 1 0 1 0 1 0 1\n",
      " 1 1 1 0 0 1 1 1 1 1 1 1 1 1 0 1 1 1 1 0 1 1 1 0 1 1 1 1 0 0 1 1 0 1 0 0 0\n",
      " 0 1 1 0 1 1 1 1 1 0 1 1 1 1 1 1 1 1 1 1 1 0 1 1 1 0 1 0 1 1 1 1 0 1 0 1 1\n",
      " 1 1 0 0 0 1 1 1 1 0 1 0 0 1 1 1 1 1 0 1 1 1 1 0 1 1 1 1 1 0 1 1 0 1 1 1 1\n",
      " 1 1 1 1 1 0 1 0 0 1 1 1 1 0 1 1 1 1 0 1 0 1 1 1 0 0 1 0 1 1 1 1 0 0 0 1 0\n",
      " 1 1 1 0 1 1 1 1 0 1 1 1 1 1 0 1 1 0 1 1 1 1 1 1 1 1 0 1 1 0 0 0 1 1 0 1 1\n",
      " 1 0 0 0 1 0 1 0 1 0 0 1 1 1 0 1 0 1 1 0 1 1 1 1 0 1 1 1 1 1 1 0 1 1 1 1 1\n",
      " 1 1 1 0 0 0 0 1 0 1 1 1 1 0 1 0 1 1 1 1 0 1 0 1 1 0 1 0 1 1 1 1 1 0 1 0 1\n",
      " 1 1 1 1 1 0 0 1 0 1 1 1 1 0 1 1 1 1 0 1 1 1 0 1 1 1 0 1 1 0 1 1 0 0 1 1 0\n",
      " 0 0 1 1 1 1 0 1 1 1 1 1 1 1 0 0 1 1 1 1 0 1 1 0 1 1 1 1 0 1 0 1 0 1 1 0 0\n",
      " 1 1 1 1 1 1 1 1 1 0 1 1 0 0 0 1 0 1 0 0 1 0 1 1 1 1 0 1 0 0 0 1 1 1 0 1 0\n",
      " 1 1 1 1 0 0 1 1 0 1 1 1 1 0 1 1 1 1 1 1 1 0]\n"
     ]
    }
   ],
   "source": [
    "print(y)\n",
    "y=Labelencoder_y.fit_transform(y)\n",
    "print(y)"
   ]
  },
  {
   "cell_type": "markdown",
   "metadata": {},
   "source": [
    "### E）資料調節與標準化:將特徵值進行調節,將值縮放到一定的範圍,如0~1之間\n",
    "### 作法1: Standardization 平均&變異數標準化\n",
    "#### 將所有特徵標準化，也就是高斯分佈。使得數據的平均值為0，變異數(方差)為1。\n",
    "#### 變異數（英語：variance）又稱方差、變方，描述的是一個隨機變數的離散程度，即一組數字與其平均值之間的距離的度量"
   ]
  },
  {
   "cell_type": "markdown",
   "metadata": {},
   "source": [
    "## Step5: 執行切割訓練集與測試集"
   ]
  },
  {
   "cell_type": "code",
   "execution_count": 36,
   "metadata": {},
   "outputs": [],
   "source": [
    "X_train,X_test,y_train,y_test=train_test_split(x,y,test_size=0.2,random_state=0)\n"
   ]
  },
  {
   "cell_type": "markdown",
   "metadata": {},
   "source": [
    "### 執行 Standardization 平均&變異數 資料調節與標準化"
   ]
  },
  {
   "cell_type": "code",
   "execution_count": 37,
   "metadata": {},
   "outputs": [],
   "source": [
    "from sklearn.preprocessing import StandardScaler\n",
    "ss=StandardScaler()\n",
    "X_train=ss.fit_transform(X_train)\n",
    "X_test=ss.fit_transform(X_test)"
   ]
  },
  {
   "cell_type": "code",
   "execution_count": null,
   "metadata": {},
   "outputs": [],
   "source": [
    "print(X_train[0])"
   ]
  },
  {
   "cell_type": "markdown",
   "metadata": {},
   "source": [
    "## Step6: 進行各類sklearn ML模型建模,訓練與測試與模型驗證評估\n",
    "## A. ML模型建模:\n",
    "### 1.ML Model: naive_bayes\n",
    "#### from sklearn.naive_bayes import GaussianNB\n",
    "### 2.ML Model: K Neighbors Classification\n",
    "#### from sklearn.neighbors import KNeighborsClassifier\n",
    "### 3.ML Model: Decision Tree Classification\n",
    "#### from sklearn.tree import DecisionTreeClassifier\n",
    "### 4.ML Model: Random Forest Classification\n",
    "#### from sklearn.ensemble import RandomForestClassifier\n",
    "## B. 模型驗證評估:\n",
    "### sklearn.metrics 提供的評估方法:\n",
    "\n",
    "### 3.confusion_matrix\n",
    "#### 語法：\n",
    "#### sklearn.metrics.confusion_matrix(y_true, y_pred, labels=None, sample_weight=None)\n",
    "#### 返回一个混淆矩阵；"
   ]
  },
  {
   "cell_type": "markdown",
   "metadata": {},
   "source": [
    "### 1.ML Model: naive_bayes"
   ]
  },
  {
   "cell_type": "code",
   "execution_count": 38,
   "metadata": {},
   "outputs": [
    {
     "data": {
      "text/plain": [
       "GaussianNB()"
      ]
     },
     "execution_count": 38,
     "metadata": {},
     "output_type": "execute_result"
    }
   ],
   "source": [
    "from sklearn import metrics\n",
    "from sklearn.naive_bayes import GaussianNB\n",
    "clf=GaussianNB()\n",
    "clf.fit(X_train,y_train)"
   ]
  },
  {
   "cell_type": "code",
   "execution_count": 39,
   "metadata": {},
   "outputs": [
    {
     "name": "stdout",
     "output_type": "stream",
     "text": [
      "The naive_bayes accuracy score is  0.2682926829268293\n"
     ]
    }
   ],
   "source": [
    "y_pred=clf.predict(X_test)\n",
    "print(\"The naive_bayes accuracy score is \",metrics.accuracy_score(y_pred,y_test))"
   ]
  },
  {
   "cell_type": "markdown",
   "metadata": {},
   "source": [
    "### 2.ML Model: K Neighbors Classification"
   ]
  },
  {
   "cell_type": "code",
   "execution_count": 40,
   "metadata": {},
   "outputs": [
    {
     "data": {
      "text/plain": [
       "KNeighborsClassifier()"
      ]
     },
     "execution_count": 40,
     "metadata": {},
     "output_type": "execute_result"
    }
   ],
   "source": [
    "from sklearn.neighbors import KNeighborsClassifier\n",
    "kn_clf=KNeighborsClassifier()\n",
    "kn_clf.fit(X_train,y_train)"
   ]
  },
  {
   "cell_type": "code",
   "execution_count": 41,
   "metadata": {},
   "outputs": [
    {
     "name": "stdout",
     "output_type": "stream",
     "text": [
      "Accroding to KneighborsClassifier the accuracy score is 0.6341463414634146\n"
     ]
    },
    {
     "name": "stderr",
     "output_type": "stream",
     "text": [
      "d:\\Users\\hgtma\\anaconda3\\lib\\site-packages\\sklearn\\neighbors\\_classification.py:228: FutureWarning: Unlike other reduction functions (e.g. `skew`, `kurtosis`), the default behavior of `mode` typically preserves the axis it acts along. In SciPy 1.11.0, this behavior will change: the default value of `keepdims` will become False, the `axis` over which the statistic is taken will be eliminated, and the value None will no longer be accepted. Set `keepdims` to True or False to avoid this warning.\n",
      "  mode, _ = stats.mode(_y[neigh_ind, k], axis=1)\n"
     ]
    }
   ],
   "source": [
    "y_pred=kn_clf.predict(X_test)\n",
    "print(\"Accroding to KneighborsClassifier the accuracy score is\",metrics.accuracy_score(y_pred,y_test))"
   ]
  },
  {
   "cell_type": "markdown",
   "metadata": {},
   "source": [
    "### 3.ML Model: Decision Tree Classification"
   ]
  },
  {
   "cell_type": "code",
   "execution_count": 42,
   "metadata": {},
   "outputs": [
    {
     "data": {
      "text/plain": [
       "DecisionTreeClassifier()"
      ]
     },
     "execution_count": 42,
     "metadata": {},
     "output_type": "execute_result"
    }
   ],
   "source": [
    "from sklearn.tree import DecisionTreeClassifier\n",
    "dt_clf=DecisionTreeClassifier()\n",
    "dt_clf.fit(X_train,y_train)"
   ]
  },
  {
   "cell_type": "code",
   "execution_count": 43,
   "metadata": {},
   "outputs": [
    {
     "name": "stdout",
     "output_type": "stream",
     "text": [
      "Accroding to Decison Tree the accuracy is  0.7317073170731707\n"
     ]
    }
   ],
   "source": [
    "y_pred=dt_clf.predict(X_test)\n",
    "print(\"Accroding to Decison Tree the accuracy is \", metrics.accuracy_score(y_pred,y_test))"
   ]
  },
  {
   "cell_type": "markdown",
   "metadata": {},
   "source": [
    "### 4.ML Model: Random Forest Classification"
   ]
  },
  {
   "cell_type": "code",
   "execution_count": 44,
   "metadata": {},
   "outputs": [
    {
     "data": {
      "text/plain": [
       "RandomForestClassifier()"
      ]
     },
     "execution_count": 44,
     "metadata": {},
     "output_type": "execute_result"
    }
   ],
   "source": [
    "from sklearn.ensemble import RandomForestClassifier\n",
    "RFclf=RandomForestClassifier()\n",
    "RFclf.fit(X_train,y_train)"
   ]
  },
  {
   "cell_type": "code",
   "execution_count": 45,
   "metadata": {},
   "outputs": [
    {
     "name": "stdout",
     "output_type": "stream",
     "text": [
      "[ 0.46671381 -1.25       -0.64059361 -0.51772699  0.30677576  0.3866946\n",
      " -0.94418282  0.75119259]\n",
      "Accroding to random forest classifier,the accuracy is  0.7479674796747967\n"
     ]
    },
    {
     "data": {
      "text/plain": [
       "1"
      ]
     },
     "execution_count": 45,
     "metadata": {},
     "output_type": "execute_result"
    }
   ],
   "source": [
    "from sklearn import metrics\n",
    "print(X_test[0])\n",
    "y_pred=RFclf.predict(X_test)\n",
    "print(\"Accroding to random forest classifier,the accuracy is \",metrics.accuracy_score(y_pred,y_test))\n",
    "y_pred[0]"
   ]
  },
  {
   "cell_type": "markdown",
   "metadata": {},
   "source": [
    "## Step7 預測\n",
    "### [45 ,'男', '未婚', '大學', '工程師', 2.0, 70.0 , 4.184611727667927, 5.605170185988092]"
   ]
  },
  {
   "cell_type": "code",
   "execution_count": 46,
   "metadata": {},
   "outputs": [
    {
     "name": "stdout",
     "output_type": "stream",
     "text": [
      "[ 0.06671381 -0.25       -0.64059361 -0.01772699  0.00677576  0.0866946\n",
      " -0.14418282  0.25119259]\n",
      "[1]\n"
     ]
    }
   ],
   "source": [
    "#input new data to predict\n",
    "#[35 '男' '已婚' '研究所' '醫生' 1.0 90.0 6.684611727667927 4.605170185988092]\n",
    "#[-0.2681467   0.82257153 -0.70314959 -1.09643329  0.80066701  1.23146301 1.12574625 -0.473358   -0.23332055]\n",
    "#\n",
    "import numpy as np\n",
    "data= np.array([ 0.06671381 ,-0.25,  -0.64059361, -0.01772699,  0.00677576,  0.0866946,\n",
    " -0.14418282 , 0.25119259]) \n",
    "#from sklearn.preprocessing import StandardScaler\n",
    "#ss=StandardScaler()\n",
    "#X_data=ss.fit_transform(data.reshape(-1, 8))\n",
    "X_data=data\n",
    "print(X_data)\n",
    "y_pred=RFclf.predict(X_data.reshape(-1, 8))\n",
    "print(y_pred)"
   ]
  },
  {
   "cell_type": "markdown",
   "metadata": {},
   "source": [
    "# EXAM2: 請讀取所給之資料集,直接彙整上述步驟相關程式做出最佳之貸款審批預測模型,但 不做資料調整縮小至某區間之動作\n",
    "## 請用最佳模型預測 下列資料是否同意貸款:\n",
    "#### [45 ,'男', '未婚', '大學', '工程師', 2.0, 70.0 , 4.184611727667927, 5.605170185988092]"
   ]
  },
  {
   "cell_type": "code",
   "execution_count": null,
   "metadata": {},
   "outputs": [],
   "source": []
  },
  {
   "cell_type": "code",
   "execution_count": null,
   "metadata": {},
   "outputs": [],
   "source": []
  },
  {
   "cell_type": "code",
   "execution_count": null,
   "metadata": {},
   "outputs": [],
   "source": []
  }
 ],
 "metadata": {
  "kernelspec": {
   "display_name": "Python 3 (ipykernel)",
   "language": "python",
   "name": "python3"
  },
  "language_info": {
   "codemirror_mode": {
    "name": "ipython",
    "version": 3
   },
   "file_extension": ".py",
   "mimetype": "text/x-python",
   "name": "python",
   "nbconvert_exporter": "python",
   "pygments_lexer": "ipython3",
   "version": "3.9.13"
  }
 },
 "nbformat": 4,
 "nbformat_minor": 2
}
