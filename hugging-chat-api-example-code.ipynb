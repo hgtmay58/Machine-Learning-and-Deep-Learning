{
 "cells": [
  {
   "cell_type": "markdown",
   "id": "566c4291",
   "metadata": {},
   "source": [
    "# Hugging-Chat\n",
    "## HuggingChat 是 Hugging Face 推出的一個開源聊天機器人工具。HuggingChat 能夠生成文本，包括摘要、文章和信件等，類似於 ChatGPT AI 聊天機器人\n",
    "## 參考文件\n",
    "### https://huggingface.co/chat/\n",
    "### https://github.com/Soulter/hugging-chat-api\n"
   ]
  },
  {
   "cell_type": "code",
   "execution_count": 1,
   "id": "52cef22b",
   "metadata": {},
   "outputs": [
    {
     "name": "stdout",
     "output_type": "stream",
     "text": [
      "Collecting hugchat\n",
      "  Obtaining dependency information for hugchat from https://files.pythonhosted.org/packages/10/15/451e3ed74c2c60ac15c8507ab6eac12bf93c91b88843c805c03f413404fd/hugchat-0.4.1-py3-none-any.whl.metadata\n",
      "  Downloading hugchat-0.4.1-py3-none-any.whl.metadata (6.7 kB)\n",
      "Requirement already satisfied: requests in d:\\users\\hgtma\\anaconda3\\lib\\site-packages (from hugchat) (2.31.0)\n",
      "Requirement already satisfied: requests-toolbelt in d:\\users\\hgtma\\anaconda3\\lib\\site-packages (from hugchat) (1.0.0)\n",
      "Requirement already satisfied: charset-normalizer<4,>=2 in d:\\users\\hgtma\\anaconda3\\lib\\site-packages (from requests->hugchat) (2.0.4)\n",
      "Requirement already satisfied: idna<4,>=2.5 in d:\\users\\hgtma\\anaconda3\\lib\\site-packages (from requests->hugchat) (2.10)\n",
      "Requirement already satisfied: urllib3<3,>=1.21.1 in d:\\users\\hgtma\\anaconda3\\lib\\site-packages (from requests->hugchat) (1.26.16)\n",
      "Requirement already satisfied: certifi>=2017.4.17 in d:\\users\\hgtma\\anaconda3\\lib\\site-packages (from requests->hugchat) (2024.2.2)\n",
      "Downloading hugchat-0.4.1-py3-none-any.whl (31 kB)\n",
      "Installing collected packages: hugchat\n",
      "Successfully installed hugchat-0.4.1\n"
     ]
    }
   ],
   "source": [
    "!pip install hugchat"
   ]
  },
  {
   "cell_type": "code",
   "execution_count": 2,
   "id": "16566045",
   "metadata": {},
   "outputs": [],
   "source": [
    "from hugchat import hugchat\n",
    "from hugchat.login import Login"
   ]
  },
  {
   "cell_type": "code",
   "execution_count": 4,
   "id": "a25569b5",
   "metadata": {},
   "outputs": [],
   "source": [
    "# Log in to huggingface and grant authorization to huggingchat\n",
    "EMAIL =\"\" #\"your email\"\n",
    "PASSWD =\"\" #\"your password\"\n",
    "cookie_path_dir = \"./cookies\"\n",
    "sign = Login(EMAIL, PASSWD)\n",
    "cookies = sign.login(cookie_dir_path=cookie_path_dir, save_cookies=True)"
   ]
  },
  {
   "cell_type": "code",
   "execution_count": 5,
   "id": "0327fb74",
   "metadata": {},
   "outputs": [],
   "source": [
    "# Create your ChatBot\n",
    "chatbot = hugchat.ChatBot(cookies=cookies.get_dict())  # or cookie_path=\"usercookies/<email>.json\""
   ]
  },
  {
   "cell_type": "code",
   "execution_count": 15,
   "id": "d2ed5b82",
   "metadata": {},
   "outputs": [
    {
     "name": "stdout",
     "output_type": "stream",
     "text": [
      "  當然可以！請問有什麼問題我可以幫助回答呢？在這裡，我們盡力提供準確且有價值的資訊，並參與有關計算機科學和編程的任何討論。請務必注意，由於我無法直接造訪網站或點擊連結，因此無法確認所提供的連結是否正確。如果您需要更多關於「德明科大」的資訊，建議您進一步搜索或直接查看該學校官方網站。\n"
     ]
    }
   ],
   "source": [
    "# Non stream response\n",
    "query_result = chatbot.chat(\"您好!能用繁體中文回答嗎?\")\n",
    "print(query_result) # or query_result.text or query_result[\"text\"]\n"
   ]
  },
  {
   "cell_type": "code",
   "execution_count": 10,
   "id": "9de7c9f9",
   "metadata": {},
   "outputs": [
    {
     "name": "stdout",
     "output_type": "stream",
     "text": [
      "{'type': 'stream', 'token': '  '}\n",
      "{'type': 'stream', 'token': '當'}\n",
      "{'type': 'stream', 'token': '然'}\n",
      "{'type': 'stream', 'token': '可'}\n",
      "{'type': 'stream', 'token': '以'}\n",
      "{'type': 'stream', 'token': '！'}\n",
      "{'type': 'stream', 'token': '請'}\n",
      "{'type': 'stream', 'token': '問'}\n",
      "{'type': 'stream', 'token': '有'}\n",
      "{'type': 'stream', 'token': '什'}\n",
      "{'type': 'stream', 'token': '麼'}\n",
      "{'type': 'stream', 'token': '問'}\n",
      "{'type': 'stream', 'token': '題'}\n",
      "{'type': 'stream', 'token': '我'}\n",
      "{'type': 'stream', 'token': '可'}\n",
      "{'type': 'stream', 'token': '以'}\n",
      "{'type': 'stream', 'token': '幫'}\n",
      "{'type': 'stream', 'token': '助'}\n",
      "{'type': 'stream', 'token': '回'}\n",
      "{'type': 'stream', 'token': '答'}\n",
      "{'type': 'stream', 'token': '呢'}\n",
      "{'type': 'stream', 'token': '？'}\n",
      "{'type': 'stream', 'token': '或'}\n",
      "{'type': 'stream', 'token': '者'}\n",
      "{'type': 'stream', 'token': '，'}\n",
      "{'type': 'stream', 'token': '是'}\n",
      "{'type': 'stream', 'token': '否'}\n",
      "{'type': 'stream', 'token': '有'}\n",
      "{'type': 'stream', 'token': '關'}\n",
      "{'type': 'stream', 'token': '於'}\n",
      "{'type': 'stream', 'token': '計'}\n",
      "{'type': 'stream', 'token': '算'}\n",
      "{'type': 'stream', 'token': '機'}\n",
      "{'type': 'stream', 'token': '科'}\n",
      "{'type': 'stream', 'token': '學'}\n",
      "{'type': 'stream', 'token': '和'}\n",
      "{'type': 'stream', 'token': '編'}\n",
      "{'type': 'stream', 'token': '程'}\n",
      "{'type': 'stream', 'token': '方'}\n",
      "{'type': 'stream', 'token': '面'}\n",
      "{'type': 'stream', 'token': '的'}\n",
      "{'type': 'stream', 'token': '話'}\n",
      "{'type': 'stream', 'token': '題'}\n",
      "{'type': 'stream', 'token': '想'}\n",
      "{'type': 'stream', 'token': '要'}\n",
      "{'type': 'stream', 'token': '商'}\n",
      "{'type': 'stream', 'token': '量'}\n",
      "{'type': 'stream', 'token': '？'}\n",
      "{'type': 'stream', 'token': '我'}\n",
      "{'type': 'stream', 'token': '會'}\n",
      "{'type': 'stream', 'token': '盡'}\n",
      "{'type': 'stream', 'token': '力'}\n",
      "{'type': 'stream', 'token': '提'}\n",
      "{'type': 'stream', 'token': '供'}\n",
      "{'type': 'stream', 'token': '相'}\n",
      "{'type': 'stream', 'token': '關'}\n",
      "{'type': 'stream', 'token': '資'}\n",
      "{'type': 'stream', 'token': '訊'}\n",
      "{'type': 'stream', 'token': '並'}\n",
      "{'type': 'stream', 'token': '參'}\n",
      "{'type': 'stream', 'token': '與'}\n",
      "{'type': 'stream', 'token': '討'}\n",
      "{'type': 'stream', 'token': '論'}\n",
      "{'type': 'stream', 'token': '。'}\n",
      "None\n"
     ]
    }
   ],
   "source": [
    "# Stream response\n",
    "for resp in chatbot.query(\n",
    "    \"您好!能用繁體中文回答嗎?\",\n",
    "    stream=True\n",
    "):\n",
    "    print(resp)"
   ]
  },
  {
   "cell_type": "code",
   "execution_count": 19,
   "id": "56d8107f",
   "metadata": {},
   "outputs": [
    {
     "name": "stderr",
     "output_type": "stream",
     "text": [
      "ERROR:root:No `type` found in response: {'message': 'Internal Error'}\n"
     ]
    },
    {
     "ename": "ChatError",
     "evalue": "Server returns an error: Internal Error",
     "output_type": "error",
     "traceback": [
      "\u001b[1;31m---------------------------------------------------------------------------\u001b[0m",
      "\u001b[1;31mChatError\u001b[0m                                 Traceback (most recent call last)",
      "Cell \u001b[1;32mIn[19], line 3\u001b[0m\n\u001b[0;32m      1\u001b[0m \u001b[38;5;66;03m# Web search (new feature)\u001b[39;00m\n\u001b[0;32m      2\u001b[0m query_result \u001b[38;5;241m=\u001b[39m chatbot\u001b[38;5;241m.\u001b[39mquery(\u001b[38;5;124m\"\u001b[39m\u001b[38;5;124mHi!\u001b[39m\u001b[38;5;124m\"\u001b[39m, web_search\u001b[38;5;241m=\u001b[39m\u001b[38;5;28;01mTrue\u001b[39;00m)\n\u001b[1;32m----> 3\u001b[0m \u001b[38;5;28;43mprint\u001b[39;49m\u001b[43m(\u001b[49m\u001b[43mquery_result\u001b[49m\u001b[43m)\u001b[49m\n\u001b[0;32m      4\u001b[0m \u001b[38;5;28;01mfor\u001b[39;00m source \u001b[38;5;129;01min\u001b[39;00m query_result\u001b[38;5;241m.\u001b[39mweb_search_sources:\n\u001b[0;32m      5\u001b[0m     \u001b[38;5;28mprint\u001b[39m(source\u001b[38;5;241m.\u001b[39mlink)\n",
      "File \u001b[1;32md:\\Users\\hgtma\\anaconda3\\lib\\site-packages\\hugchat\\message.py:224\u001b[0m, in \u001b[0;36mMessage.__str__\u001b[1;34m(self)\u001b[0m\n\u001b[0;32m    223\u001b[0m \u001b[38;5;28;01mdef\u001b[39;00m \u001b[38;5;21m__str__\u001b[39m(\u001b[38;5;28mself\u001b[39m):\n\u001b[1;32m--> 224\u001b[0m     \u001b[38;5;28;01mreturn\u001b[39;00m \u001b[38;5;28;43mself\u001b[39;49m\u001b[38;5;241;43m.\u001b[39;49m\u001b[43mwait_until_done\u001b[49m\u001b[43m(\u001b[49m\u001b[43m)\u001b[49m\n",
      "File \u001b[1;32md:\\Users\\hgtma\\anaconda3\\lib\\site-packages\\hugchat\\message.py:194\u001b[0m, in \u001b[0;36mMessage.wait_until_done\u001b[1;34m(self)\u001b[0m\n\u001b[0;32m    187\u001b[0m \u001b[38;5;250m\u001b[39m\u001b[38;5;124;03m\"\"\"\u001b[39;00m\n\u001b[0;32m    188\u001b[0m \u001b[38;5;124;03m:Return:\u001b[39;00m\n\u001b[0;32m    189\u001b[0m \u001b[38;5;124;03m    - self.text if resolved else raise error\u001b[39;00m\n\u001b[0;32m    190\u001b[0m \n\u001b[0;32m    191\u001b[0m \u001b[38;5;124;03mwait until every response is resolved\u001b[39;00m\n\u001b[0;32m    192\u001b[0m \u001b[38;5;124;03m\"\"\"\u001b[39;00m\n\u001b[0;32m    193\u001b[0m \u001b[38;5;28;01mwhile\u001b[39;00m \u001b[38;5;129;01mnot\u001b[39;00m \u001b[38;5;28mself\u001b[39m\u001b[38;5;241m.\u001b[39mis_done():\n\u001b[1;32m--> 194\u001b[0m     \u001b[38;5;28;43mself\u001b[39;49m\u001b[38;5;241;43m.\u001b[39;49m\u001b[38;5;21;43m__next__\u001b[39;49m\u001b[43m(\u001b[49m\u001b[43m)\u001b[49m\n\u001b[0;32m    195\u001b[0m \u001b[38;5;28;01mif\u001b[39;00m \u001b[38;5;28mself\u001b[39m\u001b[38;5;241m.\u001b[39mis_done() \u001b[38;5;241m==\u001b[39m MSGSTATUS_RESOLVED:\n\u001b[0;32m    196\u001b[0m     \u001b[38;5;28;01mreturn\u001b[39;00m \u001b[38;5;28mself\u001b[39m\u001b[38;5;241m.\u001b[39mtext\n",
      "File \u001b[1;32md:\\Users\\hgtma\\anaconda3\\lib\\site-packages\\hugchat\\message.py:149\u001b[0m, in \u001b[0;36mMessage.__next__\u001b[1;34m(self)\u001b[0m\n\u001b[0;32m    147\u001b[0m \u001b[38;5;28mself\u001b[39m\u001b[38;5;241m.\u001b[39merror \u001b[38;5;241m=\u001b[39m e\n\u001b[0;32m    148\u001b[0m \u001b[38;5;28mself\u001b[39m\u001b[38;5;241m.\u001b[39mmsg_status \u001b[38;5;241m=\u001b[39m MSGSTATUS_REJECTED\n\u001b[1;32m--> 149\u001b[0m \u001b[38;5;28;01mraise\u001b[39;00m \u001b[38;5;28mself\u001b[39m\u001b[38;5;241m.\u001b[39merror\n",
      "File \u001b[1;32md:\\Users\\hgtma\\anaconda3\\lib\\site-packages\\hugchat\\message.py:100\u001b[0m, in \u001b[0;36mMessage.__next__\u001b[1;34m(self)\u001b[0m\n\u001b[0;32m     98\u001b[0m \u001b[38;5;28;01mtry\u001b[39;00m:\n\u001b[0;32m     99\u001b[0m     a: \u001b[38;5;28mdict\u001b[39m \u001b[38;5;241m=\u001b[39m \u001b[38;5;28mnext\u001b[39m(\u001b[38;5;28mself\u001b[39m\u001b[38;5;241m.\u001b[39mg)\n\u001b[1;32m--> 100\u001b[0m     \u001b[38;5;28;43mself\u001b[39;49m\u001b[38;5;241;43m.\u001b[39;49m\u001b[43m_filterResponse\u001b[49m\u001b[43m(\u001b[49m\u001b[43ma\u001b[49m\u001b[43m)\u001b[49m\n\u001b[0;32m    101\u001b[0m     t: \u001b[38;5;28mstr\u001b[39m \u001b[38;5;241m=\u001b[39m a[\u001b[38;5;124m\"\u001b[39m\u001b[38;5;124mtype\u001b[39m\u001b[38;5;124m\"\u001b[39m]\n\u001b[0;32m    102\u001b[0m     message_type: \u001b[38;5;28mstr\u001b[39m \u001b[38;5;241m=\u001b[39m \u001b[38;5;124m\"\u001b[39m\u001b[38;5;124m\"\u001b[39m\n",
      "File \u001b[1;32md:\\Users\\hgtma\\anaconda3\\lib\\site-packages\\hugchat\\message.py:85\u001b[0m, in \u001b[0;36mMessage._filterResponse\u001b[1;34m(self, obj)\u001b[0m\n\u001b[0;32m     83\u001b[0m \u001b[38;5;28;01mif\u001b[39;00m \u001b[38;5;129;01mnot\u001b[39;00m obj\u001b[38;5;241m.\u001b[39m\u001b[38;5;21m__contains__\u001b[39m(\u001b[38;5;124m\"\u001b[39m\u001b[38;5;124mtype\u001b[39m\u001b[38;5;124m\"\u001b[39m):\n\u001b[0;32m     84\u001b[0m     \u001b[38;5;28;01mif\u001b[39;00m obj\u001b[38;5;241m.\u001b[39m\u001b[38;5;21m__contains__\u001b[39m(\u001b[38;5;124m\"\u001b[39m\u001b[38;5;124mmessage\u001b[39m\u001b[38;5;124m\"\u001b[39m):\n\u001b[1;32m---> 85\u001b[0m         \u001b[38;5;28;01mraise\u001b[39;00m ChatError(\u001b[38;5;124mf\u001b[39m\u001b[38;5;124m\"\u001b[39m\u001b[38;5;124mServer returns an error: \u001b[39m\u001b[38;5;132;01m{\u001b[39;00mobj[\u001b[38;5;124m'\u001b[39m\u001b[38;5;124mmessage\u001b[39m\u001b[38;5;124m'\u001b[39m]\u001b[38;5;132;01m}\u001b[39;00m\u001b[38;5;124m\"\u001b[39m)\n\u001b[0;32m     86\u001b[0m     \u001b[38;5;28;01melse\u001b[39;00m:\n\u001b[0;32m     87\u001b[0m         \u001b[38;5;28;01mraise\u001b[39;00m ChatError(\u001b[38;5;124mf\u001b[39m\u001b[38;5;124m\"\u001b[39m\u001b[38;5;124mNo `type` and `message` returned: \u001b[39m\u001b[38;5;132;01m{\u001b[39;00mobj\u001b[38;5;132;01m}\u001b[39;00m\u001b[38;5;124m\"\u001b[39m)\n",
      "\u001b[1;31mChatError\u001b[0m: Server returns an error: Internal Error"
     ]
    }
   ],
   "source": [
    "# Web search (new feature)\n",
    "query_result = chatbot.query(\"Hi!\", web_search=True)\n",
    "print(query_result)\n",
    "for source in query_result.web_search_sources:\n",
    "    print(source.link)\n",
    "    print(source.title)\n",
    "    print(source.hostname)"
   ]
  },
  {
   "cell_type": "code",
   "execution_count": 20,
   "id": "6b735a15",
   "metadata": {},
   "outputs": [
    {
     "data": {
      "text/plain": [
       "<hugchat.hugchat.Conversation at 0x1b14aa07550>"
      ]
     },
     "execution_count": 20,
     "metadata": {},
     "output_type": "execute_result"
    }
   ],
   "source": [
    "# Create a new conversation\n",
    "chatbot.new_conversation(switch_to = True) # switch to the new conversation"
   ]
  },
  {
   "cell_type": "code",
   "execution_count": 21,
   "id": "83a57a2f",
   "metadata": {},
   "outputs": [],
   "source": [
    "# Get conversations on the server that are not from the current session (all your conversations in huggingchat)\n",
    "conversation_list = chatbot.get_remote_conversations(replace_conversation_list=True)"
   ]
  },
  {
   "cell_type": "code",
   "execution_count": 22,
   "id": "af4e5afc",
   "metadata": {},
   "outputs": [],
   "source": [
    "# Get conversation list(local)\n",
    "conversation_list = chatbot.get_conversation_list()"
   ]
  },
  {
   "cell_type": "code",
   "execution_count": 23,
   "id": "6c07a841",
   "metadata": {},
   "outputs": [],
   "source": [
    "# Get the available models (not hardcore)\n",
    "models = chatbot.get_available_llm_models()"
   ]
  },
  {
   "cell_type": "code",
   "execution_count": 24,
   "id": "1a9b71f7",
   "metadata": {},
   "outputs": [
    {
     "data": {
      "text/plain": [
       "True"
      ]
     },
     "execution_count": 24,
     "metadata": {},
     "output_type": "execute_result"
    }
   ],
   "source": [
    "# Switch model with given index\n",
    "chatbot.switch_llm(0) # Switch to the first model\n",
    "chatbot.switch_llm(1) # Switch to the second model"
   ]
  },
  {
   "cell_type": "code",
   "execution_count": 25,
   "id": "678711d2",
   "metadata": {},
   "outputs": [
    {
     "name": "stdout",
     "output_type": "stream",
     "text": [
      "65fa9eedc61762925b4971c5 New Chat mistralai/Mixtral-8x7B-Instruct-v0.1  [MessageNode(id='3d37080b-3550-45be-88bc-69234f851eea', role='system', content='', created_at=1710894701.097, updated_at=1710894701.097)]\n"
     ]
    }
   ],
   "source": [
    "# Get information about the current conversation\n",
    "info = chatbot.get_conversation_info()\n",
    "print(info.id, info.title, info.model, info.system_prompt, info.history)"
   ]
  },
  {
   "cell_type": "code",
   "execution_count": 26,
   "id": "6a45f0f0",
   "metadata": {},
   "outputs": [
    {
     "data": {
      "text/plain": [
       "<hugchat.hugchat.Conversation at 0x1b14a9e7250>"
      ]
     },
     "execution_count": 26,
     "metadata": {},
     "output_type": "execute_result"
    }
   ],
   "source": [
    "# Assistant\n",
    "assistant = chatbot.search_assistant(assistant_name=\"ChatGpt\") # assistant name list in https://huggingface.co/chat/assistants\n",
    "assistant_list = chatbot.get_assistant_list_by_page(page=0)\n",
    "chatbot.new_conversation(assistant=assistant, switch_to=True) # create a new conversation with assistant"
   ]
  },
  {
   "cell_type": "code",
   "execution_count": null,
   "id": "5135c262",
   "metadata": {},
   "outputs": [],
   "source": [
    "# [DANGER] Delete all the conversations for the logged in user\n",
    "chatbot.delete_all_conversations()"
   ]
  }
 ],
 "metadata": {
  "kernelspec": {
   "display_name": "Python 3 (ipykernel)",
   "language": "python",
   "name": "python3"
  },
  "language_info": {
   "codemirror_mode": {
    "name": "ipython",
    "version": 3
   },
   "file_extension": ".py",
   "mimetype": "text/x-python",
   "name": "python",
   "nbconvert_exporter": "python",
   "pygments_lexer": "ipython3",
   "version": "3.9.18"
  }
 },
 "nbformat": 4,
 "nbformat_minor": 5
}
