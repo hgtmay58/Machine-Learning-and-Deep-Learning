{
 "cells": [
  {
   "cell_type": "markdown",
   "metadata": {},
   "source": [
    "# Test: Loan approval analysis 貸款審批分析實作\n",
    "## 資料來源 參考文件\n",
    "### https://www.kaggle.com/code/bibekrai44/loan-approval-analysis\n",
    "### https://ithelp.ithome.com.tw/articles/10240494\n",
    "### https://www.796t.com/content/1542164169.html\n",
    "### https://medium.com/@PatHuang/%E5%88%9D%E5%AD%B8python%E6%89%8B%E8%A8%98-3-%E8%B3%87%E6%96%99%E5%89%8D%E8%99%95%E7%90%86-label-encoding-one-hot-encoding-85c983d63f87\n",
    "### https://blog.csdn.net/CherDW/article/details/55813071\n"
   ]
  },
  {
   "cell_type": "markdown",
   "metadata": {},
   "source": [
    "# Probem1: 請讀取所給之資料集參考下列步驟做出最佳之貸款審批預測模型\n",
    "## 貸款資料集欄位，csv格式的資料。\n",
    "#### 客戶ID：唯一的識別碼\n",
    "#### 年齡：客戶年齡\n",
    "#### 性別：客戶性別，如男，女\n",
    "#### 婚姻狀況：客戶的婚姻狀況，如未婚、已婚、離婚等\n",
    "#### 教育程度：客戶的教育程度，如高中、大學、研究所等\n",
    "#### 職業：客戶的職業，如受雇職員、自營老闆、教師，公務員，軍人，律師，醫生，工程師等\n",
    "#### 年收入：客戶的年收入，以萬元為單位\n",
    "#### 貸款金額：客戶申請的貸款金額，以萬元為單位\n",
    "#### 還款期限：客戶選擇的還款期限，以年為單位\n",
    "#### 信用狀態：客戶的信用分數\n",
    "#### 貸款批准：客戶的貸款是否批准,如 是，否"
   ]
  },
  {
   "cell_type": "markdown",
   "metadata": {},
   "source": [
    "## Step1: Importing necessary libraries\n",
    "##             Importing libraries required for ML"
   ]
  },
  {
   "cell_type": "code",
   "execution_count": 1,
   "metadata": {},
   "outputs": [],
   "source": [
    "import sklearn\n",
    "import os\n",
    "import numpy as np \n",
    "import pandas as pd \n",
    "from matplotlib import pyplot as plt\n",
    "%matplotlib inline\n",
    "import seaborn as sns"
   ]
  },
  {
   "cell_type": "code",
   "execution_count": 2,
   "metadata": {},
   "outputs": [],
   "source": [
    "from sklearn.model_selection import train_test_split\n",
    "#sklearn之LabelEncoder將Label標準化\n",
    "#LabelEncoder可以將標籤分配一個0—n_classes-1之間的編碼\n",
    "#將各種標籤分配一個可數的連續編號\n",
    "from sklearn.preprocessing import LabelEncoder\n"
   ]
  },
  {
   "cell_type": "markdown",
   "metadata": {},
   "source": [
    "## Step2: Read dataset"
   ]
  },
  {
   "cell_type": "code",
   "execution_count": 3,
   "metadata": {
    "scrolled": true
   },
   "outputs": [
    {
     "data": {
      "text/html": [
       "<div>\n",
       "<style scoped>\n",
       "    .dataframe tbody tr th:only-of-type {\n",
       "        vertical-align: middle;\n",
       "    }\n",
       "\n",
       "    .dataframe tbody tr th {\n",
       "        vertical-align: top;\n",
       "    }\n",
       "\n",
       "    .dataframe thead th {\n",
       "        text-align: right;\n",
       "    }\n",
       "</style>\n",
       "<table border=\"1\" class=\"dataframe\">\n",
       "  <thead>\n",
       "    <tr style=\"text-align: right;\">\n",
       "      <th></th>\n",
       "      <th>客戶ID</th>\n",
       "      <th>年齡</th>\n",
       "      <th>性別</th>\n",
       "      <th>婚姻狀況</th>\n",
       "      <th>教育程度</th>\n",
       "      <th>職業</th>\n",
       "      <th>年收入</th>\n",
       "      <th>貸款金額</th>\n",
       "      <th>還款期限</th>\n",
       "      <th>信用狀態</th>\n",
       "      <th>貸款批准</th>\n",
       "    </tr>\n",
       "  </thead>\n",
       "  <tbody>\n",
       "    <tr>\n",
       "      <th>0</th>\n",
       "      <td>1001</td>\n",
       "      <td>35</td>\n",
       "      <td>男</td>\n",
       "      <td>已婚</td>\n",
       "      <td>研究所</td>\n",
       "      <td>醫生</td>\n",
       "      <td>800.0</td>\n",
       "      <td>100.0</td>\n",
       "      <td>1.0</td>\n",
       "      <td>90.0</td>\n",
       "      <td>是</td>\n",
       "    </tr>\n",
       "    <tr>\n",
       "      <th>1</th>\n",
       "      <td>1002</td>\n",
       "      <td>28</td>\n",
       "      <td>女</td>\n",
       "      <td>未婚</td>\n",
       "      <td>大學</td>\n",
       "      <td>受雇職員</td>\n",
       "      <td>50.0</td>\n",
       "      <td>80.0</td>\n",
       "      <td>2.0</td>\n",
       "      <td>75.0</td>\n",
       "      <td>否</td>\n",
       "    </tr>\n",
       "    <tr>\n",
       "      <th>2</th>\n",
       "      <td>1003</td>\n",
       "      <td>42</td>\n",
       "      <td>男</td>\n",
       "      <td>已婚</td>\n",
       "      <td>高中</td>\n",
       "      <td>自營老闆</td>\n",
       "      <td>1200.0</td>\n",
       "      <td>200.0</td>\n",
       "      <td>5.0</td>\n",
       "      <td>80.0</td>\n",
       "      <td>是</td>\n",
       "    </tr>\n",
       "    <tr>\n",
       "      <th>3</th>\n",
       "      <td>1004</td>\n",
       "      <td>30</td>\n",
       "      <td>男</td>\n",
       "      <td>未婚</td>\n",
       "      <td>大學</td>\n",
       "      <td>工程師</td>\n",
       "      <td>60.0</td>\n",
       "      <td>180.0</td>\n",
       "      <td>3.0</td>\n",
       "      <td>85.0</td>\n",
       "      <td>否</td>\n",
       "    </tr>\n",
       "    <tr>\n",
       "      <th>4</th>\n",
       "      <td>1005</td>\n",
       "      <td>50</td>\n",
       "      <td>女</td>\n",
       "      <td>已婚</td>\n",
       "      <td>研究所</td>\n",
       "      <td>教師</td>\n",
       "      <td>100.0</td>\n",
       "      <td>100.0</td>\n",
       "      <td>5.0</td>\n",
       "      <td>95.0</td>\n",
       "      <td>是</td>\n",
       "    </tr>\n",
       "  </tbody>\n",
       "</table>\n",
       "</div>"
      ],
      "text/plain": [
       "   客戶ID  年齡 性別 婚姻狀況 教育程度    職業     年收入   貸款金額  還款期限  信用狀態 貸款批准\n",
       "0  1001  35  男   已婚  研究所    醫生   800.0  100.0   1.0  90.0    是\n",
       "1  1002  28  女   未婚   大學  受雇職員    50.0   80.0   2.0  75.0    否\n",
       "2  1003  42  男   已婚   高中  自營老闆  1200.0  200.0   5.0  80.0    是\n",
       "3  1004  30  男   未婚   大學   工程師    60.0  180.0   3.0  85.0    否\n",
       "4  1005  50  女   已婚  研究所    教師   100.0  100.0   5.0  95.0    是"
      ]
     },
     "execution_count": 3,
     "metadata": {},
     "output_type": "execute_result"
    }
   ],
   "source": [
    "df=pd.read_csv('loandata_setU.csv')\n",
    "df.head()"
   ]
  },
  {
   "cell_type": "code",
   "execution_count": 4,
   "metadata": {},
   "outputs": [
    {
     "name": "stdout",
     "output_type": "stream",
     "text": [
      "        客戶ID  年齡 性別 婚姻狀況 教育程度    職業     年收入   貸款金額  還款期限  信用狀態 貸款批准\n",
      "0       1001  35  男   已婚  研究所    醫生   800.0  100.0   1.0  90.0    是\n",
      "1       1002  28  女   未婚   大學  受雇職員    50.0   80.0   2.0  75.0    否\n",
      "2       1003  42  男   已婚   高中  自營老闆  1200.0  200.0   5.0  80.0    是\n",
      "3       1004  30  男   未婚   大學   工程師    60.0  180.0   3.0  85.0    否\n",
      "4       1005  50  女   已婚  研究所    教師   100.0  100.0   5.0  95.0    是\n",
      "5       1006  25  男   未婚   高中  受雇職員    40.0  140.0   2.0  70.0    否\n",
      "6       1007  38  女   已婚   大學   公務員    70.0  100.0   4.0  85.0    是\n",
      "7       1008  45  男   已婚   大學  自營老闆   250.0  120.0   3.0  90.0    是\n",
      "8       1009  29  女   未婚  研究所    醫生   200.0  390.0   2.0  80.0    否\n",
      "9       1010  33  男   已婚   大學  受雇職員    55.0   95.0   2.0  75.0    否\n",
      "10     10003  28  F   未婚   大學    教師    50.0  100.0   1.0  70.0    否\n",
      "11     10004  32  M   已婚   大學   工程師    75.0   50.0   2.0  85.0    是\n",
      "12     10005  45  F   離婚   高中  受雇職員    40.0   50.0   1.0  60.0    否\n",
      "13     10006  39  M   已婚  研究所    律師   120.0  150.0   5.0  95.0    是\n",
      "14     10007  26  M   未婚   大學  受雇職員    35.0   70.0   1.0  50.0    否\n",
      "15     10008  33  F   已婚  研究所    教師    90.0  140.0   3.0  80.0    是\n",
      "16     10009  51  F   已婚   大學  受雇職員    60.0   50.0   1.0  75.0    是\n",
      "17     10010  44  M   已婚   高中  自營老闆   800.0  220.0   2.0  90.0    是\n",
      "18     10011  29  F   未婚   大學  受雇職員    40.0   60.0   1.0  65.0    否\n",
      "19     10012  37  M   已婚   大學    教師    55.0   85.0   3.0  70.0    是\n",
      "20     10013  48  M   已婚  研究所    醫生   180.0  180.0   5.0  95.0    是\n",
      "21     10014  25  F   未婚   高中  受雇職員    30.0   50.0   1.0  55.0    否\n",
      "22     10015  42  F   已婚   大學   公務員    65.0   85.0   2.0  85.0    是\n",
      "23     10016  31  M   未婚   大學   工程師    70.0  120.0   3.0  80.0    是\n",
      "24     10017  35  F   已婚   高中  受雇職員    45.0  100.0   1.0  70.0    否\n",
      "25     10018  40  M   已婚   大學  自營老闆   195.0  150.0   5.0  90.0    是\n",
      "26     10019  27  M   未婚   大學  受雇職員    38.0   80.0   2.0  60.0    否\n",
      "27     10020  43  F   已婚  研究所    律師   120.0  160.0   4.0  95.0    是\n",
      "28  20210021  38  女   已婚   碩士    律師    80.0  150.0   5.0  71.0   批准\n",
      "29  20210022  27  男   未婚   大學  受雇職員    40.0  100.0   3.0  63.0  不批准\n",
      "30  20210023  45  女   已婚   高中  自營老闆   220.0  800.0  10.0  80.0   批准\n",
      "31  20210024  32  男   已婚  研究所    教師    60.0  100.0   3.0  72.0   批准\n",
      "32  20210025  48  女   已婚   大學  受雇職員    90.0  130.0   5.0  67.0   批准\n",
      "33  20210026  55  男   離婚   高中  自營老闆   150.0  500.0  10.0  75.0   批准\n",
      "34  20210027  23  女   未婚   高中    醫生   150.0  300.0   2.0  66.0  不批准\n",
      "35  20210028  39  男   已婚   碩士   工程師   200.0  400.0   5.0  78.0   批准\n",
      "36  20210029  50  男   已婚  研究所   公務員   110.0  200.0   7.0  79.0   批准\n",
      "37  20210030  31  女   未婚   大學  受雇職員    55.0  100.0   3.0  70.0   批准\n",
      "38  20210031  43  女   已婚   碩士    教師    95.0  300.0  10.0  74.0   批准\n",
      "39  20210032  28  男   未婚   大學  受雇職員    45.0  120.0   3.0  62.0  不批准\n",
      "40  20210033  47  女   已婚   高中  自營老闆   130.0  400.0  10.0  77.0   批准\n",
      "41  20210034  29  男   未婚  研究所   工程師    60.0  150.0   4.0  71.0   批准\n",
      "42  20210035  42  男   已婚   大學  受雇職員    90.0  200.0   5.0  75.0   批准\n",
      "43  20210036  36  女   已婚   高中  自營老闆   170.0  300.0   5.0  68.0   批准\n",
      "44         1  35  男   已婚   大學  受雇職員    60.0  250.0   5.0  85.0    是\n",
      "45         2  45  女   已婚  研究所    醫生   120.0  350.0   7.0  95.0    是\n",
      "46         3  28  男   未婚   高中  自營老闆   150.0  150.0   3.0  75.0    是\n",
      "47         4  55  女   已婚   大學    教師    80.0  200.0   4.0  80.0    是\n",
      "48         5  30  男   未婚  研究所   工程師   100.0  300.0   6.0  90.0    是\n",
      "49         6  42  男   已婚   高中  受雇職員    80.0  100.0   2.0  65.0    否\n"
     ]
    }
   ],
   "source": [
    "print(df.iloc[:50])"
   ]
  },
  {
   "cell_type": "code",
   "execution_count": 5,
   "metadata": {},
   "outputs": [
    {
     "name": "stdout",
     "output_type": "stream",
     "text": [
      "      客戶ID  年齡   性別 婚姻狀況 教育程度    職業    年收入   貸款金額  還款期限   信用狀態 貸款批准\n",
      "50       7  37    女   已婚  研究所    律師  150.0  400.0   5.0   95.0    是\n",
      "51       8  26    女   未婚   大學   工程師   60.0  120.0   3.0   70.0    否\n",
      "52       9  50    男   已婚   高中  受雇職員   70.0  150.0   4.0   75.0    否\n",
      "53      10  33    女   已婚   大學   公務員   90.0  250.0   5.0   80.0    是\n",
      "54      11  48    男   已婚  研究所    醫生  200.0  400.0   7.0  100.0    是\n",
      "55      12  29    女   未婚   高中  自營老闆   50.0   80.0   2.0   60.0    否\n",
      "56      13  40    男   已婚   大學  受雇職員  100.0  300.0   6.0   90.0    是\n",
      "57      14  25    女   未婚   高中   工程師   70.0  100.0   3.0   70.0    否\n",
      "58      15  43    女   已婚  研究所    律師  120.0  350.0   5.0   95.0    是\n",
      "59      16  31    男   未婚   大學   公務員   80.0  200.0   4.0   80.0    是\n",
      "60      17  54    男   已婚  研究所    教師  150.0  450.0   7.0   98.0    是\n",
      "61      18  36    女   已婚   高中  受雇職員   70.0  120.0   3.0   70.0    否\n",
      "62      19  47    男   已婚   大學    醫生  180.0  300.0   6.0   92.0    是\n",
      "63      20  27    女   未婚  研究所   工程師   80.0  150.0   4.0   80.0    否\n",
      "64  110011  32    女   已婚   大學   公務員   65.0  180.0   3.0   86.0    是\n",
      "65  110012  41    男   已婚  研究所    律師  180.0  350.0   7.0   94.0    是\n",
      "66  110013  25    女   未婚   高中  受雇職員   30.0   50.0   2.0   78.0    否\n",
      "67  110014  48    男   已婚   大學    教師   80.0  150.0   5.0   84.0    是\n",
      "68  110015  29    女   未婚   大學  受雇職員   55.0   90.0   3.0   72.0    否\n",
      "69  110016  37    男   已婚   高中  自營老闆  150.0  300.0   7.0   89.0    是\n",
      "70  110017  24    女   未婚   高中  受雇職員   25.0   30.0   1.0   65.0    否\n",
      "71  110018  42    女   已婚   大學   公務員   85.0  200.0   5.0   92.0    是\n",
      "72  110019  55    男   已婚  研究所    醫生  250.0  400.0   7.0   97.0    是\n",
      "73  110020  27    女   未婚   大學  受雇職員   40.0   80.0   3.0   75.0    否\n",
      "74  110021  33    女   已婚   高中  受雇職員   50.0  120.0   4.0   80.0    是\n",
      "75  110022  47    男   已婚   大學   公務員   90.0  180.0   5.0   87.0    是\n",
      "76  110023  39    女   已婚   高中  自營老闆  120.0  250.0   6.0   91.0    是\n",
      "77  110024  31    男   未婚  研究所   工程師   75.0  130.0   4.0   82.0    是\n",
      "78  110025  43    女   已婚   大學   公務員   95.0  200.0   5.0   88.0    是\n",
      "79  110026  28    男   未婚   高中  受雇職員   35.0   60.0   2.0   70.0    否\n",
      "80  110027  36    女   已婚   大學   公務員   70.0  150.0   4.0   83.0    是\n",
      "81  110028  52    男   已婚  研究所    醫生  200.0  350.0   7.0   95.0    是\n",
      "82  110029  26    男   未婚   大學  受雇職員   45.0   70.0   3.0   76.0    否\n",
      "83  110030  38    女   已婚   高中  自營老闆  100.0  220.0   6.0   90.0    是\n",
      "84    C001  32    女   已婚   博士   工程師   90.0  300.0   3.0   87.0    是\n",
      "85    C002  48    男   已婚   碩士   公務員   60.0   50.0   5.0   92.0  NaN\n",
      "86    C003  25    女   未婚   高中  受雇職員   30.0  100.0   2.0   80.0    是\n",
      "87    C004  40    男   離婚  NaN  自營老闆  200.0  150.0   4.0   78.0    否\n",
      "88    C005  28    男   已婚   大學    律師   80.0  200.0   3.0   92.0    是\n",
      "89    C006  35    女   已婚   高中   NaN  100.0   80.0   2.0    NaN    是\n",
      "90    C007  27    男   未婚   碩士    教師   50.0  120.0   5.0   85.0    是\n",
      "91    C008  42    女  NaN   博士    醫生  120.0  400.0   4.0   95.0  NaN\n",
      "92    C009  37    女   已婚  NaN  受雇職員   70.0   50.0   1.0    NaN    否\n",
      "93    C010  45    男   已婚  研究所    軍人    NaN  300.0   5.0   87.0    是\n",
      "94    C011  55    男   已婚   高中  自營老闆  500.0  200.0   3.0   72.0  NaN\n",
      "95    C012  33  NaN   離婚  NaN   工程師  100.0   80.0   2.0   90.0    否\n",
      "96    C013  29    男   未婚   大學  受雇職員    NaN  150.0   4.0   83.0    是\n",
      "97    C014  31    女   已婚   碩士    醫生  150.0  200.0   3.0   97.0  NaN\n",
      "98    C015  38    男  NaN  研究所    教師   80.0   50.0   1.0   70.0    否\n",
      "99    C016  47    女   已婚   高中   NaN  300.0  250.0   6.0   85.0    是\n"
     ]
    }
   ],
   "source": [
    "print(df.iloc[50:100])"
   ]
  },
  {
   "cell_type": "code",
   "execution_count": 6,
   "metadata": {},
   "outputs": [
    {
     "name": "stdout",
     "output_type": "stream",
     "text": [
      "      客戶ID  年齡   性別 婚姻狀況 教育程度    職業    年收入   貸款金額  還款期限  信用狀態 貸款批准\n",
      "100   C017  26    男   未婚   大學   公務員   40.0   70.0   2.0   NaN    否\n",
      "101   C018  43  NaN   已婚  NaN   工程師  180.0  400.0   5.0  93.0    是\n",
      "102   C019  34    男   已婚   高中  自營老闆  120.0  150.0   4.0   NaN    是\n",
      "103   C020  30    女   未婚   碩士    醫生    NaN  100.0   2.0  80.0  NaN\n",
      "104    101  38    男   已婚   大學  自營老闆  150.0   80.0   3.0  89.0    是\n",
      "105    102  24    女   未婚   高中  受雇職員   60.0   30.0   5.0  70.0    否\n",
      "106    103  32    女   已婚  研究所    教師   80.0    NaN   4.0  94.0    是\n",
      "107    104  47    男   已婚  NaN    軍人  120.0   90.0   6.0  76.0    是\n",
      "108    105  55    男   已婚   大學   NaN  240.0   40.0   2.0  82.0    否\n",
      "109    106  29    女   未婚  研究所    律師  100.0  120.0   7.0  68.0    是\n",
      "110    107  33    男   已婚   大學  自營老闆    NaN   50.0   3.0  95.0    是\n",
      "111    108  42    男   已婚   大學   工程師  200.0  300.0   5.0   NaN    是\n",
      "112    109  26    女   未婚   高中  受雇職員   60.0   20.0   1.0  70.0    否\n",
      "113    110  39    男   已婚   大學  自營老闆  150.0  150.0   7.0  85.0    是\n",
      "114    111  41    女   已婚  研究所    醫生  180.0   80.0   2.0   NaN    否\n",
      "115    112  28    男   未婚   高中  受雇職員   50.0   10.0   4.0  75.0    否\n",
      "116    113  35    男   已婚   大學  自營老闆    NaN   70.0   6.0  92.0    是\n",
      "117    114  44    男   已婚   大學    教師  160.0  200.0   7.0  78.0    是\n",
      "118    115  37    女   未婚   大學  自營老闆  120.0   30.0   2.0  80.0    否\n",
      "119    116  30    女   已婚  研究所   公務員   80.0   50.0   NaN  85.0    是\n",
      "120    117  45    男   已婚   大學  自營老闆  200.0  250.0   6.0  90.0    是\n",
      "121    118  27    女   未婚   高中   NaN   40.0    5.0   1.0   NaN    否\n",
      "122    119  50    男   已婚  研究所    醫生  250.0  180.0   4.0  72.0    否\n",
      "123    120  34    男   已婚   大學  自營老闆  100.0    NaN   3.0  88.0    是\n",
      "124  1C011  32    女   未婚   大學  自營老闆   68.0   43.0   5.0  87.0    是\n",
      "125  1C012  47    男   已婚   高中  受雇職員   46.0   29.0   3.0  75.0    是\n",
      "126  1C013  55    男   已婚   大學    教師   78.0   56.0   6.0  95.0    是\n",
      "127  1C014  23    女   未婚   大學  自營老闆   82.0   40.0   4.0  90.0    否\n",
      "128  1C015  48    女   離婚  研究所    醫生   93.0   60.0   5.0  97.0    是\n",
      "129  1C016  30    男   未婚   高中    軍人   50.0   18.0   2.0  68.0    否\n",
      "130  1C017  39    男   已婚   高中  受雇職員   65.0   38.0   3.0  80.0  NaN\n",
      "131  1C018  27    女   未婚   大學  自營老闆   78.0   50.0   4.0  84.0    是\n",
      "132  1C019  36    女   已婚   高中  受雇職員   55.0   26.0   2.0  72.0    否\n",
      "133  1C020  43    男   已婚  研究所    醫生   88.0   45.0   5.0   NaN    否\n",
      "134  1C021  51    女   已婚   高中  受雇職員   72.0   34.0   3.0  89.0    是\n",
      "135  1C022  28    男   未婚  研究所    律師   85.0   48.0   4.0  92.0    是\n",
      "136  1C023  29    男   未婚   大學  自營老闆   95.0   57.0   5.0  98.0    是\n",
      "137  1C024  45    女   已婚   高中  受雇職員   60.0    NaN   2.0  77.0    否\n",
      "138  1C025  37    男   已婚  研究所   工程師   70.0   40.0   4.0  85.0    是\n",
      "139  1C026  44    女  NaN  研究所    醫生   90.0   51.0   5.0  96.0    是\n",
      "140  1C027  31    男   未婚   高中    軍人   53.0   24.0   3.0  71.0    否\n",
      "141  1C028  33    男   未婚  NaN   公務員   62.0   30.0   2.0   NaN    否\n",
      "142  1C029  40    女   已婚   大學  自營老闆    NaN   35.0   3.0  82.0    是\n",
      "143  1C030  25    男   未婚   高中    軍人   47.0   20.0   2.0  65.0    否\n",
      "144  1C031  46    男   已婚  研究所    律師   75.0   45.0   4.0  89.0    是\n",
      "145  31001  28    男   未婚   大學  自營老闆  200.0   50.0   3.0  76.0    是\n",
      "146  31002  35    女   已婚  研究所  受雇職員   80.0   20.0   2.0  92.0    是\n",
      "147  31003  48    男   已婚   高中   公務員  100.0   30.0   5.0  84.0    是\n",
      "148  31004  25    女   未婚   高中    教師   60.0   15.0   2.0  65.0    否\n",
      "149  31005  40    男   已婚  研究所  自營老闆  300.0   80.0   5.0  89.0    是\n"
     ]
    }
   ],
   "source": [
    "print(df.iloc[100:150])"
   ]
  },
  {
   "cell_type": "code",
   "execution_count": 7,
   "metadata": {},
   "outputs": [
    {
     "name": "stdout",
     "output_type": "stream",
     "text": [
      "       客戶ID  年齡   性別 婚姻狀況 教育程度    職業     年收入   貸款金額  還款期限  信用狀態 貸款批准\n",
      "150   31006  33    女   未婚   大學    醫生   150.0   50.0   3.0  95.0    是\n",
      "151   31007  45    男   已婚   高中  受雇職員    70.0   25.0   4.0  78.0    是\n",
      "152   31008  22    女   未婚   高中    教師    40.0   10.0   1.0  70.0    否\n",
      "153   31009  38    男   已婚   大學  受雇職員   120.0   40.0   3.0  85.0    是\n",
      "154   31010  31    女   已婚  研究所    醫生   200.0   60.0   4.0  92.0    是\n",
      "155   31011  27    男   未婚   大學  自營老闆   180.0   45.0   2.0  73.0    否\n",
      "156   31012  42    女   已婚   高中  受雇職員    90.0   30.0   5.0  79.0    是\n",
      "157   31013  29    男   未婚   大學  自營老闆   220.0   55.0   3.0  88.0    是\n",
      "158   31014  36    女   已婚  研究所    醫生   250.0   70.0   4.0  95.0    是\n",
      "159   31015  50    男   已婚   高中  受雇職員   110.0   35.0   6.0  80.0    是\n",
      "160   31016  24    女   未婚   高中    教師    50.0   12.0   1.0  68.0    否\n",
      "161   31017  39    男   已婚   大學  自營老闆   280.0   75.0   5.0  91.0    是\n",
      "162   31018  34    女   未婚  研究所    律師   150.0   40.0   3.0  90.0    是\n",
      "163   31019  44    男   已婚   高中  受雇職員    80.0   20.0   2.0  72.0    否\n",
      "164   31020  30    女   未婚   大學  自營老闆   160.0   50.0   3.0  78.0    是\n",
      "165  C00001  36    男   未婚  研究所   工程師   800.0  200.0   3.0  89.0    是\n",
      "166  C00002  43    女   已婚   大學    教師   600.0   50.0   1.0  92.0    是\n",
      "167  C00003  52    男   已婚   高中  受雇職員   400.0  100.0   2.0  75.0    是\n",
      "168  C00004  26    女   未婚  研究所    醫生   900.0  400.0   5.0  88.0    是\n",
      "169  C00005  38    男   已婚  研究所    律師  1000.0  250.0   3.0  85.0    是\n",
      "170  C00006  49    女   已婚   大學   公務員   700.0  150.0   2.0  80.0    是\n",
      "171  C00007  31    男   離婚   高中  受雇職員   350.0   30.0   1.0  69.0    是\n",
      "172  C00008  47    女   已婚  研究所  自營老闆  1200.0  500.0   7.0  95.0    是\n",
      "173  C00009  28    男   未婚   大學  受雇職員   420.0   80.0   2.0  70.0    否\n",
      "174  C00010  41    男   已婚   大學  受雇職員   500.0  120.0   2.0  82.0    是\n",
      "175  C00011  33    女   未婚  研究所   工程師   800.0  200.0   3.0  91.0    是\n",
      "176  C00012  29    男   未婚   高中  受雇職員   250.0   20.0   1.0  65.0    否\n",
      "177  C00013  45    女   已婚   大學  受雇職員   550.0  100.0   2.0  78.0    是\n",
      "178  C00014  39    男   已婚   大學  受雇職員   600.0  150.0   2.0  83.0    是\n",
      "179  C00015  55    男   已婚   高中    軍人   300.0   50.0   1.0  72.0    否\n",
      "180  C00016  24    女   未婚   大學  受雇職員   320.0   30.0   1.0  68.0    否\n",
      "181  C00017  48    男   已婚   大學  自營老闆  1100.0  450.0   6.0  94.0    是\n",
      "182  C00018  37    女   已婚   高中  受雇職員   420.0  100.0   2.0  76.0    是\n",
      "183  C00019  50    男   已婚  研究所    醫生   800.0  300.0   4.0  87.0    是\n",
      "184      A1  35    女   已婚  研究所  受雇職員   120.0   50.0   5.0  80.0    是\n",
      "185      A2  28    女   未婚   大學  自營老闆    80.0   25.0   3.0   NaN    是\n",
      "186      A3  40    男   已婚   高中    教師    60.0   15.0   2.0  75.0    是\n",
      "187      A4  55    男   已婚  研究所   工程師   200.0   70.0   7.0  90.0    是\n",
      "188      A5  45    男   已婚   高中  受雇職員    70.0   20.0   2.0  60.0    是\n",
      "189      A6  30    女  NaN   大學  受雇職員    90.0   30.0   4.0  85.0    否\n",
      "190      A7  50    男   已婚   高中  自營老闆   150.0   60.0   5.0  70.0    是\n",
      "191      A8  42    女   離婚  研究所   公務員   100.0   40.0   4.0  95.0    是\n",
      "192      A9  32    男   未婚   高中    軍人    50.0   12.0   2.0  55.0    否\n",
      "193     A10  38    男   已婚   大學    律師   110.0   35.0   4.0  80.0    是\n",
      "194     A11  48    女   已婚  研究所    教師   130.0   50.0   5.0  85.0    是\n",
      "195     A12  25    男   未婚   高中   NaN    70.0   15.0   2.0  50.0    否\n",
      "196     A13  31    女   未婚   大學  受雇職員    80.0   20.0   3.0  70.0    否\n",
      "197     A14  46    男   已婚   高中  自營老闆    90.0   30.0   3.0  75.0    是\n",
      "198     A15  29  NaN   已婚   大學    教師    60.0   10.0   1.0  60.0    否\n",
      "199     A16  51    男   已婚  NaN   工程師   180.0   60.0   5.0  80.0    是\n"
     ]
    }
   ],
   "source": [
    "print(df.iloc[150:200])"
   ]
  },
  {
   "cell_type": "markdown",
   "metadata": {},
   "source": [
    "### 通過資料獲取，我們得到未經處理的特徵資料，這時的特徵資料可能有以下問題：\n",
    "### <li>存在缺失值：缺失值需要補充。\n",
    "####  <li>不屬於同一量綱( dimension)：即特徵的計量規格不一樣，不能夠放在一起比較。如米，千米，秒，分鐘等,計算單位不一致\n",
    "#### <li>資訊冗餘：對於某些定量特徵，其包含的有效資訊為區間劃分，例如學習成績，假若只關心“及格”或不“及格”，那麼需要將定量的考分，轉換成“1”和“0”表示及格和未及格。\n",
    "#### <li>定性特徵不能直接使用：某些機器學習演算法和模型只能接受定量特徵(數值)的輸入，那麼需要將定性特徵轉換為定量特徵。\n",
    "#### <li>資訊利用率低：不同的機器學習演算法和模型對資料中資訊的利用是不同的。\n",
    "#### 那麼最好先對資料的整體情況做一個了解,如資料的描述、資料結構、分佈情況、統計、分析正確性、一致性、缺失值、異常值、重複值等"
   ]
  },
  {
   "cell_type": "markdown",
   "metadata": {},
   "source": [
    "## Step3: Performing Exploratory Data Analysis (EDA) 執行探索性數據分析 (EDA)"
   ]
  },
  {
   "cell_type": "code",
   "execution_count": 4,
   "metadata": {},
   "outputs": [
    {
     "name": "stdout",
     "output_type": "stream",
     "text": [
      "<class 'pandas.core.frame.DataFrame'>\n",
      "RangeIndex: 204 entries, 0 to 203\n",
      "Data columns (total 11 columns):\n",
      " #   Column  Non-Null Count  Dtype  \n",
      "---  ------  --------------  -----  \n",
      " 0   客戶ID    204 non-null    object \n",
      " 1   年齡      204 non-null    int64  \n",
      " 2   性別      201 non-null    object \n",
      " 3   婚姻狀況    200 non-null    object \n",
      " 4   教育程度    197 non-null    object \n",
      " 5   職業      199 non-null    object \n",
      " 6   年收入     198 non-null    float64\n",
      " 7   貸款金額    201 non-null    float64\n",
      " 8   還款期限    203 non-null    float64\n",
      " 9   信用狀態    194 non-null    float64\n",
      " 10  貸款批准    198 non-null    object \n",
      "dtypes: float64(4), int64(1), object(6)\n",
      "memory usage: 17.7+ KB\n"
     ]
    }
   ],
   "source": [
    "df.info()"
   ]
  },
  {
   "cell_type": "code",
   "execution_count": 5,
   "metadata": {},
   "outputs": [
    {
     "data": {
      "text/html": [
       "<div>\n",
       "<style scoped>\n",
       "    .dataframe tbody tr th:only-of-type {\n",
       "        vertical-align: middle;\n",
       "    }\n",
       "\n",
       "    .dataframe tbody tr th {\n",
       "        vertical-align: top;\n",
       "    }\n",
       "\n",
       "    .dataframe thead th {\n",
       "        text-align: right;\n",
       "    }\n",
       "</style>\n",
       "<table border=\"1\" class=\"dataframe\">\n",
       "  <thead>\n",
       "    <tr style=\"text-align: right;\">\n",
       "      <th></th>\n",
       "      <th>年齡</th>\n",
       "      <th>年收入</th>\n",
       "      <th>貸款金額</th>\n",
       "      <th>還款期限</th>\n",
       "      <th>信用狀態</th>\n",
       "    </tr>\n",
       "  </thead>\n",
       "  <tbody>\n",
       "    <tr>\n",
       "      <th>count</th>\n",
       "      <td>204.000000</td>\n",
       "      <td>198.000000</td>\n",
       "      <td>201.000000</td>\n",
       "      <td>203.000000</td>\n",
       "      <td>194.000000</td>\n",
       "    </tr>\n",
       "    <tr>\n",
       "      <th>mean</th>\n",
       "      <td>37.259804</td>\n",
       "      <td>169.722222</td>\n",
       "      <td>132.666667</td>\n",
       "      <td>3.699507</td>\n",
       "      <td>80.505155</td>\n",
       "    </tr>\n",
       "    <tr>\n",
       "      <th>std</th>\n",
       "      <td>8.768852</td>\n",
       "      <td>211.742825</td>\n",
       "      <td>123.627033</td>\n",
       "      <td>1.904489</td>\n",
       "      <td>10.739134</td>\n",
       "    </tr>\n",
       "    <tr>\n",
       "      <th>min</th>\n",
       "      <td>22.000000</td>\n",
       "      <td>25.000000</td>\n",
       "      <td>5.000000</td>\n",
       "      <td>1.000000</td>\n",
       "      <td>50.000000</td>\n",
       "    </tr>\n",
       "    <tr>\n",
       "      <th>25%</th>\n",
       "      <td>29.000000</td>\n",
       "      <td>65.000000</td>\n",
       "      <td>48.000000</td>\n",
       "      <td>2.000000</td>\n",
       "      <td>72.000000</td>\n",
       "    </tr>\n",
       "    <tr>\n",
       "      <th>50%</th>\n",
       "      <td>37.000000</td>\n",
       "      <td>90.000000</td>\n",
       "      <td>90.000000</td>\n",
       "      <td>3.000000</td>\n",
       "      <td>80.000000</td>\n",
       "    </tr>\n",
       "    <tr>\n",
       "      <th>75%</th>\n",
       "      <td>44.250000</td>\n",
       "      <td>180.000000</td>\n",
       "      <td>180.000000</td>\n",
       "      <td>5.000000</td>\n",
       "      <td>90.000000</td>\n",
       "    </tr>\n",
       "    <tr>\n",
       "      <th>max</th>\n",
       "      <td>55.000000</td>\n",
       "      <td>1200.000000</td>\n",
       "      <td>800.000000</td>\n",
       "      <td>10.000000</td>\n",
       "      <td>100.000000</td>\n",
       "    </tr>\n",
       "  </tbody>\n",
       "</table>\n",
       "</div>"
      ],
      "text/plain": [
       "               年齡          年收入        貸款金額        還款期限        信用狀態\n",
       "count  204.000000   198.000000  201.000000  203.000000  194.000000\n",
       "mean    37.259804   169.722222  132.666667    3.699507   80.505155\n",
       "std      8.768852   211.742825  123.627033    1.904489   10.739134\n",
       "min     22.000000    25.000000    5.000000    1.000000   50.000000\n",
       "25%     29.000000    65.000000   48.000000    2.000000   72.000000\n",
       "50%     37.000000    90.000000   90.000000    3.000000   80.000000\n",
       "75%     44.250000   180.000000  180.000000    5.000000   90.000000\n",
       "max     55.000000  1200.000000  800.000000   10.000000  100.000000"
      ]
     },
     "execution_count": 5,
     "metadata": {},
     "output_type": "execute_result"
    }
   ],
   "source": [
    "df.describe()"
   ]
  },
  {
   "cell_type": "code",
   "execution_count": 6,
   "metadata": {},
   "outputs": [
    {
     "data": {
      "text/plain": [
       "受雇職員    58\n",
       "自營老闆    39\n",
       "醫生      23\n",
       "教師      21\n",
       "工程師     19\n",
       "公務員     18\n",
       "律師      14\n",
       "軍人       7\n",
       "NaN      5\n",
       "Name: 職業, dtype: int64"
      ]
     },
     "execution_count": 6,
     "metadata": {},
     "output_type": "execute_result"
    }
   ],
   "source": [
    "#觀察一下  職業 欄位的資料\n",
    "df.職業.value_counts(dropna=False)"
   ]
  },
  {
   "cell_type": "code",
   "execution_count": 7,
   "metadata": {},
   "outputs": [
    {
     "data": {
      "text/plain": [
       "Index(['客戶ID', '年齡', '性別', '婚姻狀況', '教育程度', '職業', '年收入', '貸款金額', '還款期限', '信用狀態',\n",
       "       '貸款批准'],\n",
       "      dtype='object')"
      ]
     },
     "execution_count": 7,
     "metadata": {},
     "output_type": "execute_result"
    }
   ],
   "source": [
    "df.columns"
   ]
  },
  {
   "cell_type": "code",
   "execution_count": 8,
   "metadata": {},
   "outputs": [
    {
     "data": {
      "text/plain": [
       "客戶ID     0\n",
       "年齡       0\n",
       "性別       3\n",
       "婚姻狀況     4\n",
       "教育程度     7\n",
       "職業       5\n",
       "年收入      6\n",
       "貸款金額     3\n",
       "還款期限     1\n",
       "信用狀態    10\n",
       "貸款批准     6\n",
       "dtype: int64"
      ]
     },
     "execution_count": 8,
     "metadata": {},
     "output_type": "execute_result"
    }
   ],
   "source": [
    "df.isnull().sum()"
   ]
  },
  {
   "cell_type": "markdown",
   "metadata": {},
   "source": [
    "## Step4: 執行資料清理與預處理\n",
    "###  ①資料預處理。即資料的清洗工作，主要為缺失值、異常值、錯誤值、資料格式、取樣度等問題的處理。\n",
    "###  ②特徵轉換。即資料轉換，便於讓模型計算處理。\n",
    "### A）資料常態化處理及彙整"
   ]
  },
  {
   "cell_type": "code",
   "execution_count": 9,
   "metadata": {},
   "outputs": [],
   "source": [
    "#性別 ,教育程度,貸款批准資料轉一致化\n",
    "df['性別']=df['性別'].str.replace('M','男')\n",
    "df['性別']=df['性別'].str.replace('F','女')"
   ]
  },
  {
   "cell_type": "code",
   "execution_count": 10,
   "metadata": {},
   "outputs": [],
   "source": [
    "df['貸款批准']=df['貸款批准'].str.replace('不批准','否')\n",
    "df['貸款批准']=df['貸款批准'].str.replace('批准','是')"
   ]
  },
  {
   "cell_type": "code",
   "execution_count": 11,
   "metadata": {},
   "outputs": [],
   "source": [
    "df['教育程度']=df['教育程度'].str.replace('碩士','研究所')\n",
    "df['教育程度']=df['教育程度'].str.replace('博士','研究所')"
   ]
  },
  {
   "cell_type": "code",
   "execution_count": 13,
   "metadata": {},
   "outputs": [
    {
     "data": {
      "text/plain": [
       "<Axes: >"
      ]
     },
     "execution_count": 13,
     "metadata": {},
     "output_type": "execute_result"
    },
    {
     "data": {
      "image/png": "[encoded data removed]",
      "text/plain": [
       "<Figure size 640x480 with 1 Axes>"
      ]
     },
     "metadata": {},
     "output_type": "display_data"
    }
   ],
   "source": [
    "#將年收入,貸款金額 離散數值透過log 轉成常態分布，又名高斯分布\n",
    "df['年收入_log']=np.log(df['年收入'])\n",
    "df['年收入_log'].hist(bins=20)"
   ]
  },
  {
   "cell_type": "code",
   "execution_count": 16,
   "metadata": {},
   "outputs": [
    {
     "data": {
      "text/plain": [
       "<Axes: >"
      ]
     },
     "execution_count": 16,
     "metadata": {},
     "output_type": "execute_result"
    },
    {
     "data": {
      "image/png": "[encoded data removed]",
      "text/plain": [
       "<Figure size 640x480 with 1 Axes>"
      ]
     },
     "metadata": {},
     "output_type": "display_data"
    }
   ],
   "source": [
    "df['貸款金額_log']=np.log(df['貸款金額'])\n",
    "df['貸款金額_log'].hist(bins=20)"
   ]
  },
  {
   "cell_type": "code",
   "execution_count": 17,
   "metadata": {},
   "outputs": [
    {
     "data": {
      "text/html": [
       "<div>\n",
       "<style scoped>\n",
       "    .dataframe tbody tr th:only-of-type {\n",
       "        vertical-align: middle;\n",
       "    }\n",
       "\n",
       "    .dataframe tbody tr th {\n",
       "        vertical-align: top;\n",
       "    }\n",
       "\n",
       "    .dataframe thead th {\n",
       "        text-align: right;\n",
       "    }\n",
       "</style>\n",
       "<table border=\"1\" class=\"dataframe\">\n",
       "  <thead>\n",
       "    <tr style=\"text-align: right;\">\n",
       "      <th></th>\n",
       "      <th>客戶ID</th>\n",
       "      <th>年齡</th>\n",
       "      <th>性別</th>\n",
       "      <th>婚姻狀況</th>\n",
       "      <th>教育程度</th>\n",
       "      <th>職業</th>\n",
       "      <th>年收入</th>\n",
       "      <th>貸款金額</th>\n",
       "      <th>還款期限</th>\n",
       "      <th>信用狀態</th>\n",
       "      <th>貸款批准</th>\n",
       "      <th>年收入_log</th>\n",
       "      <th>貸款金額_log</th>\n",
       "    </tr>\n",
       "  </thead>\n",
       "  <tbody>\n",
       "    <tr>\n",
       "      <th>0</th>\n",
       "      <td>1001</td>\n",
       "      <td>35</td>\n",
       "      <td>男</td>\n",
       "      <td>已婚</td>\n",
       "      <td>研究所</td>\n",
       "      <td>醫生</td>\n",
       "      <td>800.0</td>\n",
       "      <td>100.0</td>\n",
       "      <td>1.0</td>\n",
       "      <td>90.0</td>\n",
       "      <td>是</td>\n",
       "      <td>6.684612</td>\n",
       "      <td>4.605170</td>\n",
       "    </tr>\n",
       "    <tr>\n",
       "      <th>1</th>\n",
       "      <td>1002</td>\n",
       "      <td>28</td>\n",
       "      <td>女</td>\n",
       "      <td>未婚</td>\n",
       "      <td>大學</td>\n",
       "      <td>受雇職員</td>\n",
       "      <td>50.0</td>\n",
       "      <td>80.0</td>\n",
       "      <td>2.0</td>\n",
       "      <td>75.0</td>\n",
       "      <td>否</td>\n",
       "      <td>3.912023</td>\n",
       "      <td>4.382027</td>\n",
       "    </tr>\n",
       "    <tr>\n",
       "      <th>2</th>\n",
       "      <td>1003</td>\n",
       "      <td>42</td>\n",
       "      <td>男</td>\n",
       "      <td>已婚</td>\n",
       "      <td>高中</td>\n",
       "      <td>自營老闆</td>\n",
       "      <td>1200.0</td>\n",
       "      <td>200.0</td>\n",
       "      <td>5.0</td>\n",
       "      <td>80.0</td>\n",
       "      <td>是</td>\n",
       "      <td>7.090077</td>\n",
       "      <td>5.298317</td>\n",
       "    </tr>\n",
       "    <tr>\n",
       "      <th>3</th>\n",
       "      <td>1004</td>\n",
       "      <td>30</td>\n",
       "      <td>男</td>\n",
       "      <td>未婚</td>\n",
       "      <td>大學</td>\n",
       "      <td>工程師</td>\n",
       "      <td>60.0</td>\n",
       "      <td>180.0</td>\n",
       "      <td>3.0</td>\n",
       "      <td>85.0</td>\n",
       "      <td>否</td>\n",
       "      <td>4.094345</td>\n",
       "      <td>5.192957</td>\n",
       "    </tr>\n",
       "    <tr>\n",
       "      <th>4</th>\n",
       "      <td>1005</td>\n",
       "      <td>50</td>\n",
       "      <td>女</td>\n",
       "      <td>已婚</td>\n",
       "      <td>研究所</td>\n",
       "      <td>教師</td>\n",
       "      <td>100.0</td>\n",
       "      <td>100.0</td>\n",
       "      <td>5.0</td>\n",
       "      <td>95.0</td>\n",
       "      <td>是</td>\n",
       "      <td>4.605170</td>\n",
       "      <td>4.605170</td>\n",
       "    </tr>\n",
       "    <tr>\n",
       "      <th>5</th>\n",
       "      <td>1006</td>\n",
       "      <td>25</td>\n",
       "      <td>男</td>\n",
       "      <td>未婚</td>\n",
       "      <td>高中</td>\n",
       "      <td>受雇職員</td>\n",
       "      <td>40.0</td>\n",
       "      <td>140.0</td>\n",
       "      <td>2.0</td>\n",
       "      <td>70.0</td>\n",
       "      <td>否</td>\n",
       "      <td>3.688879</td>\n",
       "      <td>4.941642</td>\n",
       "    </tr>\n",
       "    <tr>\n",
       "      <th>6</th>\n",
       "      <td>1007</td>\n",
       "      <td>38</td>\n",
       "      <td>女</td>\n",
       "      <td>已婚</td>\n",
       "      <td>大學</td>\n",
       "      <td>公務員</td>\n",
       "      <td>70.0</td>\n",
       "      <td>100.0</td>\n",
       "      <td>4.0</td>\n",
       "      <td>85.0</td>\n",
       "      <td>是</td>\n",
       "      <td>4.248495</td>\n",
       "      <td>4.605170</td>\n",
       "    </tr>\n",
       "    <tr>\n",
       "      <th>7</th>\n",
       "      <td>1008</td>\n",
       "      <td>45</td>\n",
       "      <td>男</td>\n",
       "      <td>已婚</td>\n",
       "      <td>大學</td>\n",
       "      <td>自營老闆</td>\n",
       "      <td>250.0</td>\n",
       "      <td>120.0</td>\n",
       "      <td>3.0</td>\n",
       "      <td>90.0</td>\n",
       "      <td>是</td>\n",
       "      <td>5.521461</td>\n",
       "      <td>4.787492</td>\n",
       "    </tr>\n",
       "    <tr>\n",
       "      <th>8</th>\n",
       "      <td>1009</td>\n",
       "      <td>29</td>\n",
       "      <td>女</td>\n",
       "      <td>未婚</td>\n",
       "      <td>研究所</td>\n",
       "      <td>醫生</td>\n",
       "      <td>200.0</td>\n",
       "      <td>390.0</td>\n",
       "      <td>2.0</td>\n",
       "      <td>80.0</td>\n",
       "      <td>否</td>\n",
       "      <td>5.298317</td>\n",
       "      <td>5.966147</td>\n",
       "    </tr>\n",
       "    <tr>\n",
       "      <th>9</th>\n",
       "      <td>1010</td>\n",
       "      <td>33</td>\n",
       "      <td>男</td>\n",
       "      <td>已婚</td>\n",
       "      <td>大學</td>\n",
       "      <td>受雇職員</td>\n",
       "      <td>55.0</td>\n",
       "      <td>95.0</td>\n",
       "      <td>2.0</td>\n",
       "      <td>75.0</td>\n",
       "      <td>否</td>\n",
       "      <td>4.007333</td>\n",
       "      <td>4.553877</td>\n",
       "    </tr>\n",
       "    <tr>\n",
       "      <th>10</th>\n",
       "      <td>10003</td>\n",
       "      <td>28</td>\n",
       "      <td>女</td>\n",
       "      <td>未婚</td>\n",
       "      <td>大學</td>\n",
       "      <td>教師</td>\n",
       "      <td>50.0</td>\n",
       "      <td>100.0</td>\n",
       "      <td>1.0</td>\n",
       "      <td>70.0</td>\n",
       "      <td>否</td>\n",
       "      <td>3.912023</td>\n",
       "      <td>4.605170</td>\n",
       "    </tr>\n",
       "    <tr>\n",
       "      <th>11</th>\n",
       "      <td>10004</td>\n",
       "      <td>32</td>\n",
       "      <td>男</td>\n",
       "      <td>已婚</td>\n",
       "      <td>大學</td>\n",
       "      <td>工程師</td>\n",
       "      <td>75.0</td>\n",
       "      <td>50.0</td>\n",
       "      <td>2.0</td>\n",
       "      <td>85.0</td>\n",
       "      <td>是</td>\n",
       "      <td>4.317488</td>\n",
       "      <td>3.912023</td>\n",
       "    </tr>\n",
       "    <tr>\n",
       "      <th>12</th>\n",
       "      <td>10005</td>\n",
       "      <td>45</td>\n",
       "      <td>女</td>\n",
       "      <td>離婚</td>\n",
       "      <td>高中</td>\n",
       "      <td>受雇職員</td>\n",
       "      <td>40.0</td>\n",
       "      <td>50.0</td>\n",
       "      <td>1.0</td>\n",
       "      <td>60.0</td>\n",
       "      <td>否</td>\n",
       "      <td>3.688879</td>\n",
       "      <td>3.912023</td>\n",
       "    </tr>\n",
       "    <tr>\n",
       "      <th>13</th>\n",
       "      <td>10006</td>\n",
       "      <td>39</td>\n",
       "      <td>男</td>\n",
       "      <td>已婚</td>\n",
       "      <td>研究所</td>\n",
       "      <td>律師</td>\n",
       "      <td>120.0</td>\n",
       "      <td>150.0</td>\n",
       "      <td>5.0</td>\n",
       "      <td>95.0</td>\n",
       "      <td>是</td>\n",
       "      <td>4.787492</td>\n",
       "      <td>5.010635</td>\n",
       "    </tr>\n",
       "    <tr>\n",
       "      <th>14</th>\n",
       "      <td>10007</td>\n",
       "      <td>26</td>\n",
       "      <td>男</td>\n",
       "      <td>未婚</td>\n",
       "      <td>大學</td>\n",
       "      <td>受雇職員</td>\n",
       "      <td>35.0</td>\n",
       "      <td>70.0</td>\n",
       "      <td>1.0</td>\n",
       "      <td>50.0</td>\n",
       "      <td>否</td>\n",
       "      <td>3.555348</td>\n",
       "      <td>4.248495</td>\n",
       "    </tr>\n",
       "    <tr>\n",
       "      <th>15</th>\n",
       "      <td>10008</td>\n",
       "      <td>33</td>\n",
       "      <td>女</td>\n",
       "      <td>已婚</td>\n",
       "      <td>研究所</td>\n",
       "      <td>教師</td>\n",
       "      <td>90.0</td>\n",
       "      <td>140.0</td>\n",
       "      <td>3.0</td>\n",
       "      <td>80.0</td>\n",
       "      <td>是</td>\n",
       "      <td>4.499810</td>\n",
       "      <td>4.941642</td>\n",
       "    </tr>\n",
       "    <tr>\n",
       "      <th>16</th>\n",
       "      <td>10009</td>\n",
       "      <td>51</td>\n",
       "      <td>女</td>\n",
       "      <td>已婚</td>\n",
       "      <td>大學</td>\n",
       "      <td>受雇職員</td>\n",
       "      <td>60.0</td>\n",
       "      <td>50.0</td>\n",
       "      <td>1.0</td>\n",
       "      <td>75.0</td>\n",
       "      <td>是</td>\n",
       "      <td>4.094345</td>\n",
       "      <td>3.912023</td>\n",
       "    </tr>\n",
       "    <tr>\n",
       "      <th>17</th>\n",
       "      <td>10010</td>\n",
       "      <td>44</td>\n",
       "      <td>男</td>\n",
       "      <td>已婚</td>\n",
       "      <td>高中</td>\n",
       "      <td>自營老闆</td>\n",
       "      <td>800.0</td>\n",
       "      <td>220.0</td>\n",
       "      <td>2.0</td>\n",
       "      <td>90.0</td>\n",
       "      <td>是</td>\n",
       "      <td>6.684612</td>\n",
       "      <td>5.393628</td>\n",
       "    </tr>\n",
       "    <tr>\n",
       "      <th>18</th>\n",
       "      <td>10011</td>\n",
       "      <td>29</td>\n",
       "      <td>女</td>\n",
       "      <td>未婚</td>\n",
       "      <td>大學</td>\n",
       "      <td>受雇職員</td>\n",
       "      <td>40.0</td>\n",
       "      <td>60.0</td>\n",
       "      <td>1.0</td>\n",
       "      <td>65.0</td>\n",
       "      <td>否</td>\n",
       "      <td>3.688879</td>\n",
       "      <td>4.094345</td>\n",
       "    </tr>\n",
       "    <tr>\n",
       "      <th>19</th>\n",
       "      <td>10012</td>\n",
       "      <td>37</td>\n",
       "      <td>男</td>\n",
       "      <td>已婚</td>\n",
       "      <td>大學</td>\n",
       "      <td>教師</td>\n",
       "      <td>55.0</td>\n",
       "      <td>85.0</td>\n",
       "      <td>3.0</td>\n",
       "      <td>70.0</td>\n",
       "      <td>是</td>\n",
       "      <td>4.007333</td>\n",
       "      <td>4.442651</td>\n",
       "    </tr>\n",
       "    <tr>\n",
       "      <th>20</th>\n",
       "      <td>10013</td>\n",
       "      <td>48</td>\n",
       "      <td>男</td>\n",
       "      <td>已婚</td>\n",
       "      <td>研究所</td>\n",
       "      <td>醫生</td>\n",
       "      <td>180.0</td>\n",
       "      <td>180.0</td>\n",
       "      <td>5.0</td>\n",
       "      <td>95.0</td>\n",
       "      <td>是</td>\n",
       "      <td>5.192957</td>\n",
       "      <td>5.192957</td>\n",
       "    </tr>\n",
       "    <tr>\n",
       "      <th>21</th>\n",
       "      <td>10014</td>\n",
       "      <td>25</td>\n",
       "      <td>女</td>\n",
       "      <td>未婚</td>\n",
       "      <td>高中</td>\n",
       "      <td>受雇職員</td>\n",
       "      <td>30.0</td>\n",
       "      <td>50.0</td>\n",
       "      <td>1.0</td>\n",
       "      <td>55.0</td>\n",
       "      <td>否</td>\n",
       "      <td>3.401197</td>\n",
       "      <td>3.912023</td>\n",
       "    </tr>\n",
       "    <tr>\n",
       "      <th>22</th>\n",
       "      <td>10015</td>\n",
       "      <td>42</td>\n",
       "      <td>女</td>\n",
       "      <td>已婚</td>\n",
       "      <td>大學</td>\n",
       "      <td>公務員</td>\n",
       "      <td>65.0</td>\n",
       "      <td>85.0</td>\n",
       "      <td>2.0</td>\n",
       "      <td>85.0</td>\n",
       "      <td>是</td>\n",
       "      <td>4.174387</td>\n",
       "      <td>4.442651</td>\n",
       "    </tr>\n",
       "    <tr>\n",
       "      <th>23</th>\n",
       "      <td>10016</td>\n",
       "      <td>31</td>\n",
       "      <td>男</td>\n",
       "      <td>未婚</td>\n",
       "      <td>大學</td>\n",
       "      <td>工程師</td>\n",
       "      <td>70.0</td>\n",
       "      <td>120.0</td>\n",
       "      <td>3.0</td>\n",
       "      <td>80.0</td>\n",
       "      <td>是</td>\n",
       "      <td>4.248495</td>\n",
       "      <td>4.787492</td>\n",
       "    </tr>\n",
       "    <tr>\n",
       "      <th>24</th>\n",
       "      <td>10017</td>\n",
       "      <td>35</td>\n",
       "      <td>女</td>\n",
       "      <td>已婚</td>\n",
       "      <td>高中</td>\n",
       "      <td>受雇職員</td>\n",
       "      <td>45.0</td>\n",
       "      <td>100.0</td>\n",
       "      <td>1.0</td>\n",
       "      <td>70.0</td>\n",
       "      <td>否</td>\n",
       "      <td>3.806662</td>\n",
       "      <td>4.605170</td>\n",
       "    </tr>\n",
       "    <tr>\n",
       "      <th>25</th>\n",
       "      <td>10018</td>\n",
       "      <td>40</td>\n",
       "      <td>男</td>\n",
       "      <td>已婚</td>\n",
       "      <td>大學</td>\n",
       "      <td>自營老闆</td>\n",
       "      <td>195.0</td>\n",
       "      <td>150.0</td>\n",
       "      <td>5.0</td>\n",
       "      <td>90.0</td>\n",
       "      <td>是</td>\n",
       "      <td>5.273000</td>\n",
       "      <td>5.010635</td>\n",
       "    </tr>\n",
       "    <tr>\n",
       "      <th>26</th>\n",
       "      <td>10019</td>\n",
       "      <td>27</td>\n",
       "      <td>男</td>\n",
       "      <td>未婚</td>\n",
       "      <td>大學</td>\n",
       "      <td>受雇職員</td>\n",
       "      <td>38.0</td>\n",
       "      <td>80.0</td>\n",
       "      <td>2.0</td>\n",
       "      <td>60.0</td>\n",
       "      <td>否</td>\n",
       "      <td>3.637586</td>\n",
       "      <td>4.382027</td>\n",
       "    </tr>\n",
       "    <tr>\n",
       "      <th>27</th>\n",
       "      <td>10020</td>\n",
       "      <td>43</td>\n",
       "      <td>女</td>\n",
       "      <td>已婚</td>\n",
       "      <td>研究所</td>\n",
       "      <td>律師</td>\n",
       "      <td>120.0</td>\n",
       "      <td>160.0</td>\n",
       "      <td>4.0</td>\n",
       "      <td>95.0</td>\n",
       "      <td>是</td>\n",
       "      <td>4.787492</td>\n",
       "      <td>5.075174</td>\n",
       "    </tr>\n",
       "    <tr>\n",
       "      <th>28</th>\n",
       "      <td>20210021</td>\n",
       "      <td>38</td>\n",
       "      <td>女</td>\n",
       "      <td>已婚</td>\n",
       "      <td>研究所</td>\n",
       "      <td>律師</td>\n",
       "      <td>80.0</td>\n",
       "      <td>150.0</td>\n",
       "      <td>5.0</td>\n",
       "      <td>71.0</td>\n",
       "      <td>是</td>\n",
       "      <td>4.382027</td>\n",
       "      <td>5.010635</td>\n",
       "    </tr>\n",
       "    <tr>\n",
       "      <th>29</th>\n",
       "      <td>20210022</td>\n",
       "      <td>27</td>\n",
       "      <td>男</td>\n",
       "      <td>未婚</td>\n",
       "      <td>大學</td>\n",
       "      <td>受雇職員</td>\n",
       "      <td>40.0</td>\n",
       "      <td>100.0</td>\n",
       "      <td>3.0</td>\n",
       "      <td>63.0</td>\n",
       "      <td>否</td>\n",
       "      <td>3.688879</td>\n",
       "      <td>4.605170</td>\n",
       "    </tr>\n",
       "    <tr>\n",
       "      <th>30</th>\n",
       "      <td>20210023</td>\n",
       "      <td>45</td>\n",
       "      <td>女</td>\n",
       "      <td>已婚</td>\n",
       "      <td>高中</td>\n",
       "      <td>自營老闆</td>\n",
       "      <td>220.0</td>\n",
       "      <td>800.0</td>\n",
       "      <td>10.0</td>\n",
       "      <td>80.0</td>\n",
       "      <td>是</td>\n",
       "      <td>5.393628</td>\n",
       "      <td>6.684612</td>\n",
       "    </tr>\n",
       "    <tr>\n",
       "      <th>31</th>\n",
       "      <td>20210024</td>\n",
       "      <td>32</td>\n",
       "      <td>男</td>\n",
       "      <td>已婚</td>\n",
       "      <td>研究所</td>\n",
       "      <td>教師</td>\n",
       "      <td>60.0</td>\n",
       "      <td>100.0</td>\n",
       "      <td>3.0</td>\n",
       "      <td>72.0</td>\n",
       "      <td>是</td>\n",
       "      <td>4.094345</td>\n",
       "      <td>4.605170</td>\n",
       "    </tr>\n",
       "    <tr>\n",
       "      <th>32</th>\n",
       "      <td>20210025</td>\n",
       "      <td>48</td>\n",
       "      <td>女</td>\n",
       "      <td>已婚</td>\n",
       "      <td>大學</td>\n",
       "      <td>受雇職員</td>\n",
       "      <td>90.0</td>\n",
       "      <td>130.0</td>\n",
       "      <td>5.0</td>\n",
       "      <td>67.0</td>\n",
       "      <td>是</td>\n",
       "      <td>4.499810</td>\n",
       "      <td>4.867534</td>\n",
       "    </tr>\n",
       "    <tr>\n",
       "      <th>33</th>\n",
       "      <td>20210026</td>\n",
       "      <td>55</td>\n",
       "      <td>男</td>\n",
       "      <td>離婚</td>\n",
       "      <td>高中</td>\n",
       "      <td>自營老闆</td>\n",
       "      <td>150.0</td>\n",
       "      <td>500.0</td>\n",
       "      <td>10.0</td>\n",
       "      <td>75.0</td>\n",
       "      <td>是</td>\n",
       "      <td>5.010635</td>\n",
       "      <td>6.214608</td>\n",
       "    </tr>\n",
       "    <tr>\n",
       "      <th>34</th>\n",
       "      <td>20210027</td>\n",
       "      <td>23</td>\n",
       "      <td>女</td>\n",
       "      <td>未婚</td>\n",
       "      <td>高中</td>\n",
       "      <td>醫生</td>\n",
       "      <td>150.0</td>\n",
       "      <td>300.0</td>\n",
       "      <td>2.0</td>\n",
       "      <td>66.0</td>\n",
       "      <td>否</td>\n",
       "      <td>5.010635</td>\n",
       "      <td>5.703782</td>\n",
       "    </tr>\n",
       "    <tr>\n",
       "      <th>35</th>\n",
       "      <td>20210028</td>\n",
       "      <td>39</td>\n",
       "      <td>男</td>\n",
       "      <td>已婚</td>\n",
       "      <td>研究所</td>\n",
       "      <td>工程師</td>\n",
       "      <td>200.0</td>\n",
       "      <td>400.0</td>\n",
       "      <td>5.0</td>\n",
       "      <td>78.0</td>\n",
       "      <td>是</td>\n",
       "      <td>5.298317</td>\n",
       "      <td>5.991465</td>\n",
       "    </tr>\n",
       "    <tr>\n",
       "      <th>36</th>\n",
       "      <td>20210029</td>\n",
       "      <td>50</td>\n",
       "      <td>男</td>\n",
       "      <td>已婚</td>\n",
       "      <td>研究所</td>\n",
       "      <td>公務員</td>\n",
       "      <td>110.0</td>\n",
       "      <td>200.0</td>\n",
       "      <td>7.0</td>\n",
       "      <td>79.0</td>\n",
       "      <td>是</td>\n",
       "      <td>4.700480</td>\n",
       "      <td>5.298317</td>\n",
       "    </tr>\n",
       "    <tr>\n",
       "      <th>37</th>\n",
       "      <td>20210030</td>\n",
       "      <td>31</td>\n",
       "      <td>女</td>\n",
       "      <td>未婚</td>\n",
       "      <td>大學</td>\n",
       "      <td>受雇職員</td>\n",
       "      <td>55.0</td>\n",
       "      <td>100.0</td>\n",
       "      <td>3.0</td>\n",
       "      <td>70.0</td>\n",
       "      <td>是</td>\n",
       "      <td>4.007333</td>\n",
       "      <td>4.605170</td>\n",
       "    </tr>\n",
       "    <tr>\n",
       "      <th>38</th>\n",
       "      <td>20210031</td>\n",
       "      <td>43</td>\n",
       "      <td>女</td>\n",
       "      <td>已婚</td>\n",
       "      <td>研究所</td>\n",
       "      <td>教師</td>\n",
       "      <td>95.0</td>\n",
       "      <td>300.0</td>\n",
       "      <td>10.0</td>\n",
       "      <td>74.0</td>\n",
       "      <td>是</td>\n",
       "      <td>4.553877</td>\n",
       "      <td>5.703782</td>\n",
       "    </tr>\n",
       "    <tr>\n",
       "      <th>39</th>\n",
       "      <td>20210032</td>\n",
       "      <td>28</td>\n",
       "      <td>男</td>\n",
       "      <td>未婚</td>\n",
       "      <td>大學</td>\n",
       "      <td>受雇職員</td>\n",
       "      <td>45.0</td>\n",
       "      <td>120.0</td>\n",
       "      <td>3.0</td>\n",
       "      <td>62.0</td>\n",
       "      <td>否</td>\n",
       "      <td>3.806662</td>\n",
       "      <td>4.787492</td>\n",
       "    </tr>\n",
       "    <tr>\n",
       "      <th>40</th>\n",
       "      <td>20210033</td>\n",
       "      <td>47</td>\n",
       "      <td>女</td>\n",
       "      <td>已婚</td>\n",
       "      <td>高中</td>\n",
       "      <td>自營老闆</td>\n",
       "      <td>130.0</td>\n",
       "      <td>400.0</td>\n",
       "      <td>10.0</td>\n",
       "      <td>77.0</td>\n",
       "      <td>是</td>\n",
       "      <td>4.867534</td>\n",
       "      <td>5.991465</td>\n",
       "    </tr>\n",
       "    <tr>\n",
       "      <th>41</th>\n",
       "      <td>20210034</td>\n",
       "      <td>29</td>\n",
       "      <td>男</td>\n",
       "      <td>未婚</td>\n",
       "      <td>研究所</td>\n",
       "      <td>工程師</td>\n",
       "      <td>60.0</td>\n",
       "      <td>150.0</td>\n",
       "      <td>4.0</td>\n",
       "      <td>71.0</td>\n",
       "      <td>是</td>\n",
       "      <td>4.094345</td>\n",
       "      <td>5.010635</td>\n",
       "    </tr>\n",
       "    <tr>\n",
       "      <th>42</th>\n",
       "      <td>20210035</td>\n",
       "      <td>42</td>\n",
       "      <td>男</td>\n",
       "      <td>已婚</td>\n",
       "      <td>大學</td>\n",
       "      <td>受雇職員</td>\n",
       "      <td>90.0</td>\n",
       "      <td>200.0</td>\n",
       "      <td>5.0</td>\n",
       "      <td>75.0</td>\n",
       "      <td>是</td>\n",
       "      <td>4.499810</td>\n",
       "      <td>5.298317</td>\n",
       "    </tr>\n",
       "    <tr>\n",
       "      <th>43</th>\n",
       "      <td>20210036</td>\n",
       "      <td>36</td>\n",
       "      <td>女</td>\n",
       "      <td>已婚</td>\n",
       "      <td>高中</td>\n",
       "      <td>自營老闆</td>\n",
       "      <td>170.0</td>\n",
       "      <td>300.0</td>\n",
       "      <td>5.0</td>\n",
       "      <td>68.0</td>\n",
       "      <td>是</td>\n",
       "      <td>5.135798</td>\n",
       "      <td>5.703782</td>\n",
       "    </tr>\n",
       "    <tr>\n",
       "      <th>44</th>\n",
       "      <td>1</td>\n",
       "      <td>35</td>\n",
       "      <td>男</td>\n",
       "      <td>已婚</td>\n",
       "      <td>大學</td>\n",
       "      <td>受雇職員</td>\n",
       "      <td>60.0</td>\n",
       "      <td>250.0</td>\n",
       "      <td>5.0</td>\n",
       "      <td>85.0</td>\n",
       "      <td>是</td>\n",
       "      <td>4.094345</td>\n",
       "      <td>5.521461</td>\n",
       "    </tr>\n",
       "  </tbody>\n",
       "</table>\n",
       "</div>"
      ],
      "text/plain": [
       "        客戶ID  年齡 性別 婚姻狀況 教育程度    職業     年收入   貸款金額  還款期限  信用狀態 貸款批准   年收入_log  \\\n",
       "0       1001  35  男   已婚  研究所    醫生   800.0  100.0   1.0  90.0    是  6.684612   \n",
       "1       1002  28  女   未婚   大學  受雇職員    50.0   80.0   2.0  75.0    否  3.912023   \n",
       "2       1003  42  男   已婚   高中  自營老闆  1200.0  200.0   5.0  80.0    是  7.090077   \n",
       "3       1004  30  男   未婚   大學   工程師    60.0  180.0   3.0  85.0    否  4.094345   \n",
       "4       1005  50  女   已婚  研究所    教師   100.0  100.0   5.0  95.0    是  4.605170   \n",
       "5       1006  25  男   未婚   高中  受雇職員    40.0  140.0   2.0  70.0    否  3.688879   \n",
       "6       1007  38  女   已婚   大學   公務員    70.0  100.0   4.0  85.0    是  4.248495   \n",
       "7       1008  45  男   已婚   大學  自營老闆   250.0  120.0   3.0  90.0    是  5.521461   \n",
       "8       1009  29  女   未婚  研究所    醫生   200.0  390.0   2.0  80.0    否  5.298317   \n",
       "9       1010  33  男   已婚   大學  受雇職員    55.0   95.0   2.0  75.0    否  4.007333   \n",
       "10     10003  28  女   未婚   大學    教師    50.0  100.0   1.0  70.0    否  3.912023   \n",
       "11     10004  32  男   已婚   大學   工程師    75.0   50.0   2.0  85.0    是  4.317488   \n",
       "12     10005  45  女   離婚   高中  受雇職員    40.0   50.0   1.0  60.0    否  3.688879   \n",
       "13     10006  39  男   已婚  研究所    律師   120.0  150.0   5.0  95.0    是  4.787492   \n",
       "14     10007  26  男   未婚   大學  受雇職員    35.0   70.0   1.0  50.0    否  3.555348   \n",
       "15     10008  33  女   已婚  研究所    教師    90.0  140.0   3.0  80.0    是  4.499810   \n",
       "16     10009  51  女   已婚   大學  受雇職員    60.0   50.0   1.0  75.0    是  4.094345   \n",
       "17     10010  44  男   已婚   高中  自營老闆   800.0  220.0   2.0  90.0    是  6.684612   \n",
       "18     10011  29  女   未婚   大學  受雇職員    40.0   60.0   1.0  65.0    否  3.688879   \n",
       "19     10012  37  男   已婚   大學    教師    55.0   85.0   3.0  70.0    是  4.007333   \n",
       "20     10013  48  男   已婚  研究所    醫生   180.0  180.0   5.0  95.0    是  5.192957   \n",
       "21     10014  25  女   未婚   高中  受雇職員    30.0   50.0   1.0  55.0    否  3.401197   \n",
       "22     10015  42  女   已婚   大學   公務員    65.0   85.0   2.0  85.0    是  4.174387   \n",
       "23     10016  31  男   未婚   大學   工程師    70.0  120.0   3.0  80.0    是  4.248495   \n",
       "24     10017  35  女   已婚   高中  受雇職員    45.0  100.0   1.0  70.0    否  3.806662   \n",
       "25     10018  40  男   已婚   大學  自營老闆   195.0  150.0   5.0  90.0    是  5.273000   \n",
       "26     10019  27  男   未婚   大學  受雇職員    38.0   80.0   2.0  60.0    否  3.637586   \n",
       "27     10020  43  女   已婚  研究所    律師   120.0  160.0   4.0  95.0    是  4.787492   \n",
       "28  20210021  38  女   已婚  研究所    律師    80.0  150.0   5.0  71.0    是  4.382027   \n",
       "29  20210022  27  男   未婚   大學  受雇職員    40.0  100.0   3.0  63.0    否  3.688879   \n",
       "30  20210023  45  女   已婚   高中  自營老闆   220.0  800.0  10.0  80.0    是  5.393628   \n",
       "31  20210024  32  男   已婚  研究所    教師    60.0  100.0   3.0  72.0    是  4.094345   \n",
       "32  20210025  48  女   已婚   大學  受雇職員    90.0  130.0   5.0  67.0    是  4.499810   \n",
       "33  20210026  55  男   離婚   高中  自營老闆   150.0  500.0  10.0  75.0    是  5.010635   \n",
       "34  20210027  23  女   未婚   高中    醫生   150.0  300.0   2.0  66.0    否  5.010635   \n",
       "35  20210028  39  男   已婚  研究所   工程師   200.0  400.0   5.0  78.0    是  5.298317   \n",
       "36  20210029  50  男   已婚  研究所   公務員   110.0  200.0   7.0  79.0    是  4.700480   \n",
       "37  20210030  31  女   未婚   大學  受雇職員    55.0  100.0   3.0  70.0    是  4.007333   \n",
       "38  20210031  43  女   已婚  研究所    教師    95.0  300.0  10.0  74.0    是  4.553877   \n",
       "39  20210032  28  男   未婚   大學  受雇職員    45.0  120.0   3.0  62.0    否  3.806662   \n",
       "40  20210033  47  女   已婚   高中  自營老闆   130.0  400.0  10.0  77.0    是  4.867534   \n",
       "41  20210034  29  男   未婚  研究所   工程師    60.0  150.0   4.0  71.0    是  4.094345   \n",
       "42  20210035  42  男   已婚   大學  受雇職員    90.0  200.0   5.0  75.0    是  4.499810   \n",
       "43  20210036  36  女   已婚   高中  自營老闆   170.0  300.0   5.0  68.0    是  5.135798   \n",
       "44         1  35  男   已婚   大學  受雇職員    60.0  250.0   5.0  85.0    是  4.094345   \n",
       "\n",
       "    貸款金額_log  \n",
       "0   4.605170  \n",
       "1   4.382027  \n",
       "2   5.298317  \n",
       "3   5.192957  \n",
       "4   4.605170  \n",
       "5   4.941642  \n",
       "6   4.605170  \n",
       "7   4.787492  \n",
       "8   5.966147  \n",
       "9   4.553877  \n",
       "10  4.605170  \n",
       "11  3.912023  \n",
       "12  3.912023  \n",
       "13  5.010635  \n",
       "14  4.248495  \n",
       "15  4.941642  \n",
       "16  3.912023  \n",
       "17  5.393628  \n",
       "18  4.094345  \n",
       "19  4.442651  \n",
       "20  5.192957  \n",
       "21  3.912023  \n",
       "22  4.442651  \n",
       "23  4.787492  \n",
       "24  4.605170  \n",
       "25  5.010635  \n",
       "26  4.382027  \n",
       "27  5.075174  \n",
       "28  5.010635  \n",
       "29  4.605170  \n",
       "30  6.684612  \n",
       "31  4.605170  \n",
       "32  4.867534  \n",
       "33  6.214608  \n",
       "34  5.703782  \n",
       "35  5.991465  \n",
       "36  5.298317  \n",
       "37  4.605170  \n",
       "38  5.703782  \n",
       "39  4.787492  \n",
       "40  5.991465  \n",
       "41  5.010635  \n",
       "42  5.298317  \n",
       "43  5.703782  \n",
       "44  5.521461  "
      ]
     },
     "execution_count": 17,
     "metadata": {},
     "output_type": "execute_result"
    }
   ],
   "source": [
    "df.head(45)"
   ]
  },
  {
   "cell_type": "markdown",
   "metadata": {},
   "source": [
    "### B）缺失值處理\n",
    "### 作法:\n",
    "###    1.缺失值刪除（dropna）\n",
    "###      ①刪除例項\n",
    "\n",
    "###    2.缺失值填充（fillna）\n",
    "\n",
    "\n",
    "###      ③用眾數填充,可以用未缺失資料的眾數來填充缺失值 \n"
   ]
  },
  {
   "cell_type": "code",
   "execution_count": 18,
   "metadata": {},
   "outputs": [
    {
     "data": {
      "text/plain": [
       "客戶ID         0\n",
       "年齡           0\n",
       "性別           3\n",
       "婚姻狀況         4\n",
       "教育程度         7\n",
       "職業           5\n",
       "年收入          6\n",
       "貸款金額         3\n",
       "還款期限         1\n",
       "信用狀態        10\n",
       "貸款批准         6\n",
       "年收入_log      6\n",
       "貸款金額_log     3\n",
       "dtype: int64"
      ]
     },
     "execution_count": 18,
     "metadata": {},
     "output_type": "execute_result"
    }
   ],
   "source": [
    "df.isnull().sum()"
   ]
  },
  {
   "cell_type": "code",
   "execution_count": 22,
   "metadata": {},
   "outputs": [],
   "source": [
    "# fillna ==>用某一個特定值取代所有 nan\n",
    "# inplace = True：直接对原始对象資料進行修改；\n",
    "# inplace = False：不動原資料，修改结果放在新建的資料。\n",
    "# mode()[0]==>眾數，就是出現频数最高的那个值\n",
    "df['性別'].fillna(df['性別'].mode()[0],inplace=True)\n",
    "df['婚姻狀況'].fillna(df['婚姻狀況'].mode()[0],inplace=True)\n",
    "df['教育程度'].fillna(df['教育程度'].mode()[0],inplace=True)\n",
    "df['職業'].fillna(df['職業'].mode()[0],inplace=True)\n",
    "df['年收入'].fillna(df['年收入'].mode()[0],inplace=True)\n",
    "df['貸款金額'].fillna(df['貸款金額'].mode()[0],inplace=True)\n",
    "df['還款期限'].fillna(df['還款期限'].mode()[0],inplace=True)\n",
    "df['信用狀態'].fillna(df['信用狀態'].mode()[0],inplace=True)\n",
    "df['貸款批准'].fillna(df['貸款批准'].mode()[0],inplace=True)\n",
    "df['年收入_log'].fillna(df['年收入_log'].mode()[0],inplace=True)\n",
    "df['貸款金額_log'].fillna(df['貸款金額_log'].mode()[0],inplace=True)"
   ]
  },
  {
   "cell_type": "code",
   "execution_count": 23,
   "metadata": {},
   "outputs": [
    {
     "data": {
      "text/plain": [
       "客戶ID        0\n",
       "年齡          0\n",
       "性別          0\n",
       "婚姻狀況        0\n",
       "教育程度        0\n",
       "職業          0\n",
       "年收入         0\n",
       "貸款金額        0\n",
       "還款期限        0\n",
       "信用狀態        0\n",
       "貸款批准        0\n",
       "年收入_log     0\n",
       "貸款金額_log    0\n",
       "dtype: int64"
      ]
     },
     "execution_count": 23,
     "metadata": {},
     "output_type": "execute_result"
    }
   ],
   "source": [
    "#Checking if any null values is present or not\n",
    "df.isnull().sum()"
   ]
  },
  {
   "cell_type": "code",
   "execution_count": 24,
   "metadata": {},
   "outputs": [
    {
     "data": {
      "text/plain": [
       "Index(['客戶ID', '年齡', '性別', '婚姻狀況', '教育程度', '職業', '年收入', '貸款金額', '還款期限', '信用狀態',\n",
       "       '貸款批准', '年收入_log', '貸款金額_log'],\n",
       "      dtype='object')"
      ]
     },
     "execution_count": 24,
     "metadata": {},
     "output_type": "execute_result"
    }
   ],
   "source": [
    "df.columns"
   ]
  },
  {
   "cell_type": "markdown",
   "metadata": {},
   "source": [
    "### C） 選取過濾模型用資料集:選取之後要做成訓練集及測試集的特徵欄位及資料\n",
    "### 使用 loc函数 or iloc函数"
   ]
  },
  {
   "cell_type": "markdown",
   "metadata": {},
   "source": [
    "### np.r_是水平連接矩陣欄位\n",
    "### np.c_是垂直連接矩陣欄位"
   ]
  },
  {
   "cell_type": "code",
   "execution_count": 25,
   "metadata": {},
   "outputs": [
    {
     "data": {
      "text/plain": [
       "array([ 1,  2,  3,  4,  5,  8,  9, 11, 12])"
      ]
     },
     "execution_count": 25,
     "metadata": {},
     "output_type": "execute_result"
    }
   ],
   "source": [
    "#預備抓取那些特挣資料欄位 當作 X train data?\n",
    "np.r_[1:6,8:10,11:13]"
   ]
  },
  {
   "cell_type": "markdown",
   "metadata": {},
   "source": [
    "### 抓取特徵欄位及其資料"
   ]
  },
  {
   "cell_type": "code",
   "execution_count": 26,
   "metadata": {},
   "outputs": [
    {
     "data": {
      "text/plain": [
       "Index(['客戶ID', '年齡', '性別', '婚姻狀況', '教育程度', '職業', '年收入', '貸款金額', '還款期限', '信用狀態',\n",
       "       '貸款批准', '年收入_log', '貸款金額_log'],\n",
       "      dtype='object')"
      ]
     },
     "execution_count": 26,
     "metadata": {},
     "output_type": "execute_result"
    }
   ],
   "source": [
    "df.columns"
   ]
  },
  {
   "cell_type": "code",
   "execution_count": 27,
   "metadata": {},
   "outputs": [
    {
     "name": "stdout",
     "output_type": "stream",
     "text": [
      "[35 '男' '已婚' '研究所' '醫生' 1.0 90.0 6.684611727667927 4.605170185988092]\n"
     ]
    }
   ],
   "source": [
    "x=df.iloc[:,np.r_[1:6,8:10,11:13]].values\n",
    "print(x[0])"
   ]
  },
  {
   "cell_type": "code",
   "execution_count": 28,
   "metadata": {},
   "outputs": [
    {
     "data": {
      "text/plain": [
       "array(['是', '否', '是', '否', '是', '否', '是', '是', '否', '否', '否', '是', '否',\n",
       "       '是', '否', '是', '是', '是', '否', '是', '是', '否', '是', '是', '否', '是',\n",
       "       '否', '是', '是', '否', '是', '是', '是', '是', '否', '是', '是', '是', '是',\n",
       "       '否', '是', '是', '是', '是', '是', '是', '是', '是', '是', '否', '是', '否',\n",
       "       '否', '是', '是', '否', '是', '否', '是', '是', '是', '否', '是', '否', '是',\n",
       "       '是', '否', '是', '否', '是', '否', '是', '是', '否', '是', '是', '是', '是',\n",
       "       '是', '否', '是', '是', '否', '是', '是', '是', '是', '否', '是', '是', '是',\n",
       "       '是', '否', '是', '是', '否', '是', '是', '否', '是', '否', '是', '是', '是',\n",
       "       '是', '否', '是', '是', '否', '是', '是', '是', '否', '是', '否', '否', '是',\n",
       "       '是', '否', '是', '是', '否', '否', '是', '是', '是', '是', '否', '是', '否',\n",
       "       '是', '是', '否', '否', '是', '是', '是', '否', '是', '是', '否', '否', '是',\n",
       "       '否', '是', '是', '是', '是', '否', '是', '是', '是', '否', '是', '是', '否',\n",
       "       '是', '是', '是', '是', '否', '是', '是', '否', '是', '是', '是', '是', '是',\n",
       "       '是', '是', '是', '是', '否', '是', '是', '否', '是', '是', '否', '否', '是',\n",
       "       '是', '是', '是', '是', '是', '是', '是', '否', '是', '是', '否', '是', '是',\n",
       "       '否', '否', '是', '否', '是', '是', '否', '否', '是'], dtype=object)"
      ]
     },
     "execution_count": 28,
     "metadata": {},
     "output_type": "execute_result"
    }
   ],
   "source": [
    "y=df.iloc[:,10].values\n",
    "y"
   ]
  },
  {
   "cell_type": "markdown",
   "metadata": {},
   "source": [
    "### D）資料轉換:將類別 (categorical)或是文字(text)的資料轉換成數字\n",
    "### 做法: Label encoding"
   ]
  },
  {
   "cell_type": "markdown",
   "metadata": {},
   "source": [
    "### 執行資料轉換:將欄位內類別 (categorical)或是文字(text)的資料轉換成數字"
   ]
  },
  {
   "cell_type": "code",
   "execution_count": 29,
   "metadata": {},
   "outputs": [],
   "source": [
    "Labelencoder_x=LabelEncoder()\n",
    "Labelencoder_y=LabelEncoder()"
   ]
  },
  {
   "cell_type": "code",
   "execution_count": 31,
   "metadata": {},
   "outputs": [
    {
     "name": "stdout",
     "output_type": "stream",
     "text": [
      "[35 '男' '已婚' '研究所' '醫生' 1.0 90.0 6.684611727667927 4.605170185988092]\n",
      "[28 '女' '未婚' '大學' '受雇職員' 2.0 75.0 3.912023005428146 4.382026634673881]\n",
      "[42 '男' '已婚' '高中' '自營老闆' 5.0 80.0 7.090076835776092 5.298317366548036]\n",
      "[30 '男' '未婚' '大學' '工程師' 3.0 85.0 4.0943445622221 5.19295685089021]\n",
      "[50 '女' '已婚' '研究所' '教師' 5.0 95.0 4.605170185988092 4.605170185988092]\n",
      "[25 '男' '未婚' '高中' '受雇職員' 2.0 70.0 3.6888794541139363 4.941642422609304]\n",
      "[38 '女' '已婚' '大學' '公務員' 4.0 85.0 4.248495242049359 4.605170185988092]\n",
      "[45 '男' '已婚' '大學' '自營老闆' 3.0 90.0 5.521460917862246 4.787491742782046]\n",
      "[29 '女' '未婚' '研究所' '醫生' 2.0 80.0 5.298317366548036 5.966146739123692]\n",
      "[33 '男' '已婚' '大學' '受雇職員' 2.0 75.0 4.007333185232471 4.553876891600541]\n",
      "[28 '女' '未婚' '大學' '教師' 1.0 70.0 3.912023005428146 4.605170185988092]\n",
      "[32 '男' '已婚' '大學' '工程師' 2.0 85.0 4.31748811353631 3.912023005428146]\n",
      "[45 '女' '離婚' '高中' '受雇職員' 1.0 60.0 3.6888794541139363 3.912023005428146]\n",
      "[39 '男' '已婚' '研究所' '律師' 5.0 95.0 4.787491742782046 5.0106352940962555]\n",
      "[26 '男' '未婚' '大學' '受雇職員' 1.0 50.0 3.5553480614894135 4.248495242049359]\n",
      "[33 '女' '已婚' '研究所' '教師' 3.0 80.0 4.499809670330265 4.941642422609304]\n",
      "[51 '女' '已婚' '大學' '受雇職員' 1.0 75.0 4.0943445622221 3.912023005428146]\n",
      "[44 '男' '已婚' '高中' '自營老闆' 2.0 90.0 6.684611727667927 5.393627546352362]\n",
      "[29 '女' '未婚' '大學' '受雇職員' 1.0 65.0 3.6888794541139363 4.0943445622221]\n",
      "[37 '男' '已婚' '大學' '教師' 3.0 70.0 4.007333185232471 4.442651256490317]\n",
      "[48 '男' '已婚' '研究所' '醫生' 5.0 95.0 5.19295685089021 5.19295685089021]\n",
      "[25 '女' '未婚' '高中' '受雇職員' 1.0 55.0 3.4011973816621555 3.912023005428146]\n",
      "[42 '女' '已婚' '大學' '公務員' 2.0 85.0 4.174387269895637 4.442651256490317]\n",
      "[31 '男' '未婚' '大學' '工程師' 3.0 80.0 4.248495242049359 4.787491742782046]\n",
      "[35 '女' '已婚' '高中' '受雇職員' 1.0 70.0 3.8066624897703196 4.605170185988092]\n",
      "[40 '男' '已婚' '大學' '自營老闆' 5.0 90.0 5.272999558563747 5.0106352940962555]\n",
      "[27 '男' '未婚' '大學' '受雇職員' 2.0 60.0 3.6375861597263857 4.382026634673881]\n",
      "[43 '女' '已婚' '研究所' '律師' 4.0 95.0 4.787491742782046 5.075173815233827]\n",
      "[38 '女' '已婚' '研究所' '律師' 5.0 71.0 4.382026634673881 5.0106352940962555]\n",
      "[27 '男' '未婚' '大學' '受雇職員' 3.0 63.0 3.6888794541139363 4.605170185988092]\n",
      "[45 '女' '已婚' '高中' '自營老闆' 10.0 80.0 5.393627546352362 6.684611727667927]\n",
      "[32 '男' '已婚' '研究所' '教師' 3.0 72.0 4.0943445622221 4.605170185988092]\n",
      "[48 '女' '已婚' '大學' '受雇職員' 5.0 67.0 4.499809670330265 4.867534450455582]\n",
      "[55 '男' '離婚' '高中' '自營老闆' 10.0 75.0 5.0106352940962555 6.214608098422191]\n",
      "[23 '女' '未婚' '高中' '醫生' 2.0 66.0 5.0106352940962555 5.703782474656201]\n",
      "[39 '男' '已婚' '研究所' '工程師' 5.0 78.0 5.298317366548036 5.991464547107982]\n",
      "[50 '男' '已婚' '研究所' '公務員' 7.0 79.0 4.700480365792417 5.298317366548036]\n",
      "[31 '女' '未婚' '大學' '受雇職員' 3.0 70.0 4.007333185232471 4.605170185988092]\n",
      "[43 '女' '已婚' '研究所' '教師' 10.0 74.0 4.553876891600541 5.703782474656201]\n",
      "[28 '男' '未婚' '大學' '受雇職員' 3.0 62.0 3.8066624897703196 4.787491742782046]\n",
      "[47 '女' '已婚' '高中' '自營老闆' 10.0 77.0 4.867534450455582 5.991464547107982]\n",
      "[29 '男' '未婚' '研究所' '工程師' 4.0 71.0 4.0943445622221 5.0106352940962555]\n",
      "[42 '男' '已婚' '大學' '受雇職員' 5.0 75.0 4.499809670330265 5.298317366548036]\n",
      "[36 '女' '已婚' '高中' '自營老闆' 5.0 68.0 5.135798437050262 5.703782474656201]\n",
      "[35 '男' '已婚' '大學' '受雇職員' 5.0 85.0 4.0943445622221 5.521460917862246]\n",
      "[45 '女' '已婚' '研究所' '醫生' 7.0 95.0 4.787491742782046 5.857933154483459]\n",
      "[28 '男' '未婚' '高中' '自營老闆' 3.0 75.0 5.0106352940962555 5.0106352940962555]\n",
      "[55 '女' '已婚' '大學' '教師' 4.0 80.0 4.382026634673881 5.298317366548036]\n",
      "[30 '男' '未婚' '研究所' '工程師' 6.0 90.0 4.605170185988092 5.703782474656201]\n",
      "[42 '男' '已婚' '高中' '受雇職員' 2.0 65.0 4.382026634673881 4.605170185988092]\n",
      "[37 '女' '已婚' '研究所' '律師' 5.0 95.0 5.0106352940962555 5.991464547107982]\n",
      "[26 '女' '未婚' '大學' '工程師' 3.0 70.0 4.0943445622221 4.787491742782046]\n",
      "[50 '男' '已婚' '高中' '受雇職員' 4.0 75.0 4.248495242049359 5.0106352940962555]\n",
      "[33 '女' '已婚' '大學' '公務員' 5.0 80.0 4.499809670330265 5.521460917862246]\n",
      "[48 '男' '已婚' '研究所' '醫生' 7.0 100.0 5.298317366548036 5.991464547107982]\n",
      "[29 '女' '未婚' '高中' '自營老闆' 2.0 60.0 3.912023005428146 4.382026634673881]\n",
      "[40 '男' '已婚' '大學' '受雇職員' 6.0 90.0 4.605170185988092 5.703782474656201]\n",
      "[25 '女' '未婚' '高中' '工程師' 3.0 70.0 4.248495242049359 4.605170185988092]\n",
      "[43 '女' '已婚' '研究所' '律師' 5.0 95.0 4.787491742782046 5.857933154483459]\n",
      "[31 '男' '未婚' '大學' '公務員' 4.0 80.0 4.382026634673881 5.298317366548036]\n",
      "[54 '男' '已婚' '研究所' '教師' 7.0 98.0 5.0106352940962555 6.1092475827643655]\n",
      "[36 '女' '已婚' '高中' '受雇職員' 3.0 70.0 4.248495242049359 4.787491742782046]\n",
      "[47 '男' '已婚' '大學' '醫生' 6.0 92.0 5.19295685089021 5.703782474656201]\n",
      "[27 '女' '未婚' '研究所' '工程師' 4.0 80.0 4.382026634673881 5.0106352940962555]\n",
      "[32 '女' '已婚' '大學' '公務員' 3.0 86.0 4.174387269895637 5.19295685089021]\n",
      "[41 '男' '已婚' '研究所' '律師' 7.0 94.0 5.19295685089021 5.857933154483459]\n",
      "[25 '女' '未婚' '高中' '受雇職員' 2.0 78.0 3.4011973816621555 3.912023005428146]\n",
      "[48 '男' '已婚' '大學' '教師' 5.0 84.0 4.382026634673881 5.0106352940962555]\n",
      "[29 '女' '未婚' '大學' '受雇職員' 3.0 72.0 4.007333185232471 4.499809670330265]\n",
      "[37 '男' '已婚' '高中' '自營老闆' 7.0 89.0 5.0106352940962555 5.703782474656201]\n",
      "[24 '女' '未婚' '高中' '受雇職員' 1.0 65.0 3.2188758248682006 3.4011973816621555]\n",
      "[42 '女' '已婚' '大學' '公務員' 5.0 92.0 4.442651256490317 5.298317366548036]\n",
      "[55 '男' '已婚' '研究所' '醫生' 7.0 97.0 5.521460917862246 5.991464547107982]\n",
      "[27 '女' '未婚' '大學' '受雇職員' 3.0 75.0 3.6888794541139363 4.382026634673881]\n",
      "[33 '女' '已婚' '高中' '受雇職員' 4.0 80.0 3.912023005428146 4.787491742782046]\n",
      "[47 '男' '已婚' '大學' '公務員' 5.0 87.0 4.499809670330265 5.19295685089021]\n",
      "[39 '女' '已婚' '高中' '自營老闆' 6.0 91.0 4.787491742782046 5.521460917862246]\n",
      "[31 '男' '未婚' '研究所' '工程師' 4.0 82.0 4.31748811353631 4.867534450455582]\n",
      "[43 '女' '已婚' '大學' '公務員' 5.0 88.0 4.553876891600541 5.298317366548036]\n",
      "[28 '男' '未婚' '高中' '受雇職員' 2.0 70.0 3.5553480614894135 4.0943445622221]\n",
      "[36 '女' '已婚' '大學' '公務員' 4.0 83.0 4.248495242049359 5.0106352940962555]\n",
      "[52 '男' '已婚' '研究所' '醫生' 7.0 95.0 5.298317366548036 5.857933154483459]\n",
      "[26 '男' '未婚' '大學' '受雇職員' 3.0 76.0 3.8066624897703196 4.248495242049359]\n",
      "[38 '女' '已婚' '高中' '自營老闆' 6.0 90.0 4.605170185988092 5.393627546352362]\n",
      "[32 '女' '已婚' '研究所' '工程師' 3.0 87.0 4.499809670330265 5.703782474656201]\n",
      "[48 '男' '已婚' '研究所' '公務員' 5.0 92.0 4.0943445622221 3.912023005428146]\n",
      "[25 '女' '未婚' '高中' '受雇職員' 2.0 80.0 3.4011973816621555 4.605170185988092]\n",
      "[40 '男' '離婚' '大學' '自營老闆' 4.0 78.0 5.298317366548036 5.0106352940962555]\n",
      "[28 '男' '已婚' '大學' '律師' 3.0 92.0 4.382026634673881 5.298317366548036]\n",
      "[35 '女' '已婚' '高中' '受雇職員' 2.0 80.0 4.605170185988092 4.382026634673881]\n",
      "[27 '男' '未婚' '研究所' '教師' 5.0 85.0 3.912023005428146 4.787491742782046]\n",
      "[42 '女' '已婚' '研究所' '醫生' 4.0 95.0 4.787491742782046 5.991464547107982]\n",
      "[37 '女' '已婚' '大學' '受雇職員' 1.0 80.0 4.248495242049359 3.912023005428146]\n",
      "[45 '男' '已婚' '研究所' '軍人' 5.0 87.0 4.382026634673881 5.703782474656201]\n",
      "[55 '男' '已婚' '高中' '自營老闆' 3.0 72.0 6.214608098422191 5.298317366548036]\n",
      "[33 '男' '離婚' '大學' '工程師' 2.0 90.0 4.605170185988092 4.382026634673881]\n",
      "[29 '男' '未婚' '大學' '受雇職員' 4.0 83.0 4.382026634673881 5.0106352940962555]\n",
      "[31 '女' '已婚' '研究所' '醫生' 3.0 97.0 5.0106352940962555 5.298317366548036]\n",
      "[38 '男' '已婚' '研究所' '教師' 1.0 70.0 4.382026634673881 3.912023005428146]\n",
      "[47 '女' '已婚' '高中' '受雇職員' 6.0 85.0 5.703782474656201 5.521460917862246]\n",
      "[26 '男' '未婚' '大學' '公務員' 2.0 80.0 3.6888794541139363 4.248495242049359]\n",
      "[43 '男' '已婚' '大學' '工程師' 5.0 93.0 5.19295685089021 5.991464547107982]\n",
      "[34 '男' '已婚' '高中' '自營老闆' 4.0 80.0 4.787491742782046 5.0106352940962555]\n",
      "[30 '女' '未婚' '研究所' '醫生' 2.0 80.0 4.382026634673881 4.605170185988092]\n",
      "[38 '男' '已婚' '大學' '自營老闆' 3.0 89.0 5.0106352940962555 4.382026634673881]\n",
      "[24 '女' '未婚' '高中' '受雇職員' 5.0 70.0 4.0943445622221 3.4011973816621555]\n",
      "[32 '女' '已婚' '研究所' '教師' 4.0 94.0 4.382026634673881 3.912023005428146]\n",
      "[47 '男' '已婚' '大學' '軍人' 6.0 76.0 4.787491742782046 4.499809670330265]\n",
      "[55 '男' '已婚' '大學' '受雇職員' 2.0 82.0 5.480638923341991 3.6888794541139363]\n",
      "[29 '女' '未婚' '研究所' '律師' 7.0 68.0 4.605170185988092 4.787491742782046]\n",
      "[33 '男' '已婚' '大學' '自營老闆' 3.0 95.0 4.382026634673881 3.912023005428146]\n",
      "[42 '男' '已婚' '大學' '工程師' 5.0 80.0 5.298317366548036 5.703782474656201]\n",
      "[26 '女' '未婚' '高中' '受雇職員' 1.0 70.0 4.0943445622221 2.995732273553991]\n",
      "[39 '男' '已婚' '大學' '自營老闆' 7.0 85.0 5.0106352940962555 5.0106352940962555]\n",
      "[41 '女' '已婚' '研究所' '醫生' 2.0 80.0 5.19295685089021 4.382026634673881]\n",
      "[28 '男' '未婚' '高中' '受雇職員' 4.0 75.0 3.912023005428146 2.302585092994046]\n",
      "[35 '男' '已婚' '大學' '自營老闆' 6.0 92.0 4.382026634673881 4.248495242049359]\n",
      "[44 '男' '已婚' '大學' '教師' 7.0 78.0 5.075173815233827 5.298317366548036]\n",
      "[37 '女' '未婚' '大學' '自營老闆' 2.0 80.0 4.787491742782046 3.4011973816621555]\n",
      "[30 '女' '已婚' '研究所' '公務員' 2.0 85.0 4.382026634673881 3.912023005428146]\n",
      "[45 '男' '已婚' '大學' '自營老闆' 6.0 90.0 5.298317366548036 5.521460917862246]\n",
      "[27 '女' '未婚' '高中' '受雇職員' 1.0 80.0 3.6888794541139363 1.6094379124341003]\n",
      "[50 '男' '已婚' '研究所' '醫生' 4.0 72.0 5.521460917862246 5.19295685089021]\n",
      "[34 '男' '已婚' '大學' '自營老闆' 3.0 88.0 4.605170185988092 3.912023005428146]\n",
      "[32 '女' '未婚' '大學' '自營老闆' 5.0 87.0 4.219507705176107 3.7612001156935624]\n",
      "[47 '男' '已婚' '高中' '受雇職員' 3.0 75.0 3.828641396489095 3.367295829986474]\n",
      "[55 '男' '已婚' '大學' '教師' 6.0 95.0 4.356708826689592 4.02535169073515]\n",
      "[23 '女' '未婚' '大學' '自營老闆' 4.0 90.0 4.406719247264253 3.6888794541139363]\n",
      "[48 '女' '離婚' '研究所' '醫生' 5.0 97.0 4.532599493153256 4.0943445622221]\n",
      "[30 '男' '未婚' '高中' '軍人' 2.0 68.0 3.912023005428146 2.8903717578961645]\n",
      "[39 '男' '已婚' '高中' '受雇職員' 3.0 80.0 4.174387269895637 3.6375861597263857]\n",
      "[27 '女' '未婚' '大學' '自營老闆' 4.0 84.0 4.356708826689592 3.912023005428146]\n",
      "[36 '女' '已婚' '高中' '受雇職員' 2.0 72.0 4.007333185232471 3.258096538021482]\n",
      "[43 '男' '已婚' '研究所' '醫生' 5.0 80.0 4.477336814478207 3.8066624897703196]\n",
      "[51 '女' '已婚' '高中' '受雇職員' 3.0 89.0 4.276666119016055 3.5263605246161616]\n",
      "[28 '男' '未婚' '研究所' '律師' 4.0 92.0 4.442651256490317 3.871201010907891]\n",
      "[29 '男' '未婚' '大學' '自營老闆' 5.0 98.0 4.553876891600541 4.04305126783455]\n",
      "[45 '女' '已婚' '高中' '受雇職員' 2.0 77.0 4.0943445622221 3.912023005428146]\n",
      "[37 '男' '已婚' '研究所' '工程師' 4.0 85.0 4.248495242049359 3.6888794541139363]\n",
      "[44 '女' '已婚' '研究所' '醫生' 5.0 96.0 4.499809670330265 3.9318256327243257]\n",
      "[31 '男' '未婚' '高中' '軍人' 3.0 71.0 3.970291913552122 3.1780538303479458]\n",
      "[33 '男' '未婚' '大學' '公務員' 2.0 80.0 4.127134385045092 3.4011973816621555]\n",
      "[40 '女' '已婚' '大學' '自營老闆' 3.0 82.0 4.382026634673881 3.5553480614894135]\n",
      "[25 '男' '未婚' '高中' '軍人' 2.0 65.0 3.8501476017100584 2.995732273553991]\n",
      "[46 '男' '已婚' '研究所' '律師' 4.0 89.0 4.31748811353631 3.8066624897703196]\n",
      "[28 '男' '未婚' '大學' '自營老闆' 3.0 76.0 5.298317366548036 3.912023005428146]\n",
      "[35 '女' '已婚' '研究所' '受雇職員' 2.0 92.0 4.382026634673881 2.995732273553991]\n",
      "[48 '男' '已婚' '高中' '公務員' 5.0 84.0 4.605170185988092 3.4011973816621555]\n",
      "[25 '女' '未婚' '高中' '教師' 2.0 65.0 4.0943445622221 2.70805020110221]\n",
      "[40 '男' '已婚' '研究所' '自營老闆' 5.0 89.0 5.703782474656201 4.382026634673881]\n"
     ]
    }
   ],
   "source": [
    "for i in range(0,150):\n",
    "    print(x[i])"
   ]
  },
  {
   "cell_type": "code",
   "execution_count": null,
   "metadata": {},
   "outputs": [],
   "source": []
  },
  {
   "cell_type": "code",
   "execution_count": 32,
   "metadata": {},
   "outputs": [
    {
     "data": {
      "text/plain": [
       "array(['女', '男'], dtype=object)"
      ]
     },
     "execution_count": 32,
     "metadata": {},
     "output_type": "execute_result"
    }
   ],
   "source": [
    "data_1=Labelencoder_x.fit(x[:,1])\n",
    "data_1.classes_"
   ]
  },
  {
   "cell_type": "code",
   "execution_count": 33,
   "metadata": {},
   "outputs": [
    {
     "data": {
      "text/plain": [
       "array(['已婚', '未婚', '離婚'], dtype=object)"
      ]
     },
     "execution_count": 33,
     "metadata": {},
     "output_type": "execute_result"
    }
   ],
   "source": [
    "data_2=Labelencoder_x.fit(x[:,2])\n",
    "data_2.classes_"
   ]
  },
  {
   "cell_type": "code",
   "execution_count": 34,
   "metadata": {},
   "outputs": [
    {
     "data": {
      "text/plain": [
       "array(['大學', '研究所', '高中'], dtype=object)"
      ]
     },
     "execution_count": 34,
     "metadata": {},
     "output_type": "execute_result"
    }
   ],
   "source": [
    "data_3=Labelencoder_x.fit(x[:,3])\n",
    "data_3.classes_"
   ]
  },
  {
   "cell_type": "code",
   "execution_count": 35,
   "metadata": {},
   "outputs": [
    {
     "data": {
      "text/plain": [
       "array(['公務員', '受雇職員', '工程師', '律師', '教師', '自營老闆', '軍人', '醫生'], dtype=object)"
      ]
     },
     "execution_count": 35,
     "metadata": {},
     "output_type": "execute_result"
    }
   ],
   "source": [
    "data_4=Labelencoder_x.fit(x[:,4])\n",
    "data_4.classes_"
   ]
  },
  {
   "cell_type": "code",
   "execution_count": 36,
   "metadata": {},
   "outputs": [
    {
     "name": "stdout",
     "output_type": "stream",
     "text": [
      "[35 '男' '已婚' '研究所' '醫生' 1.0 90.0 6.684611727667927 4.605170185988092]\n"
     ]
    }
   ],
   "source": [
    "print(x[0])"
   ]
  },
  {
   "cell_type": "code",
   "execution_count": 37,
   "metadata": {},
   "outputs": [
    {
     "name": "stdout",
     "output_type": "stream",
     "text": [
      "[35 1 0 1 7 1.0 90.0 6.684611727667927 4.605170185988092]\n"
     ]
    }
   ],
   "source": [
    "for i in range(1,5):\n",
    "    x[:,i]=Labelencoder_x.fit_transform(x[:,i])\n",
    "print(x[0])"
   ]
  },
  {
   "cell_type": "code",
   "execution_count": 38,
   "metadata": {},
   "outputs": [
    {
     "name": "stdout",
     "output_type": "stream",
     "text": [
      "['是' '否' '是' '否' '是' '否' '是' '是' '否' '否' '否' '是' '否' '是' '否' '是' '是' '是'\n",
      " '否' '是' '是' '否' '是' '是' '否' '是' '否' '是' '是' '否' '是' '是' '是' '是' '否' '是'\n",
      " '是' '是' '是' '否' '是' '是' '是' '是' '是' '是' '是' '是' '是' '否' '是' '否' '否' '是'\n",
      " '是' '否' '是' '否' '是' '是' '是' '否' '是' '否' '是' '是' '否' '是' '否' '是' '否' '是'\n",
      " '是' '否' '是' '是' '是' '是' '是' '否' '是' '是' '否' '是' '是' '是' '是' '否' '是' '是'\n",
      " '是' '是' '否' '是' '是' '否' '是' '是' '否' '是' '否' '是' '是' '是' '是' '否' '是' '是'\n",
      " '否' '是' '是' '是' '否' '是' '否' '否' '是' '是' '否' '是' '是' '否' '否' '是' '是' '是'\n",
      " '是' '否' '是' '否' '是' '是' '否' '否' '是' '是' '是' '否' '是' '是' '否' '否' '是' '否'\n",
      " '是' '是' '是' '是' '否' '是' '是' '是' '否' '是' '是' '否' '是' '是' '是' '是' '否' '是'\n",
      " '是' '否' '是' '是' '是' '是' '是' '是' '是' '是' '是' '否' '是' '是' '否' '是' '是' '否'\n",
      " '否' '是' '是' '是' '是' '是' '是' '是' '是' '否' '是' '是' '否' '是' '是' '否' '否' '是'\n",
      " '否' '是' '是' '否' '否' '是']\n",
      "[1 0 1 0 1 0 1 1 0 0 0 1 0 1 0 1 1 1 0 1 1 0 1 1 0 1 0 1 1 0 1 1 1 1 0 1 1\n",
      " 1 1 0 1 1 1 1 1 1 1 1 1 0 1 0 0 1 1 0 1 0 1 1 1 0 1 0 1 1 0 1 0 1 0 1 1 0\n",
      " 1 1 1 1 1 0 1 1 0 1 1 1 1 0 1 1 1 1 0 1 1 0 1 1 0 1 0 1 1 1 1 0 1 1 0 1 1\n",
      " 1 0 1 0 0 1 1 0 1 1 0 0 1 1 1 1 0 1 0 1 1 0 0 1 1 1 0 1 1 0 0 1 0 1 1 1 1\n",
      " 0 1 1 1 0 1 1 0 1 1 1 1 0 1 1 0 1 1 1 1 1 1 1 1 1 0 1 1 0 1 1 0 0 1 1 1 1\n",
      " 1 1 1 1 0 1 1 0 1 1 0 0 1 0 1 1 0 0 1]\n"
     ]
    }
   ],
   "source": [
    "print(y)\n",
    "y=Labelencoder_y.fit_transform(y)\n",
    "print(y)"
   ]
  },
  {
   "cell_type": "markdown",
   "metadata": {},
   "source": [
    "### E）資料調節與標準化:將特徵值進行調節,將值縮放到一定的範圍,如0~1之間\n",
    "### 作法1: Standardization 平均&變異數標準化\n",
    "#### 將所有特徵標準化，也就是高斯分佈。使得數據的平均值為0，變異數(方差)為1。\n",
    "#### 變異數（英語：variance）又稱方差、變方，描述的是一個隨機變數的離散程度，即一組數字與其平均值之間的距離的度量"
   ]
  },
  {
   "cell_type": "markdown",
   "metadata": {},
   "source": [
    "## Step5: 執行切割訓練集與測試集"
   ]
  },
  {
   "cell_type": "code",
   "execution_count": 39,
   "metadata": {},
   "outputs": [],
   "source": [
    "X_train,X_test,y_train,y_test=train_test_split(x,y,test_size=0.2,random_state=0)\n"
   ]
  },
  {
   "cell_type": "markdown",
   "metadata": {},
   "source": [
    "### 執行 Standardization 平均&變異數 資料調節與標準化"
   ]
  },
  {
   "cell_type": "code",
   "execution_count": 40,
   "metadata": {},
   "outputs": [],
   "source": [
    "from sklearn.preprocessing import StandardScaler\n",
    "ss=StandardScaler()\n",
    "X_train=ss.fit_transform(X_train)\n",
    "X_test=ss.fit_transform(X_test)"
   ]
  },
  {
   "cell_type": "code",
   "execution_count": 41,
   "metadata": {},
   "outputs": [
    {
     "name": "stdout",
     "output_type": "stream",
     "text": [
      "[-0.2681467   0.86757603 -0.70746337 -1.07635277  0.80066701  1.23146301\n",
      "  1.12574625 -0.473358   -0.23332055]\n"
     ]
    }
   ],
   "source": [
    "print(X_train[0])"
   ]
  },
  {
   "cell_type": "markdown",
   "metadata": {},
   "source": [
    "## Step6: 進行各類sklearn ML模型建模,訓練與測試與模型驗證評估\n",
    "## A. ML模型建模:\n",
    "### 1.ML Model: naive_bayes\n",
    "#### from sklearn.naive_bayes import GaussianNB\n",
    "### 2.ML Model: K Neighbors Classification\n",
    "#### from sklearn.neighbors import KNeighborsClassifier\n",
    "### 3.ML Model: Decision Tree Classification\n",
    "#### from sklearn.tree import DecisionTreeClassifier\n",
    "### 4.ML Model: Random Forest Classification\n",
    "#### from sklearn.ensemble import RandomForestClassifier\n",
    "## B. 模型驗證評估:\n",
    "### sklearn.metrics 提供的評估方法:\n",
    "\n",
    "### 3.confusion_matrix\n",
    "#### 語法：\n",
    "#### sklearn.metrics.confusion_matrix(y_true, y_pred, labels=None, sample_weight=None)\n",
    "#### 返回一个混淆矩阵；"
   ]
  },
  {
   "cell_type": "markdown",
   "metadata": {},
   "source": [
    "### 1.ML Model: naive_bayes"
   ]
  },
  {
   "cell_type": "code",
   "execution_count": 42,
   "metadata": {},
   "outputs": [
    {
     "data": {
      "text/html": [
       "<style>#sk-container-id-1 {color: black;}#sk-container-id-1 pre{padding: 0;}#sk-container-id-1 div.sk-toggleable {background-color: white;}#sk-container-id-1 label.sk-toggleable__label {cursor: pointer;display: block;width: 100%;margin-bottom: 0;padding: 0.3em;box-sizing: border-box;text-align: center;}#sk-container-id-1 label.sk-toggleable__label-arrow:before {content: \"▸\";float: left;margin-right: 0.25em;color: #696969;}#sk-container-id-1 label.sk-toggleable__label-arrow:hover:before {color: black;}#sk-container-id-1 div.sk-estimator:hover label.sk-toggleable__label-arrow:before {color: black;}#sk-container-id-1 div.sk-toggleable__content {max-height: 0;max-width: 0;overflow: hidden;text-align: left;background-color: #f0f8ff;}#sk-container-id-1 div.sk-toggleable__content pre {margin: 0.2em;color: black;border-radius: 0.25em;background-color: #f0f8ff;}#sk-container-id-1 input.sk-toggleable__control:checked~div.sk-toggleable__content {max-height: 200px;max-width: 100%;overflow: auto;}#sk-container-id-1 input.sk-toggleable__control:checked~label.sk-toggleable__label-arrow:before {content: \"▾\";}#sk-container-id-1 div.sk-estimator input.sk-toggleable__control:checked~label.sk-toggleable__label {background-color: #d4ebff;}#sk-container-id-1 div.sk-label input.sk-toggleable__control:checked~label.sk-toggleable__label {background-color: #d4ebff;}#sk-container-id-1 input.sk-hidden--visually {border: 0;clip: rect(1px 1px 1px 1px);clip: rect(1px, 1px, 1px, 1px);height: 1px;margin: -1px;overflow: hidden;padding: 0;position: absolute;width: 1px;}#sk-container-id-1 div.sk-estimator {font-family: monospace;background-color: #f0f8ff;border: 1px dotted black;border-radius: 0.25em;box-sizing: border-box;margin-bottom: 0.5em;}#sk-container-id-1 div.sk-estimator:hover {background-color: #d4ebff;}#sk-container-id-1 div.sk-parallel-item::after {content: \"\";width: 100%;border-bottom: 1px solid gray;flex-grow: 1;}#sk-container-id-1 div.sk-label:hover label.sk-toggleable__label {background-color: #d4ebff;}#sk-container-id-1 div.sk-serial::before {content: \"\";position: absolute;border-left: 1px solid gray;box-sizing: border-box;top: 0;bottom: 0;left: 50%;z-index: 0;}#sk-container-id-1 div.sk-serial {display: flex;flex-direction: column;align-items: center;background-color: white;padding-right: 0.2em;padding-left: 0.2em;position: relative;}#sk-container-id-1 div.sk-item {position: relative;z-index: 1;}#sk-container-id-1 div.sk-parallel {display: flex;align-items: stretch;justify-content: center;background-color: white;position: relative;}#sk-container-id-1 div.sk-item::before, #sk-container-id-1 div.sk-parallel-item::before {content: \"\";position: absolute;border-left: 1px solid gray;box-sizing: border-box;top: 0;bottom: 0;left: 50%;z-index: -1;}#sk-container-id-1 div.sk-parallel-item {display: flex;flex-direction: column;z-index: 1;position: relative;background-color: white;}#sk-container-id-1 div.sk-parallel-item:first-child::after {align-self: flex-end;width: 50%;}#sk-container-id-1 div.sk-parallel-item:last-child::after {align-self: flex-start;width: 50%;}#sk-container-id-1 div.sk-parallel-item:only-child::after {width: 0;}#sk-container-id-1 div.sk-dashed-wrapped {border: 1px dashed gray;margin: 0 0.4em 0.5em 0.4em;box-sizing: border-box;padding-bottom: 0.4em;background-color: white;}#sk-container-id-1 div.sk-label label {font-family: monospace;font-weight: bold;display: inline-block;line-height: 1.2em;}#sk-container-id-1 div.sk-label-container {text-align: center;}#sk-container-id-1 div.sk-container {/* jupyter's `normalize.less` sets `[hidden] { display: none; }` but bootstrap.min.css set `[hidden] { display: none !important; }` so we also need the `!important` here to be able to override the default hidden behavior on the sphinx rendered scikit-learn.org. See: https://github.com/scikit-learn/scikit-learn/issues/21755 */display: inline-block !important;position: relative;}#sk-container-id-1 div.sk-text-repr-fallback {display: none;}</style><div id=\"sk-container-id-1\" class=\"sk-top-container\"><div class=\"sk-text-repr-fallback\"><pre>GaussianNB()</pre><b>In a Jupyter environment, please rerun this cell to show the HTML representation or trust the notebook. <br />On GitHub, the HTML representation is unable to render, please try loading this page with nbviewer.org.</b></div><div class=\"sk-container\" hidden><div class=\"sk-item\"><div class=\"sk-estimator sk-toggleable\"><input class=\"sk-toggleable__control sk-hidden--visually\" id=\"sk-estimator-id-1\" type=\"checkbox\" checked><label for=\"sk-estimator-id-1\" class=\"sk-toggleable__label sk-toggleable__label-arrow\">GaussianNB</label><div class=\"sk-toggleable__content\"><pre>GaussianNB()</pre></div></div></div></div></div>"
      ],
      "text/plain": [
       "GaussianNB()"
      ]
     },
     "execution_count": 42,
     "metadata": {},
     "output_type": "execute_result"
    }
   ],
   "source": [
    "from sklearn import metrics\n",
    "from sklearn.naive_bayes import GaussianNB\n",
    "clf=GaussianNB()\n",
    "clf.fit(X_train,y_train)"
   ]
  },
  {
   "cell_type": "code",
   "execution_count": 43,
   "metadata": {},
   "outputs": [
    {
     "name": "stdout",
     "output_type": "stream",
     "text": [
      "The naive_bayes accuracy score is  0.8536585365853658\n"
     ]
    }
   ],
   "source": [
    "y_pred=clf.predict(X_test)\n",
    "print(\"The naive_bayes accuracy score is \",metrics.accuracy_score(y_test,y_pred))"
   ]
  },
  {
   "cell_type": "markdown",
   "metadata": {},
   "source": [
    "### 2.ML Model: K Neighbors Classification"
   ]
  },
  {
   "cell_type": "code",
   "execution_count": 44,
   "metadata": {},
   "outputs": [
    {
     "data": {
      "text/html": [
       "<style>#sk-container-id-2 {color: black;}#sk-container-id-2 pre{padding: 0;}#sk-container-id-2 div.sk-toggleable {background-color: white;}#sk-container-id-2 label.sk-toggleable__label {cursor: pointer;display: block;width: 100%;margin-bottom: 0;padding: 0.3em;box-sizing: border-box;text-align: center;}#sk-container-id-2 label.sk-toggleable__label-arrow:before {content: \"▸\";float: left;margin-right: 0.25em;color: #696969;}#sk-container-id-2 label.sk-toggleable__label-arrow:hover:before {color: black;}#sk-container-id-2 div.sk-estimator:hover label.sk-toggleable__label-arrow:before {color: black;}#sk-container-id-2 div.sk-toggleable__content {max-height: 0;max-width: 0;overflow: hidden;text-align: left;background-color: #f0f8ff;}#sk-container-id-2 div.sk-toggleable__content pre {margin: 0.2em;color: black;border-radius: 0.25em;background-color: #f0f8ff;}#sk-container-id-2 input.sk-toggleable__control:checked~div.sk-toggleable__content {max-height: 200px;max-width: 100%;overflow: auto;}#sk-container-id-2 input.sk-toggleable__control:checked~label.sk-toggleable__label-arrow:before {content: \"▾\";}#sk-container-id-2 div.sk-estimator input.sk-toggleable__control:checked~label.sk-toggleable__label {background-color: #d4ebff;}#sk-container-id-2 div.sk-label input.sk-toggleable__control:checked~label.sk-toggleable__label {background-color: #d4ebff;}#sk-container-id-2 input.sk-hidden--visually {border: 0;clip: rect(1px 1px 1px 1px);clip: rect(1px, 1px, 1px, 1px);height: 1px;margin: -1px;overflow: hidden;padding: 0;position: absolute;width: 1px;}#sk-container-id-2 div.sk-estimator {font-family: monospace;background-color: #f0f8ff;border: 1px dotted black;border-radius: 0.25em;box-sizing: border-box;margin-bottom: 0.5em;}#sk-container-id-2 div.sk-estimator:hover {background-color: #d4ebff;}#sk-container-id-2 div.sk-parallel-item::after {content: \"\";width: 100%;border-bottom: 1px solid gray;flex-grow: 1;}#sk-container-id-2 div.sk-label:hover label.sk-toggleable__label {background-color: #d4ebff;}#sk-container-id-2 div.sk-serial::before {content: \"\";position: absolute;border-left: 1px solid gray;box-sizing: border-box;top: 0;bottom: 0;left: 50%;z-index: 0;}#sk-container-id-2 div.sk-serial {display: flex;flex-direction: column;align-items: center;background-color: white;padding-right: 0.2em;padding-left: 0.2em;position: relative;}#sk-container-id-2 div.sk-item {position: relative;z-index: 1;}#sk-container-id-2 div.sk-parallel {display: flex;align-items: stretch;justify-content: center;background-color: white;position: relative;}#sk-container-id-2 div.sk-item::before, #sk-container-id-2 div.sk-parallel-item::before {content: \"\";position: absolute;border-left: 1px solid gray;box-sizing: border-box;top: 0;bottom: 0;left: 50%;z-index: -1;}#sk-container-id-2 div.sk-parallel-item {display: flex;flex-direction: column;z-index: 1;position: relative;background-color: white;}#sk-container-id-2 div.sk-parallel-item:first-child::after {align-self: flex-end;width: 50%;}#sk-container-id-2 div.sk-parallel-item:last-child::after {align-self: flex-start;width: 50%;}#sk-container-id-2 div.sk-parallel-item:only-child::after {width: 0;}#sk-container-id-2 div.sk-dashed-wrapped {border: 1px dashed gray;margin: 0 0.4em 0.5em 0.4em;box-sizing: border-box;padding-bottom: 0.4em;background-color: white;}#sk-container-id-2 div.sk-label label {font-family: monospace;font-weight: bold;display: inline-block;line-height: 1.2em;}#sk-container-id-2 div.sk-label-container {text-align: center;}#sk-container-id-2 div.sk-container {/* jupyter's `normalize.less` sets `[hidden] { display: none; }` but bootstrap.min.css set `[hidden] { display: none !important; }` so we also need the `!important` here to be able to override the default hidden behavior on the sphinx rendered scikit-learn.org. See: https://github.com/scikit-learn/scikit-learn/issues/21755 */display: inline-block !important;position: relative;}#sk-container-id-2 div.sk-text-repr-fallback {display: none;}</style><div id=\"sk-container-id-2\" class=\"sk-top-container\"><div class=\"sk-text-repr-fallback\"><pre>KNeighborsClassifier()</pre><b>In a Jupyter environment, please rerun this cell to show the HTML representation or trust the notebook. <br />On GitHub, the HTML representation is unable to render, please try loading this page with nbviewer.org.</b></div><div class=\"sk-container\" hidden><div class=\"sk-item\"><div class=\"sk-estimator sk-toggleable\"><input class=\"sk-toggleable__control sk-hidden--visually\" id=\"sk-estimator-id-2\" type=\"checkbox\" checked><label for=\"sk-estimator-id-2\" class=\"sk-toggleable__label sk-toggleable__label-arrow\">KNeighborsClassifier</label><div class=\"sk-toggleable__content\"><pre>KNeighborsClassifier()</pre></div></div></div></div></div>"
      ],
      "text/plain": [
       "KNeighborsClassifier()"
      ]
     },
     "execution_count": 44,
     "metadata": {},
     "output_type": "execute_result"
    }
   ],
   "source": [
    "from sklearn.neighbors import KNeighborsClassifier\n",
    "kn_clf=KNeighborsClassifier()\n",
    "kn_clf.fit(X_train,y_train)"
   ]
  },
  {
   "cell_type": "code",
   "execution_count": 45,
   "metadata": {},
   "outputs": [
    {
     "name": "stdout",
     "output_type": "stream",
     "text": [
      "Accroding to KneighborsClassifier the accuracy score is 0.8780487804878049\n"
     ]
    }
   ],
   "source": [
    "y_pred=kn_clf.predict(X_test)\n",
    "print(\"Accroding to KneighborsClassifier the accuracy score is\",metrics.accuracy_score(y_test,y_pred))"
   ]
  },
  {
   "cell_type": "markdown",
   "metadata": {},
   "source": [
    "### 3.ML Model: Decision Tree Classification"
   ]
  },
  {
   "cell_type": "code",
   "execution_count": 46,
   "metadata": {},
   "outputs": [
    {
     "data": {
      "text/html": [
       "<style>#sk-container-id-3 {color: black;}#sk-container-id-3 pre{padding: 0;}#sk-container-id-3 div.sk-toggleable {background-color: white;}#sk-container-id-3 label.sk-toggleable__label {cursor: pointer;display: block;width: 100%;margin-bottom: 0;padding: 0.3em;box-sizing: border-box;text-align: center;}#sk-container-id-3 label.sk-toggleable__label-arrow:before {content: \"▸\";float: left;margin-right: 0.25em;color: #696969;}#sk-container-id-3 label.sk-toggleable__label-arrow:hover:before {color: black;}#sk-container-id-3 div.sk-estimator:hover label.sk-toggleable__label-arrow:before {color: black;}#sk-container-id-3 div.sk-toggleable__content {max-height: 0;max-width: 0;overflow: hidden;text-align: left;background-color: #f0f8ff;}#sk-container-id-3 div.sk-toggleable__content pre {margin: 0.2em;color: black;border-radius: 0.25em;background-color: #f0f8ff;}#sk-container-id-3 input.sk-toggleable__control:checked~div.sk-toggleable__content {max-height: 200px;max-width: 100%;overflow: auto;}#sk-container-id-3 input.sk-toggleable__control:checked~label.sk-toggleable__label-arrow:before {content: \"▾\";}#sk-container-id-3 div.sk-estimator input.sk-toggleable__control:checked~label.sk-toggleable__label {background-color: #d4ebff;}#sk-container-id-3 div.sk-label input.sk-toggleable__control:checked~label.sk-toggleable__label {background-color: #d4ebff;}#sk-container-id-3 input.sk-hidden--visually {border: 0;clip: rect(1px 1px 1px 1px);clip: rect(1px, 1px, 1px, 1px);height: 1px;margin: -1px;overflow: hidden;padding: 0;position: absolute;width: 1px;}#sk-container-id-3 div.sk-estimator {font-family: monospace;background-color: #f0f8ff;border: 1px dotted black;border-radius: 0.25em;box-sizing: border-box;margin-bottom: 0.5em;}#sk-container-id-3 div.sk-estimator:hover {background-color: #d4ebff;}#sk-container-id-3 div.sk-parallel-item::after {content: \"\";width: 100%;border-bottom: 1px solid gray;flex-grow: 1;}#sk-container-id-3 div.sk-label:hover label.sk-toggleable__label {background-color: #d4ebff;}#sk-container-id-3 div.sk-serial::before {content: \"\";position: absolute;border-left: 1px solid gray;box-sizing: border-box;top: 0;bottom: 0;left: 50%;z-index: 0;}#sk-container-id-3 div.sk-serial {display: flex;flex-direction: column;align-items: center;background-color: white;padding-right: 0.2em;padding-left: 0.2em;position: relative;}#sk-container-id-3 div.sk-item {position: relative;z-index: 1;}#sk-container-id-3 div.sk-parallel {display: flex;align-items: stretch;justify-content: center;background-color: white;position: relative;}#sk-container-id-3 div.sk-item::before, #sk-container-id-3 div.sk-parallel-item::before {content: \"\";position: absolute;border-left: 1px solid gray;box-sizing: border-box;top: 0;bottom: 0;left: 50%;z-index: -1;}#sk-container-id-3 div.sk-parallel-item {display: flex;flex-direction: column;z-index: 1;position: relative;background-color: white;}#sk-container-id-3 div.sk-parallel-item:first-child::after {align-self: flex-end;width: 50%;}#sk-container-id-3 div.sk-parallel-item:last-child::after {align-self: flex-start;width: 50%;}#sk-container-id-3 div.sk-parallel-item:only-child::after {width: 0;}#sk-container-id-3 div.sk-dashed-wrapped {border: 1px dashed gray;margin: 0 0.4em 0.5em 0.4em;box-sizing: border-box;padding-bottom: 0.4em;background-color: white;}#sk-container-id-3 div.sk-label label {font-family: monospace;font-weight: bold;display: inline-block;line-height: 1.2em;}#sk-container-id-3 div.sk-label-container {text-align: center;}#sk-container-id-3 div.sk-container {/* jupyter's `normalize.less` sets `[hidden] { display: none; }` but bootstrap.min.css set `[hidden] { display: none !important; }` so we also need the `!important` here to be able to override the default hidden behavior on the sphinx rendered scikit-learn.org. See: https://github.com/scikit-learn/scikit-learn/issues/21755 */display: inline-block !important;position: relative;}#sk-container-id-3 div.sk-text-repr-fallback {display: none;}</style><div id=\"sk-container-id-3\" class=\"sk-top-container\"><div class=\"sk-text-repr-fallback\"><pre>DecisionTreeClassifier()</pre><b>In a Jupyter environment, please rerun this cell to show the HTML representation or trust the notebook. <br />On GitHub, the HTML representation is unable to render, please try loading this page with nbviewer.org.</b></div><div class=\"sk-container\" hidden><div class=\"sk-item\"><div class=\"sk-estimator sk-toggleable\"><input class=\"sk-toggleable__control sk-hidden--visually\" id=\"sk-estimator-id-3\" type=\"checkbox\" checked><label for=\"sk-estimator-id-3\" class=\"sk-toggleable__label sk-toggleable__label-arrow\">DecisionTreeClassifier</label><div class=\"sk-toggleable__content\"><pre>DecisionTreeClassifier()</pre></div></div></div></div></div>"
      ],
      "text/plain": [
       "DecisionTreeClassifier()"
      ]
     },
     "execution_count": 46,
     "metadata": {},
     "output_type": "execute_result"
    }
   ],
   "source": [
    "from sklearn.tree import DecisionTreeClassifier\n",
    "dt_clf=DecisionTreeClassifier()\n",
    "dt_clf.fit(X_train,y_train)"
   ]
  },
  {
   "cell_type": "code",
   "execution_count": 47,
   "metadata": {},
   "outputs": [
    {
     "name": "stdout",
     "output_type": "stream",
     "text": [
      "Accroding to Decison Tree the accuracy is  0.7560975609756098\n"
     ]
    }
   ],
   "source": [
    "y_pred=dt_clf.predict(X_test)\n",
    "print(\"Accroding to Decison Tree the accuracy is \", metrics.accuracy_score(y_test,y_pred))"
   ]
  },
  {
   "cell_type": "markdown",
   "metadata": {},
   "source": [
    "### 4.ML Model: Random Forest Classification"
   ]
  },
  {
   "cell_type": "code",
   "execution_count": 48,
   "metadata": {},
   "outputs": [
    {
     "data": {
      "text/html": [
       "<style>#sk-container-id-4 {color: black;}#sk-container-id-4 pre{padding: 0;}#sk-container-id-4 div.sk-toggleable {background-color: white;}#sk-container-id-4 label.sk-toggleable__label {cursor: pointer;display: block;width: 100%;margin-bottom: 0;padding: 0.3em;box-sizing: border-box;text-align: center;}#sk-container-id-4 label.sk-toggleable__label-arrow:before {content: \"▸\";float: left;margin-right: 0.25em;color: #696969;}#sk-container-id-4 label.sk-toggleable__label-arrow:hover:before {color: black;}#sk-container-id-4 div.sk-estimator:hover label.sk-toggleable__label-arrow:before {color: black;}#sk-container-id-4 div.sk-toggleable__content {max-height: 0;max-width: 0;overflow: hidden;text-align: left;background-color: #f0f8ff;}#sk-container-id-4 div.sk-toggleable__content pre {margin: 0.2em;color: black;border-radius: 0.25em;background-color: #f0f8ff;}#sk-container-id-4 input.sk-toggleable__control:checked~div.sk-toggleable__content {max-height: 200px;max-width: 100%;overflow: auto;}#sk-container-id-4 input.sk-toggleable__control:checked~label.sk-toggleable__label-arrow:before {content: \"▾\";}#sk-container-id-4 div.sk-estimator input.sk-toggleable__control:checked~label.sk-toggleable__label {background-color: #d4ebff;}#sk-container-id-4 div.sk-label input.sk-toggleable__control:checked~label.sk-toggleable__label {background-color: #d4ebff;}#sk-container-id-4 input.sk-hidden--visually {border: 0;clip: rect(1px 1px 1px 1px);clip: rect(1px, 1px, 1px, 1px);height: 1px;margin: -1px;overflow: hidden;padding: 0;position: absolute;width: 1px;}#sk-container-id-4 div.sk-estimator {font-family: monospace;background-color: #f0f8ff;border: 1px dotted black;border-radius: 0.25em;box-sizing: border-box;margin-bottom: 0.5em;}#sk-container-id-4 div.sk-estimator:hover {background-color: #d4ebff;}#sk-container-id-4 div.sk-parallel-item::after {content: \"\";width: 100%;border-bottom: 1px solid gray;flex-grow: 1;}#sk-container-id-4 div.sk-label:hover label.sk-toggleable__label {background-color: #d4ebff;}#sk-container-id-4 div.sk-serial::before {content: \"\";position: absolute;border-left: 1px solid gray;box-sizing: border-box;top: 0;bottom: 0;left: 50%;z-index: 0;}#sk-container-id-4 div.sk-serial {display: flex;flex-direction: column;align-items: center;background-color: white;padding-right: 0.2em;padding-left: 0.2em;position: relative;}#sk-container-id-4 div.sk-item {position: relative;z-index: 1;}#sk-container-id-4 div.sk-parallel {display: flex;align-items: stretch;justify-content: center;background-color: white;position: relative;}#sk-container-id-4 div.sk-item::before, #sk-container-id-4 div.sk-parallel-item::before {content: \"\";position: absolute;border-left: 1px solid gray;box-sizing: border-box;top: 0;bottom: 0;left: 50%;z-index: -1;}#sk-container-id-4 div.sk-parallel-item {display: flex;flex-direction: column;z-index: 1;position: relative;background-color: white;}#sk-container-id-4 div.sk-parallel-item:first-child::after {align-self: flex-end;width: 50%;}#sk-container-id-4 div.sk-parallel-item:last-child::after {align-self: flex-start;width: 50%;}#sk-container-id-4 div.sk-parallel-item:only-child::after {width: 0;}#sk-container-id-4 div.sk-dashed-wrapped {border: 1px dashed gray;margin: 0 0.4em 0.5em 0.4em;box-sizing: border-box;padding-bottom: 0.4em;background-color: white;}#sk-container-id-4 div.sk-label label {font-family: monospace;font-weight: bold;display: inline-block;line-height: 1.2em;}#sk-container-id-4 div.sk-label-container {text-align: center;}#sk-container-id-4 div.sk-container {/* jupyter's `normalize.less` sets `[hidden] { display: none; }` but bootstrap.min.css set `[hidden] { display: none !important; }` so we also need the `!important` here to be able to override the default hidden behavior on the sphinx rendered scikit-learn.org. See: https://github.com/scikit-learn/scikit-learn/issues/21755 */display: inline-block !important;position: relative;}#sk-container-id-4 div.sk-text-repr-fallback {display: none;}</style><div id=\"sk-container-id-4\" class=\"sk-top-container\"><div class=\"sk-text-repr-fallback\"><pre>RandomForestClassifier()</pre><b>In a Jupyter environment, please rerun this cell to show the HTML representation or trust the notebook. <br />On GitHub, the HTML representation is unable to render, please try loading this page with nbviewer.org.</b></div><div class=\"sk-container\" hidden><div class=\"sk-item\"><div class=\"sk-estimator sk-toggleable\"><input class=\"sk-toggleable__control sk-hidden--visually\" id=\"sk-estimator-id-4\" type=\"checkbox\" checked><label for=\"sk-estimator-id-4\" class=\"sk-toggleable__label sk-toggleable__label-arrow\">RandomForestClassifier</label><div class=\"sk-toggleable__content\"><pre>RandomForestClassifier()</pre></div></div></div></div></div>"
      ],
      "text/plain": [
       "RandomForestClassifier()"
      ]
     },
     "execution_count": 48,
     "metadata": {},
     "output_type": "execute_result"
    }
   ],
   "source": [
    "from sklearn.ensemble import RandomForestClassifier\n",
    "RFclf=RandomForestClassifier()\n",
    "RFclf.fit(X_train,y_train)"
   ]
  },
  {
   "cell_type": "code",
   "execution_count": 49,
   "metadata": {},
   "outputs": [
    {
     "name": "stdout",
     "output_type": "stream",
     "text": [
      "[-0.8682432  -0.88465174  0.82760589 -1.05517869 -0.73654686 -1.29548191\n",
      " -1.61373278 -1.18105374 -0.33985348]\n",
      "Accroding to random forest classifier,the accuracy is  0.8536585365853658\n"
     ]
    },
    {
     "data": {
      "text/plain": [
       "0"
      ]
     },
     "execution_count": 49,
     "metadata": {},
     "output_type": "execute_result"
    }
   ],
   "source": [
    "from sklearn import metrics\n",
    "print(X_test[0])\n",
    "y_pred=RFclf.predict(X_test)\n",
    "print(\"Accroding to random forest classifier,the accuracy is \",metrics.accuracy_score(y_test,y_pred))\n",
    "y_pred[0]"
   ]
  },
  {
   "cell_type": "markdown",
   "metadata": {},
   "source": [
    "## Step7 預測"
   ]
  },
  {
   "cell_type": "code",
   "execution_count": 50,
   "metadata": {},
   "outputs": [
    {
     "name": "stdout",
     "output_type": "stream",
     "text": [
      "[-0.2681467   0.82257153 -0.70314959 -1.09643329  0.80066701  1.23146301\n",
      "  1.12574625 -0.473358   -0.23332055]\n",
      "[1]\n"
     ]
    }
   ],
   "source": [
    "#input new data to predict\n",
    "#[35 '男' '已婚' '研究所' '醫生' 1.0 90.0 6.684611727667927 4.605170185988092]\n",
    "#[-0.2681467   0.82257153 -0.70314959 -1.09643329  0.80066701  1.23146301 1.12574625 -0.473358   -0.23332055]\n",
    "#\n",
    "import numpy as np\n",
    "data= np.array([ -0.2681467, 0.82257153, -0.70314959 ,-1.09643329 , 0.80066701 , 1.23146301\n",
    "  ,1.12574625 ,-0.473358  , -0.23332055]) \n",
    "#from sklearn.preprocessing import StandardScaler\n",
    "#ss=StandardScaler()\n",
    "#X_data=ss.fit_transform(data.reshape(-1, 9))\n",
    "X_data=data\n",
    "print(X_data)\n",
    "y_pred=RFclf.predict(X_data.reshape(-1, 9))\n",
    "print(y_pred)"
   ]
  },
  {
   "cell_type": "markdown",
   "metadata": {},
   "source": [
    "# Probem2: 請讀取所給之資料集,直接彙整上述步驟相關程式加入XGBoot,找出最佳之貸款審批預測模型,但 不做資料調整縮小至某區間之動作\n",
    "## 請用最佳模型預測 下列資料是否同意貸款:\n",
    "#### [45 ,'男', '未婚', '大學', '工程師', 2.0, 70.0 , 4.184611727667927, 5.605170185988092]"
   ]
  },
  {
   "cell_type": "code",
   "execution_count": 5,
   "metadata": {},
   "outputs": [],
   "source": [
    "import sklearn\n",
    "import os\n",
    "import numpy as np \n",
    "import pandas as pd \n",
    "from matplotlib import pyplot as plt\n",
    "%matplotlib inline\n",
    "import seaborn as sns"
   ]
  },
  {
   "cell_type": "code",
   "execution_count": 6,
   "metadata": {},
   "outputs": [],
   "source": [
    "from sklearn.model_selection import train_test_split\n",
    "#sklearn之LabelEncoder將Label標準化\n",
    "#LabelEncoder可以將標籤分配一個0—n_classes-1之間的編碼\n",
    "#將各種標籤分配一個可數的連續編號\n",
    "from sklearn.preprocessing import LabelEncoder\n"
   ]
  },
  {
   "cell_type": "code",
   "execution_count": 7,
   "metadata": {
    "scrolled": true
   },
   "outputs": [],
   "source": [
    "df=pd.read_csv('loandata_setU.csv')"
   ]
  },
  {
   "cell_type": "code",
   "execution_count": 8,
   "metadata": {},
   "outputs": [],
   "source": [
    "#性別 ,教育程度,貸款批准資料轉一致化\n",
    "df['性別']=df['性別'].str.replace('M','男')\n",
    "df['性別']=df['性別'].str.replace('F','女')"
   ]
  },
  {
   "cell_type": "code",
   "execution_count": 9,
   "metadata": {},
   "outputs": [],
   "source": [
    "df['教育程度']=df['教育程度'].str.replace('碩士','研究所')\n",
    "df['教育程度']=df['教育程度'].str.replace('博士','研究所')"
   ]
  },
  {
   "cell_type": "code",
   "execution_count": 10,
   "metadata": {},
   "outputs": [],
   "source": [
    "#教育程度,貸款批准資料轉一致化\n",
    "df['貸款批准']=df['貸款批准'].str.replace('不批准','否')\n",
    "df['貸款批准']=df['貸款批准'].str.replace('批准','是')"
   ]
  },
  {
   "cell_type": "code",
   "execution_count": 11,
   "metadata": {},
   "outputs": [],
   "source": [
    "#將年收入,貸款金額 離散數值透過log 轉成常態分布，又名高斯分布\n",
    "df['年收入_log']=np.log(df['年收入'])\n"
   ]
  },
  {
   "cell_type": "code",
   "execution_count": 12,
   "metadata": {},
   "outputs": [],
   "source": [
    "df['貸款金額_log']=np.log(df['貸款金額'])\n"
   ]
  },
  {
   "cell_type": "code",
   "execution_count": 14,
   "metadata": {},
   "outputs": [],
   "source": [
    "# fillna ==>用某一個特定值取代所有 nan\n",
    "# inplace = True：直接对原始对象資料進行修改；\n",
    "# inplace = False：不動原資料，修改结果放在新建的資料。\n",
    "# mode()[0]==>眾數，就是出現频数最高的那个值\n",
    "df['性別'].fillna(df['性別'].mode()[0],inplace=True)\n",
    "df['婚姻狀況'].fillna(df['婚姻狀況'].mode()[0],inplace=True)\n",
    "df['教育程度'].fillna(df['教育程度'].mode()[0],inplace=True)\n",
    "df['職業'].fillna(df['職業'].mode()[0],inplace=True)\n",
    "df['年收入'].fillna(df['年收入'].mode()[0],inplace=True)\n",
    "df['貸款金額'].fillna(df['貸款金額'].mode()[0],inplace=True)\n",
    "df['還款期限'].fillna(df['還款期限'].mode()[0],inplace=True)\n",
    "df['信用狀態'].fillna(df['信用狀態'].mode()[0],inplace=True)\n",
    "df['貸款批准'].fillna(df['貸款批准'].mode()[0],inplace=True)\n",
    "df['年收入_log'].fillna(df['年收入_log'].mode()[0],inplace=True)\n",
    "df['貸款金額_log'].fillna(df['貸款金額_log'].mode()[0],inplace=True)"
   ]
  },
  {
   "cell_type": "code",
   "execution_count": 15,
   "metadata": {},
   "outputs": [],
   "source": [
    "x=df.iloc[:,np.r_[1:6,8:10,11:13]].values\n"
   ]
  },
  {
   "cell_type": "code",
   "execution_count": 16,
   "metadata": {},
   "outputs": [],
   "source": [
    "y=df.iloc[:,10].values\n"
   ]
  },
  {
   "cell_type": "code",
   "execution_count": 17,
   "metadata": {},
   "outputs": [],
   "source": [
    "Labelencoder_x=LabelEncoder()\n",
    "Labelencoder_y=LabelEncoder()"
   ]
  },
  {
   "cell_type": "code",
   "execution_count": 18,
   "metadata": {},
   "outputs": [],
   "source": [
    "for i in range(1,5):\n",
    "    x[:,i]=Labelencoder_x.fit_transform(x[:,i])\n"
   ]
  },
  {
   "cell_type": "code",
   "execution_count": 19,
   "metadata": {},
   "outputs": [],
   "source": [
    "\n",
    "y=Labelencoder_y.fit_transform(y)\n"
   ]
  },
  {
   "cell_type": "code",
   "execution_count": 20,
   "metadata": {},
   "outputs": [],
   "source": [
    "X_train,X_test,y_train,y_test=train_test_split(x,y,test_size=0.2,random_state=0)\n"
   ]
  },
  {
   "cell_type": "markdown",
   "metadata": {},
   "source": [
    "### 1.ML Model: naive_bayes"
   ]
  },
  {
   "cell_type": "code",
   "execution_count": 21,
   "metadata": {},
   "outputs": [
    {
     "data": {
      "text/html": [
       "<style>#sk-container-id-1 {color: black;}#sk-container-id-1 pre{padding: 0;}#sk-container-id-1 div.sk-toggleable {background-color: white;}#sk-container-id-1 label.sk-toggleable__label {cursor: pointer;display: block;width: 100%;margin-bottom: 0;padding: 0.3em;box-sizing: border-box;text-align: center;}#sk-container-id-1 label.sk-toggleable__label-arrow:before {content: \"▸\";float: left;margin-right: 0.25em;color: #696969;}#sk-container-id-1 label.sk-toggleable__label-arrow:hover:before {color: black;}#sk-container-id-1 div.sk-estimator:hover label.sk-toggleable__label-arrow:before {color: black;}#sk-container-id-1 div.sk-toggleable__content {max-height: 0;max-width: 0;overflow: hidden;text-align: left;background-color: #f0f8ff;}#sk-container-id-1 div.sk-toggleable__content pre {margin: 0.2em;color: black;border-radius: 0.25em;background-color: #f0f8ff;}#sk-container-id-1 input.sk-toggleable__control:checked~div.sk-toggleable__content {max-height: 200px;max-width: 100%;overflow: auto;}#sk-container-id-1 input.sk-toggleable__control:checked~label.sk-toggleable__label-arrow:before {content: \"▾\";}#sk-container-id-1 div.sk-estimator input.sk-toggleable__control:checked~label.sk-toggleable__label {background-color: #d4ebff;}#sk-container-id-1 div.sk-label input.sk-toggleable__control:checked~label.sk-toggleable__label {background-color: #d4ebff;}#sk-container-id-1 input.sk-hidden--visually {border: 0;clip: rect(1px 1px 1px 1px);clip: rect(1px, 1px, 1px, 1px);height: 1px;margin: -1px;overflow: hidden;padding: 0;position: absolute;width: 1px;}#sk-container-id-1 div.sk-estimator {font-family: monospace;background-color: #f0f8ff;border: 1px dotted black;border-radius: 0.25em;box-sizing: border-box;margin-bottom: 0.5em;}#sk-container-id-1 div.sk-estimator:hover {background-color: #d4ebff;}#sk-container-id-1 div.sk-parallel-item::after {content: \"\";width: 100%;border-bottom: 1px solid gray;flex-grow: 1;}#sk-container-id-1 div.sk-label:hover label.sk-toggleable__label {background-color: #d4ebff;}#sk-container-id-1 div.sk-serial::before {content: \"\";position: absolute;border-left: 1px solid gray;box-sizing: border-box;top: 0;bottom: 0;left: 50%;z-index: 0;}#sk-container-id-1 div.sk-serial {display: flex;flex-direction: column;align-items: center;background-color: white;padding-right: 0.2em;padding-left: 0.2em;position: relative;}#sk-container-id-1 div.sk-item {position: relative;z-index: 1;}#sk-container-id-1 div.sk-parallel {display: flex;align-items: stretch;justify-content: center;background-color: white;position: relative;}#sk-container-id-1 div.sk-item::before, #sk-container-id-1 div.sk-parallel-item::before {content: \"\";position: absolute;border-left: 1px solid gray;box-sizing: border-box;top: 0;bottom: 0;left: 50%;z-index: -1;}#sk-container-id-1 div.sk-parallel-item {display: flex;flex-direction: column;z-index: 1;position: relative;background-color: white;}#sk-container-id-1 div.sk-parallel-item:first-child::after {align-self: flex-end;width: 50%;}#sk-container-id-1 div.sk-parallel-item:last-child::after {align-self: flex-start;width: 50%;}#sk-container-id-1 div.sk-parallel-item:only-child::after {width: 0;}#sk-container-id-1 div.sk-dashed-wrapped {border: 1px dashed gray;margin: 0 0.4em 0.5em 0.4em;box-sizing: border-box;padding-bottom: 0.4em;background-color: white;}#sk-container-id-1 div.sk-label label {font-family: monospace;font-weight: bold;display: inline-block;line-height: 1.2em;}#sk-container-id-1 div.sk-label-container {text-align: center;}#sk-container-id-1 div.sk-container {/* jupyter's `normalize.less` sets `[hidden] { display: none; }` but bootstrap.min.css set `[hidden] { display: none !important; }` so we also need the `!important` here to be able to override the default hidden behavior on the sphinx rendered scikit-learn.org. See: https://github.com/scikit-learn/scikit-learn/issues/21755 */display: inline-block !important;position: relative;}#sk-container-id-1 div.sk-text-repr-fallback {display: none;}</style><div id=\"sk-container-id-1\" class=\"sk-top-container\"><div class=\"sk-text-repr-fallback\"><pre>GaussianNB()</pre><b>In a Jupyter environment, please rerun this cell to show the HTML representation or trust the notebook. <br />On GitHub, the HTML representation is unable to render, please try loading this page with nbviewer.org.</b></div><div class=\"sk-container\" hidden><div class=\"sk-item\"><div class=\"sk-estimator sk-toggleable\"><input class=\"sk-toggleable__control sk-hidden--visually\" id=\"sk-estimator-id-1\" type=\"checkbox\" checked><label for=\"sk-estimator-id-1\" class=\"sk-toggleable__label sk-toggleable__label-arrow\">GaussianNB</label><div class=\"sk-toggleable__content\"><pre>GaussianNB()</pre></div></div></div></div></div>"
      ],
      "text/plain": [
       "GaussianNB()"
      ]
     },
     "execution_count": 21,
     "metadata": {},
     "output_type": "execute_result"
    }
   ],
   "source": [
    "from sklearn import metrics\n",
    "from sklearn.naive_bayes import GaussianNB\n",
    "clf=GaussianNB()\n",
    "clf.fit(X_train,y_train)"
   ]
  },
  {
   "cell_type": "code",
   "execution_count": 22,
   "metadata": {},
   "outputs": [
    {
     "name": "stdout",
     "output_type": "stream",
     "text": [
      "The naive_bayes accuracy score is  0.8536585365853658\n"
     ]
    }
   ],
   "source": [
    "y_pred=clf.predict(X_test)\n",
    "print(\"The naive_bayes accuracy score is \",metrics.accuracy_score(y_test,y_pred))"
   ]
  },
  {
   "cell_type": "markdown",
   "metadata": {},
   "source": [
    "### 2.ML Model: K Neighbors Classification"
   ]
  },
  {
   "cell_type": "code",
   "execution_count": 23,
   "metadata": {},
   "outputs": [
    {
     "data": {
      "text/html": [
       "<style>#sk-container-id-2 {color: black;}#sk-container-id-2 pre{padding: 0;}#sk-container-id-2 div.sk-toggleable {background-color: white;}#sk-container-id-2 label.sk-toggleable__label {cursor: pointer;display: block;width: 100%;margin-bottom: 0;padding: 0.3em;box-sizing: border-box;text-align: center;}#sk-container-id-2 label.sk-toggleable__label-arrow:before {content: \"▸\";float: left;margin-right: 0.25em;color: #696969;}#sk-container-id-2 label.sk-toggleable__label-arrow:hover:before {color: black;}#sk-container-id-2 div.sk-estimator:hover label.sk-toggleable__label-arrow:before {color: black;}#sk-container-id-2 div.sk-toggleable__content {max-height: 0;max-width: 0;overflow: hidden;text-align: left;background-color: #f0f8ff;}#sk-container-id-2 div.sk-toggleable__content pre {margin: 0.2em;color: black;border-radius: 0.25em;background-color: #f0f8ff;}#sk-container-id-2 input.sk-toggleable__control:checked~div.sk-toggleable__content {max-height: 200px;max-width: 100%;overflow: auto;}#sk-container-id-2 input.sk-toggleable__control:checked~label.sk-toggleable__label-arrow:before {content: \"▾\";}#sk-container-id-2 div.sk-estimator input.sk-toggleable__control:checked~label.sk-toggleable__label {background-color: #d4ebff;}#sk-container-id-2 div.sk-label input.sk-toggleable__control:checked~label.sk-toggleable__label {background-color: #d4ebff;}#sk-container-id-2 input.sk-hidden--visually {border: 0;clip: rect(1px 1px 1px 1px);clip: rect(1px, 1px, 1px, 1px);height: 1px;margin: -1px;overflow: hidden;padding: 0;position: absolute;width: 1px;}#sk-container-id-2 div.sk-estimator {font-family: monospace;background-color: #f0f8ff;border: 1px dotted black;border-radius: 0.25em;box-sizing: border-box;margin-bottom: 0.5em;}#sk-container-id-2 div.sk-estimator:hover {background-color: #d4ebff;}#sk-container-id-2 div.sk-parallel-item::after {content: \"\";width: 100%;border-bottom: 1px solid gray;flex-grow: 1;}#sk-container-id-2 div.sk-label:hover label.sk-toggleable__label {background-color: #d4ebff;}#sk-container-id-2 div.sk-serial::before {content: \"\";position: absolute;border-left: 1px solid gray;box-sizing: border-box;top: 0;bottom: 0;left: 50%;z-index: 0;}#sk-container-id-2 div.sk-serial {display: flex;flex-direction: column;align-items: center;background-color: white;padding-right: 0.2em;padding-left: 0.2em;position: relative;}#sk-container-id-2 div.sk-item {position: relative;z-index: 1;}#sk-container-id-2 div.sk-parallel {display: flex;align-items: stretch;justify-content: center;background-color: white;position: relative;}#sk-container-id-2 div.sk-item::before, #sk-container-id-2 div.sk-parallel-item::before {content: \"\";position: absolute;border-left: 1px solid gray;box-sizing: border-box;top: 0;bottom: 0;left: 50%;z-index: -1;}#sk-container-id-2 div.sk-parallel-item {display: flex;flex-direction: column;z-index: 1;position: relative;background-color: white;}#sk-container-id-2 div.sk-parallel-item:first-child::after {align-self: flex-end;width: 50%;}#sk-container-id-2 div.sk-parallel-item:last-child::after {align-self: flex-start;width: 50%;}#sk-container-id-2 div.sk-parallel-item:only-child::after {width: 0;}#sk-container-id-2 div.sk-dashed-wrapped {border: 1px dashed gray;margin: 0 0.4em 0.5em 0.4em;box-sizing: border-box;padding-bottom: 0.4em;background-color: white;}#sk-container-id-2 div.sk-label label {font-family: monospace;font-weight: bold;display: inline-block;line-height: 1.2em;}#sk-container-id-2 div.sk-label-container {text-align: center;}#sk-container-id-2 div.sk-container {/* jupyter's `normalize.less` sets `[hidden] { display: none; }` but bootstrap.min.css set `[hidden] { display: none !important; }` so we also need the `!important` here to be able to override the default hidden behavior on the sphinx rendered scikit-learn.org. See: https://github.com/scikit-learn/scikit-learn/issues/21755 */display: inline-block !important;position: relative;}#sk-container-id-2 div.sk-text-repr-fallback {display: none;}</style><div id=\"sk-container-id-2\" class=\"sk-top-container\"><div class=\"sk-text-repr-fallback\"><pre>KNeighborsClassifier()</pre><b>In a Jupyter environment, please rerun this cell to show the HTML representation or trust the notebook. <br />On GitHub, the HTML representation is unable to render, please try loading this page with nbviewer.org.</b></div><div class=\"sk-container\" hidden><div class=\"sk-item\"><div class=\"sk-estimator sk-toggleable\"><input class=\"sk-toggleable__control sk-hidden--visually\" id=\"sk-estimator-id-2\" type=\"checkbox\" checked><label for=\"sk-estimator-id-2\" class=\"sk-toggleable__label sk-toggleable__label-arrow\">KNeighborsClassifier</label><div class=\"sk-toggleable__content\"><pre>KNeighborsClassifier()</pre></div></div></div></div></div>"
      ],
      "text/plain": [
       "KNeighborsClassifier()"
      ]
     },
     "execution_count": 23,
     "metadata": {},
     "output_type": "execute_result"
    }
   ],
   "source": [
    "from sklearn.neighbors import KNeighborsClassifier\n",
    "kn_clf=KNeighborsClassifier()\n",
    "kn_clf.fit(X_train,y_train)"
   ]
  },
  {
   "cell_type": "code",
   "execution_count": 24,
   "metadata": {},
   "outputs": [
    {
     "name": "stdout",
     "output_type": "stream",
     "text": [
      "Accroding to KneighborsClassifier the accuracy score is 0.8048780487804879\n"
     ]
    }
   ],
   "source": [
    "y_pred=kn_clf.predict(X_test)\n",
    "print(\"Accroding to KneighborsClassifier the accuracy score is\",metrics.accuracy_score(y_test,y_pred))"
   ]
  },
  {
   "cell_type": "markdown",
   "metadata": {},
   "source": [
    "### 3.ML Model: Decision Tree Classification"
   ]
  },
  {
   "cell_type": "code",
   "execution_count": 25,
   "metadata": {},
   "outputs": [
    {
     "data": {
      "text/html": [
       "<style>#sk-container-id-3 {color: black;}#sk-container-id-3 pre{padding: 0;}#sk-container-id-3 div.sk-toggleable {background-color: white;}#sk-container-id-3 label.sk-toggleable__label {cursor: pointer;display: block;width: 100%;margin-bottom: 0;padding: 0.3em;box-sizing: border-box;text-align: center;}#sk-container-id-3 label.sk-toggleable__label-arrow:before {content: \"▸\";float: left;margin-right: 0.25em;color: #696969;}#sk-container-id-3 label.sk-toggleable__label-arrow:hover:before {color: black;}#sk-container-id-3 div.sk-estimator:hover label.sk-toggleable__label-arrow:before {color: black;}#sk-container-id-3 div.sk-toggleable__content {max-height: 0;max-width: 0;overflow: hidden;text-align: left;background-color: #f0f8ff;}#sk-container-id-3 div.sk-toggleable__content pre {margin: 0.2em;color: black;border-radius: 0.25em;background-color: #f0f8ff;}#sk-container-id-3 input.sk-toggleable__control:checked~div.sk-toggleable__content {max-height: 200px;max-width: 100%;overflow: auto;}#sk-container-id-3 input.sk-toggleable__control:checked~label.sk-toggleable__label-arrow:before {content: \"▾\";}#sk-container-id-3 div.sk-estimator input.sk-toggleable__control:checked~label.sk-toggleable__label {background-color: #d4ebff;}#sk-container-id-3 div.sk-label input.sk-toggleable__control:checked~label.sk-toggleable__label {background-color: #d4ebff;}#sk-container-id-3 input.sk-hidden--visually {border: 0;clip: rect(1px 1px 1px 1px);clip: rect(1px, 1px, 1px, 1px);height: 1px;margin: -1px;overflow: hidden;padding: 0;position: absolute;width: 1px;}#sk-container-id-3 div.sk-estimator {font-family: monospace;background-color: #f0f8ff;border: 1px dotted black;border-radius: 0.25em;box-sizing: border-box;margin-bottom: 0.5em;}#sk-container-id-3 div.sk-estimator:hover {background-color: #d4ebff;}#sk-container-id-3 div.sk-parallel-item::after {content: \"\";width: 100%;border-bottom: 1px solid gray;flex-grow: 1;}#sk-container-id-3 div.sk-label:hover label.sk-toggleable__label {background-color: #d4ebff;}#sk-container-id-3 div.sk-serial::before {content: \"\";position: absolute;border-left: 1px solid gray;box-sizing: border-box;top: 0;bottom: 0;left: 50%;z-index: 0;}#sk-container-id-3 div.sk-serial {display: flex;flex-direction: column;align-items: center;background-color: white;padding-right: 0.2em;padding-left: 0.2em;position: relative;}#sk-container-id-3 div.sk-item {position: relative;z-index: 1;}#sk-container-id-3 div.sk-parallel {display: flex;align-items: stretch;justify-content: center;background-color: white;position: relative;}#sk-container-id-3 div.sk-item::before, #sk-container-id-3 div.sk-parallel-item::before {content: \"\";position: absolute;border-left: 1px solid gray;box-sizing: border-box;top: 0;bottom: 0;left: 50%;z-index: -1;}#sk-container-id-3 div.sk-parallel-item {display: flex;flex-direction: column;z-index: 1;position: relative;background-color: white;}#sk-container-id-3 div.sk-parallel-item:first-child::after {align-self: flex-end;width: 50%;}#sk-container-id-3 div.sk-parallel-item:last-child::after {align-self: flex-start;width: 50%;}#sk-container-id-3 div.sk-parallel-item:only-child::after {width: 0;}#sk-container-id-3 div.sk-dashed-wrapped {border: 1px dashed gray;margin: 0 0.4em 0.5em 0.4em;box-sizing: border-box;padding-bottom: 0.4em;background-color: white;}#sk-container-id-3 div.sk-label label {font-family: monospace;font-weight: bold;display: inline-block;line-height: 1.2em;}#sk-container-id-3 div.sk-label-container {text-align: center;}#sk-container-id-3 div.sk-container {/* jupyter's `normalize.less` sets `[hidden] { display: none; }` but bootstrap.min.css set `[hidden] { display: none !important; }` so we also need the `!important` here to be able to override the default hidden behavior on the sphinx rendered scikit-learn.org. See: https://github.com/scikit-learn/scikit-learn/issues/21755 */display: inline-block !important;position: relative;}#sk-container-id-3 div.sk-text-repr-fallback {display: none;}</style><div id=\"sk-container-id-3\" class=\"sk-top-container\"><div class=\"sk-text-repr-fallback\"><pre>DecisionTreeClassifier()</pre><b>In a Jupyter environment, please rerun this cell to show the HTML representation or trust the notebook. <br />On GitHub, the HTML representation is unable to render, please try loading this page with nbviewer.org.</b></div><div class=\"sk-container\" hidden><div class=\"sk-item\"><div class=\"sk-estimator sk-toggleable\"><input class=\"sk-toggleable__control sk-hidden--visually\" id=\"sk-estimator-id-3\" type=\"checkbox\" checked><label for=\"sk-estimator-id-3\" class=\"sk-toggleable__label sk-toggleable__label-arrow\">DecisionTreeClassifier</label><div class=\"sk-toggleable__content\"><pre>DecisionTreeClassifier()</pre></div></div></div></div></div>"
      ],
      "text/plain": [
       "DecisionTreeClassifier()"
      ]
     },
     "execution_count": 25,
     "metadata": {},
     "output_type": "execute_result"
    }
   ],
   "source": [
    "from sklearn.tree import DecisionTreeClassifier\n",
    "dt_clf=DecisionTreeClassifier()\n",
    "dt_clf.fit(X_train,y_train)"
   ]
  },
  {
   "cell_type": "code",
   "execution_count": 26,
   "metadata": {},
   "outputs": [
    {
     "name": "stdout",
     "output_type": "stream",
     "text": [
      "Accroding to Decison Tree the accuracy is  0.7073170731707317\n"
     ]
    }
   ],
   "source": [
    "y_pred=dt_clf.predict(X_test)\n",
    "print(\"Accroding to Decison Tree the accuracy is \", metrics.accuracy_score(y_test,y_pred))"
   ]
  },
  {
   "cell_type": "markdown",
   "metadata": {},
   "source": [
    "### 4.ML Model: Random Forest Classification"
   ]
  },
  {
   "cell_type": "code",
   "execution_count": 27,
   "metadata": {},
   "outputs": [
    {
     "data": {
      "text/html": [
       "<style>#sk-container-id-4 {color: black;}#sk-container-id-4 pre{padding: 0;}#sk-container-id-4 div.sk-toggleable {background-color: white;}#sk-container-id-4 label.sk-toggleable__label {cursor: pointer;display: block;width: 100%;margin-bottom: 0;padding: 0.3em;box-sizing: border-box;text-align: center;}#sk-container-id-4 label.sk-toggleable__label-arrow:before {content: \"▸\";float: left;margin-right: 0.25em;color: #696969;}#sk-container-id-4 label.sk-toggleable__label-arrow:hover:before {color: black;}#sk-container-id-4 div.sk-estimator:hover label.sk-toggleable__label-arrow:before {color: black;}#sk-container-id-4 div.sk-toggleable__content {max-height: 0;max-width: 0;overflow: hidden;text-align: left;background-color: #f0f8ff;}#sk-container-id-4 div.sk-toggleable__content pre {margin: 0.2em;color: black;border-radius: 0.25em;background-color: #f0f8ff;}#sk-container-id-4 input.sk-toggleable__control:checked~div.sk-toggleable__content {max-height: 200px;max-width: 100%;overflow: auto;}#sk-container-id-4 input.sk-toggleable__control:checked~label.sk-toggleable__label-arrow:before {content: \"▾\";}#sk-container-id-4 div.sk-estimator input.sk-toggleable__control:checked~label.sk-toggleable__label {background-color: #d4ebff;}#sk-container-id-4 div.sk-label input.sk-toggleable__control:checked~label.sk-toggleable__label {background-color: #d4ebff;}#sk-container-id-4 input.sk-hidden--visually {border: 0;clip: rect(1px 1px 1px 1px);clip: rect(1px, 1px, 1px, 1px);height: 1px;margin: -1px;overflow: hidden;padding: 0;position: absolute;width: 1px;}#sk-container-id-4 div.sk-estimator {font-family: monospace;background-color: #f0f8ff;border: 1px dotted black;border-radius: 0.25em;box-sizing: border-box;margin-bottom: 0.5em;}#sk-container-id-4 div.sk-estimator:hover {background-color: #d4ebff;}#sk-container-id-4 div.sk-parallel-item::after {content: \"\";width: 100%;border-bottom: 1px solid gray;flex-grow: 1;}#sk-container-id-4 div.sk-label:hover label.sk-toggleable__label {background-color: #d4ebff;}#sk-container-id-4 div.sk-serial::before {content: \"\";position: absolute;border-left: 1px solid gray;box-sizing: border-box;top: 0;bottom: 0;left: 50%;z-index: 0;}#sk-container-id-4 div.sk-serial {display: flex;flex-direction: column;align-items: center;background-color: white;padding-right: 0.2em;padding-left: 0.2em;position: relative;}#sk-container-id-4 div.sk-item {position: relative;z-index: 1;}#sk-container-id-4 div.sk-parallel {display: flex;align-items: stretch;justify-content: center;background-color: white;position: relative;}#sk-container-id-4 div.sk-item::before, #sk-container-id-4 div.sk-parallel-item::before {content: \"\";position: absolute;border-left: 1px solid gray;box-sizing: border-box;top: 0;bottom: 0;left: 50%;z-index: -1;}#sk-container-id-4 div.sk-parallel-item {display: flex;flex-direction: column;z-index: 1;position: relative;background-color: white;}#sk-container-id-4 div.sk-parallel-item:first-child::after {align-self: flex-end;width: 50%;}#sk-container-id-4 div.sk-parallel-item:last-child::after {align-self: flex-start;width: 50%;}#sk-container-id-4 div.sk-parallel-item:only-child::after {width: 0;}#sk-container-id-4 div.sk-dashed-wrapped {border: 1px dashed gray;margin: 0 0.4em 0.5em 0.4em;box-sizing: border-box;padding-bottom: 0.4em;background-color: white;}#sk-container-id-4 div.sk-label label {font-family: monospace;font-weight: bold;display: inline-block;line-height: 1.2em;}#sk-container-id-4 div.sk-label-container {text-align: center;}#sk-container-id-4 div.sk-container {/* jupyter's `normalize.less` sets `[hidden] { display: none; }` but bootstrap.min.css set `[hidden] { display: none !important; }` so we also need the `!important` here to be able to override the default hidden behavior on the sphinx rendered scikit-learn.org. See: https://github.com/scikit-learn/scikit-learn/issues/21755 */display: inline-block !important;position: relative;}#sk-container-id-4 div.sk-text-repr-fallback {display: none;}</style><div id=\"sk-container-id-4\" class=\"sk-top-container\"><div class=\"sk-text-repr-fallback\"><pre>RandomForestClassifier()</pre><b>In a Jupyter environment, please rerun this cell to show the HTML representation or trust the notebook. <br />On GitHub, the HTML representation is unable to render, please try loading this page with nbviewer.org.</b></div><div class=\"sk-container\" hidden><div class=\"sk-item\"><div class=\"sk-estimator sk-toggleable\"><input class=\"sk-toggleable__control sk-hidden--visually\" id=\"sk-estimator-id-4\" type=\"checkbox\" checked><label for=\"sk-estimator-id-4\" class=\"sk-toggleable__label sk-toggleable__label-arrow\">RandomForestClassifier</label><div class=\"sk-toggleable__content\"><pre>RandomForestClassifier()</pre></div></div></div></div></div>"
      ],
      "text/plain": [
       "RandomForestClassifier()"
      ]
     },
     "execution_count": 27,
     "metadata": {},
     "output_type": "execute_result"
    }
   ],
   "source": [
    "from sklearn.ensemble import RandomForestClassifier\n",
    "RFclf=RandomForestClassifier()\n",
    "RFclf.fit(X_train,y_train)"
   ]
  },
  {
   "cell_type": "code",
   "execution_count": 28,
   "metadata": {},
   "outputs": [
    {
     "name": "stdout",
     "output_type": "stream",
     "text": [
      "[29 0 1 0 1 1.0 65.0 3.6888794541139363 4.0943445622221]\n",
      "Accroding to random forest classifier,the accuracy is  0.8292682926829268\n"
     ]
    },
    {
     "data": {
      "text/plain": [
       "0"
      ]
     },
     "execution_count": 28,
     "metadata": {},
     "output_type": "execute_result"
    }
   ],
   "source": [
    "from sklearn import metrics\n",
    "print(X_test[0])\n",
    "y_pred=RFclf.predict(X_test)\n",
    "print(\"Accroding to random forest classifier,the accuracy is \",metrics.accuracy_score(y_test,y_pred))\n",
    "y_pred[0]"
   ]
  },
  {
   "cell_type": "markdown",
   "metadata": {},
   "source": [
    "5.XgBoot"
   ]
  },
  {
   "cell_type": "code",
   "execution_count": 29,
   "metadata": {},
   "outputs": [],
   "source": [
    "import numpy as np\n",
    "from xgboost import XGBClassifier"
   ]
  },
  {
   "cell_type": "code",
   "execution_count": 40,
   "metadata": {},
   "outputs": [],
   "source": [
    "from  xgboost import XGBClassifier\n",
    "# 建立 XGBClassifier 模型\n",
    "dt = XGBClassifier(n_estimators=15, learning_rate= 0.05)"
   ]
  },
  {
   "cell_type": "code",
   "execution_count": 41,
   "metadata": {},
   "outputs": [
    {
     "data": {
      "text/html": [
       "<style>#sk-container-id-8 {color: black;}#sk-container-id-8 pre{padding: 0;}#sk-container-id-8 div.sk-toggleable {background-color: white;}#sk-container-id-8 label.sk-toggleable__label {cursor: pointer;display: block;width: 100%;margin-bottom: 0;padding: 0.3em;box-sizing: border-box;text-align: center;}#sk-container-id-8 label.sk-toggleable__label-arrow:before {content: \"▸\";float: left;margin-right: 0.25em;color: #696969;}#sk-container-id-8 label.sk-toggleable__label-arrow:hover:before {color: black;}#sk-container-id-8 div.sk-estimator:hover label.sk-toggleable__label-arrow:before {color: black;}#sk-container-id-8 div.sk-toggleable__content {max-height: 0;max-width: 0;overflow: hidden;text-align: left;background-color: #f0f8ff;}#sk-container-id-8 div.sk-toggleable__content pre {margin: 0.2em;color: black;border-radius: 0.25em;background-color: #f0f8ff;}#sk-container-id-8 input.sk-toggleable__control:checked~div.sk-toggleable__content {max-height: 200px;max-width: 100%;overflow: auto;}#sk-container-id-8 input.sk-toggleable__control:checked~label.sk-toggleable__label-arrow:before {content: \"▾\";}#sk-container-id-8 div.sk-estimator input.sk-toggleable__control:checked~label.sk-toggleable__label {background-color: #d4ebff;}#sk-container-id-8 div.sk-label input.sk-toggleable__control:checked~label.sk-toggleable__label {background-color: #d4ebff;}#sk-container-id-8 input.sk-hidden--visually {border: 0;clip: rect(1px 1px 1px 1px);clip: rect(1px, 1px, 1px, 1px);height: 1px;margin: -1px;overflow: hidden;padding: 0;position: absolute;width: 1px;}#sk-container-id-8 div.sk-estimator {font-family: monospace;background-color: #f0f8ff;border: 1px dotted black;border-radius: 0.25em;box-sizing: border-box;margin-bottom: 0.5em;}#sk-container-id-8 div.sk-estimator:hover {background-color: #d4ebff;}#sk-container-id-8 div.sk-parallel-item::after {content: \"\";width: 100%;border-bottom: 1px solid gray;flex-grow: 1;}#sk-container-id-8 div.sk-label:hover label.sk-toggleable__label {background-color: #d4ebff;}#sk-container-id-8 div.sk-serial::before {content: \"\";position: absolute;border-left: 1px solid gray;box-sizing: border-box;top: 0;bottom: 0;left: 50%;z-index: 0;}#sk-container-id-8 div.sk-serial {display: flex;flex-direction: column;align-items: center;background-color: white;padding-right: 0.2em;padding-left: 0.2em;position: relative;}#sk-container-id-8 div.sk-item {position: relative;z-index: 1;}#sk-container-id-8 div.sk-parallel {display: flex;align-items: stretch;justify-content: center;background-color: white;position: relative;}#sk-container-id-8 div.sk-item::before, #sk-container-id-8 div.sk-parallel-item::before {content: \"\";position: absolute;border-left: 1px solid gray;box-sizing: border-box;top: 0;bottom: 0;left: 50%;z-index: -1;}#sk-container-id-8 div.sk-parallel-item {display: flex;flex-direction: column;z-index: 1;position: relative;background-color: white;}#sk-container-id-8 div.sk-parallel-item:first-child::after {align-self: flex-end;width: 50%;}#sk-container-id-8 div.sk-parallel-item:last-child::after {align-self: flex-start;width: 50%;}#sk-container-id-8 div.sk-parallel-item:only-child::after {width: 0;}#sk-container-id-8 div.sk-dashed-wrapped {border: 1px dashed gray;margin: 0 0.4em 0.5em 0.4em;box-sizing: border-box;padding-bottom: 0.4em;background-color: white;}#sk-container-id-8 div.sk-label label {font-family: monospace;font-weight: bold;display: inline-block;line-height: 1.2em;}#sk-container-id-8 div.sk-label-container {text-align: center;}#sk-container-id-8 div.sk-container {/* jupyter's `normalize.less` sets `[hidden] { display: none; }` but bootstrap.min.css set `[hidden] { display: none !important; }` so we also need the `!important` here to be able to override the default hidden behavior on the sphinx rendered scikit-learn.org. See: https://github.com/scikit-learn/scikit-learn/issues/21755 */display: inline-block !important;position: relative;}#sk-container-id-8 div.sk-text-repr-fallback {display: none;}</style><div id=\"sk-container-id-8\" class=\"sk-top-container\"><div class=\"sk-text-repr-fallback\"><pre>XGBClassifier(base_score=None, booster=None, callbacks=None,\n",
       "              colsample_bylevel=None, colsample_bynode=None,\n",
       "              colsample_bytree=None, device=None, early_stopping_rounds=None,\n",
       "              enable_categorical=False, eval_metric=None, feature_types=None,\n",
       "              gamma=None, grow_policy=None, importance_type=None,\n",
       "              interaction_constraints=None, learning_rate=0.05, max_bin=None,\n",
       "              max_cat_threshold=None, max_cat_to_onehot=None,\n",
       "              max_delta_step=None, max_depth=None, max_leaves=None,\n",
       "              min_child_weight=None, missing=nan, monotone_constraints=None,\n",
       "              multi_strategy=None, n_estimators=15, n_jobs=None,\n",
       "              num_parallel_tree=None, random_state=None, ...)</pre><b>In a Jupyter environment, please rerun this cell to show the HTML representation or trust the notebook. <br />On GitHub, the HTML representation is unable to render, please try loading this page with nbviewer.org.</b></div><div class=\"sk-container\" hidden><div class=\"sk-item\"><div class=\"sk-estimator sk-toggleable\"><input class=\"sk-toggleable__control sk-hidden--visually\" id=\"sk-estimator-id-8\" type=\"checkbox\" checked><label for=\"sk-estimator-id-8\" class=\"sk-toggleable__label sk-toggleable__label-arrow\">XGBClassifier</label><div class=\"sk-toggleable__content\"><pre>XGBClassifier(base_score=None, booster=None, callbacks=None,\n",
       "              colsample_bylevel=None, colsample_bynode=None,\n",
       "              colsample_bytree=None, device=None, early_stopping_rounds=None,\n",
       "              enable_categorical=False, eval_metric=None, feature_types=None,\n",
       "              gamma=None, grow_policy=None, importance_type=None,\n",
       "              interaction_constraints=None, learning_rate=0.05, max_bin=None,\n",
       "              max_cat_threshold=None, max_cat_to_onehot=None,\n",
       "              max_delta_step=None, max_depth=None, max_leaves=None,\n",
       "              min_child_weight=None, missing=nan, monotone_constraints=None,\n",
       "              multi_strategy=None, n_estimators=15, n_jobs=None,\n",
       "              num_parallel_tree=None, random_state=None, ...)</pre></div></div></div></div></div>"
      ],
      "text/plain": [
       "XGBClassifier(base_score=None, booster=None, callbacks=None,\n",
       "              colsample_bylevel=None, colsample_bynode=None,\n",
       "              colsample_bytree=None, device=None, early_stopping_rounds=None,\n",
       "              enable_categorical=False, eval_metric=None, feature_types=None,\n",
       "              gamma=None, grow_policy=None, importance_type=None,\n",
       "              interaction_constraints=None, learning_rate=0.05, max_bin=None,\n",
       "              max_cat_threshold=None, max_cat_to_onehot=None,\n",
       "              max_delta_step=None, max_depth=None, max_leaves=None,\n",
       "              min_child_weight=None, missing=nan, monotone_constraints=None,\n",
       "              multi_strategy=None, n_estimators=15, n_jobs=None,\n",
       "              num_parallel_tree=None, random_state=None, ...)"
      ]
     },
     "execution_count": 41,
     "metadata": {},
     "output_type": "execute_result"
    }
   ],
   "source": [
    "dt.fit(X_train, y_train)"
   ]
  },
  {
   "cell_type": "code",
   "execution_count": 42,
   "metadata": {},
   "outputs": [
    {
     "name": "stdout",
     "output_type": "stream",
     "text": [
      "[29 0 1 0 1 1.0 65.0 3.6888794541139363 4.0943445622221]\n",
      "Accroding to random forest classifier,the accuracy is  0.8048780487804879\n"
     ]
    },
    {
     "data": {
      "text/plain": [
       "0"
      ]
     },
     "execution_count": 42,
     "metadata": {},
     "output_type": "execute_result"
    }
   ],
   "source": [
    "from sklearn import metrics\n",
    "print(X_test[0])\n",
    "y_pred=dt.predict(X_test)\n",
    "print(\"Accroding to random forest classifier,the accuracy is \",metrics.accuracy_score(y_test,y_pred))\n",
    "y_pred[0]"
   ]
  },
  {
   "cell_type": "markdown",
   "metadata": {},
   "source": [
    "## Step7 預測"
   ]
  },
  {
   "cell_type": "code",
   "execution_count": 86,
   "metadata": {},
   "outputs": [
    {
     "name": "stdout",
     "output_type": "stream",
     "text": [
      "[45.          1.          1.          0.          2.          2.\n",
      " 70.          4.18461173  5.60517019]\n",
      "[0]\n"
     ]
    }
   ],
   "source": [
    "#input new data to predict\n",
    "#[35 '男' '已婚' '研究所' '醫生' 1.0 90.0 6.684611727667927 4.605170185988092]\n",
    "#[-0.2681467   0.82257153 -0.70314959 -1.09643329  0.80066701  1.23146301 1.12574625 -0.473358   -0.23332055]\n",
    "#[45 ,'男', '未婚', '大學', '工程師', 2.0, 70.0 , 4.184611727667927, 5.605170185988092]\n",
    "import numpy as np\n",
    "data= np.array([ 45 ,1, 1, 0, 2, 2.0, 70.0 , 4.184611727667927, 5.605170185988092]) \n",
    "#from sklearn.preprocessing import StandardScaler\n",
    "#ss=StandardScaler()\n",
    "#X_data=ss.fit_transform(data.reshape(-1, 9))\n",
    "X_data=data\n",
    "print(X_data)\n",
    "y_pred=RFclf.predict(X_data.reshape(-1, 9))\n",
    "print(y_pred)"
   ]
  },
  {
   "cell_type": "code",
   "execution_count": null,
   "metadata": {},
   "outputs": [],
   "source": []
  },
  {
   "cell_type": "code",
   "execution_count": null,
   "metadata": {},
   "outputs": [],
   "source": []
  },
  {
   "cell_type": "code",
   "execution_count": null,
   "metadata": {},
   "outputs": [],
   "source": []
  },
  {
   "cell_type": "code",
   "execution_count": null,
   "metadata": {},
   "outputs": [],
   "source": []
  },
  {
   "cell_type": "code",
   "execution_count": null,
   "metadata": {},
   "outputs": [],
   "source": []
  },
  {
   "cell_type": "code",
   "execution_count": null,
   "metadata": {},
   "outputs": [],
   "source": []
  }
 ],
 "metadata": {
  "kernelspec": {
   "display_name": "Python 3 (ipykernel)",
   "language": "python",
   "name": "python3"
  },
  "language_info": {
   "codemirror_mode": {
    "name": "ipython",
    "version": 3
   },
   "file_extension": ".py",
   "mimetype": "text/x-python",
   "name": "python",
   "nbconvert_exporter": "python",
   "pygments_lexer": "ipython3",
   "version": "3.11.4"
  }
 },
 "nbformat": 4,
 "nbformat_minor": 2
}
